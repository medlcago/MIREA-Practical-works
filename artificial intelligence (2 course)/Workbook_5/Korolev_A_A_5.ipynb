{
  "nbformat": 4,
  "nbformat_minor": 0,
  "metadata": {
    "colab": {
      "provenance": []
    },
    "kernelspec": {
      "name": "python3",
      "display_name": "Python 3"
    },
    "language_info": {
      "name": "python"
    }
  },
  "cells": [
    {
      "cell_type": "markdown",
      "source": [
        "## **Рабочая тетрадь № 5**"
      ],
      "metadata": {
        "id": "zDGyj6IkJBn_"
      }
    },
    {
      "cell_type": "markdown",
      "source": [
        "# **Деревья принятия решений**"
      ],
      "metadata": {
        "id": "0RrLDIPWJTq3"
      }
    },
    {
      "cell_type": "markdown",
      "source": [
        "Деревья решений являются одним из наиболее эффективных инструментов интеллектуального анализа данных и предсказательной аналитики, которые позволяют решать задачи классификации и регрессии.\n",
        "\n",
        "Перед тем как непосредственно перейти к решению задач с использование данного инструмента рассмотрим общее понятие \"дерево\" в информатике и способы задания деревьев в языке Python.\n",
        "\n",
        "Деревья принадлежат к числу основных структур данных, используемых в программировании. Древовидная структура является одним из способов представления иерархической структуры в графическом виде. Такое название она получила потому, что граф выглядит как перевернутое дерево. Корень дерева (корневой узел) находится на самом верху, а листья (потомки) — внизу.\n",
        "\n",
        "Деревья широко применяются в компьютерных технологиях. Примером является файловая система, представляющая собой иерархическую структуру из файлов и каталогов.\n",
        "\n",
        "Схематично дерево и его основные элементы приведены на рисунке ниже.\n",
        "<p align=\"center\">\n",
        "  <img src=\"https://i.ibb.co/k0m3jSQ/image.png\" alt=\"Схематичное дерево\" style=\"display: block; margin: 0 auto;\">\n",
        "</p>\n",
        "\n",
        "На рисунке изображены родительские отношения (ребра, ветви дерева) между узлами (вершинами) дерева. На верхнем уровне каждый «родитель» указывает на своих «потомков». То есть в этой иерархической структуре вершина всегда «знает» своих потомков.\n",
        "\n",
        "Для того чтобы более точно оперировать структурой Дерево, нужно дать определение некоторым ключевым понятиям:\n",
        "* корневой узел — самый верхний узел дерева, он не имеет предков;\n",
        "* лист, листовой или терминальный узел — конечный узел, то\n",
        "есть не имеющий потомков;\n",
        "* внутренний узел — любой узел дерева, имеющий потомков, то\n",
        "есть не лист.\n",
        "\n",
        "С корневого узла начинается выполнение большинства операций над\n",
        "деревом. Чтобы получить доступ к любому элементу структуры,\n",
        "необходимо, переходя по ветвям, перебирать элементы, начиная с головы\n",
        "— корневого узла. Корневой узел — это своеобразный вход в дерево.\n",
        "\n",
        "\n",
        "Большинство алгоритмов работы с деревом строятся на том, что каждый\n",
        "узел дерева рассматриваются как корневой узел поддерева, «растущего» из\n",
        "этого узла. Такой подход дает возможность зацикливать выполнение\n",
        "операций при прохождении по элементам дерева. Но в связи с тем, что при\n",
        "прохождении по дереву (в отличие от массива) неизвестно сколько шагов\n",
        "будет в этом цикле, используется другой инструмент — рекурсивный вызов.\n",
        "\n",
        "\n",
        "Двоичное (бинарное) дерево — это древовидная структура данных,\n",
        "где каждый узел имеет не более двух детей. Этих детей называют левым (Л)\n",
        "и правым (П) потомком или «сыном». На рисунке выше дерево является\n",
        "двоичный.\n",
        "\n"
      ],
      "metadata": {
        "id": "fnXYk1d5JWFr"
      }
    },
    {
      "cell_type": "markdown",
      "source": [
        "# **Основы объектно- ориентированного программирования в Python**"
      ],
      "metadata": {
        "id": "ttJVajq-LCFq"
      }
    },
    {
      "cell_type": "markdown",
      "source": [
        "В предыдущих разделах мы рассматривали в основном традиционное программирование на Python, когда вся программа разбивается (или не разбивается) на отдельные модули, содержащие функции. Такое программирование соответствует парадигме структурного программирования. Само структурное программирование оказалось колоссальным шагом в построении программ. Однако еще большим шагом является парадигма объектно-ориентированного программирования. В этом подходе программа состоит из отдельных классов, которые объединяют в себе как переменные, называемые полями класса, так и функции, называемые методами класса.\n",
        "\n",
        "На самом деле мы уже сталкивались с классами, когда создавали объекты для решения задач классификации и регрессии в Scikit-learn. В данном разделе подробнее познакомимся с основами объектно-ориентированного программирования (ООП).\n",
        "\n",
        "Объектно-ориентированное программирование состоит из трех китов:\n",
        "* инкапсуляция;\n",
        "* наследование;\n",
        "* полиморфизм.\n",
        "\n",
        "Рассмотрим на примерах эти понятия.\n",
        "\n",
        "Первое - инкапсуляция - это объединение в одном объекте данных и программного кода таким образом, что для внешней работы внутренняя часть объекта может быть скрыта от пользователя. Инкапсуляция может быть реализована не только с помощью классов, но и с помощью модулей, но классы позволяют сделать инкапсуляцию естественным путем. Создадим класс в Python. Для этого необходимо определить класс (новый тип данных) и создать объект, называемый экземпляром класса. Мы рекомендуем имена классов начинать с заглавной буквы \"T\", подчеркивая тем самым, что речь идет о типе данных.\n",
        "\n",
        "Делается это так:"
      ],
      "metadata": {
        "id": "cfqoBAtALGg8"
      }
    },
    {
      "cell_type": "code",
      "source": [
        "class TAnimal:\n",
        "  def __init__(self, name):\n",
        "      self.name = name\n",
        "  def say(self):\n",
        "      print(self.name)"
      ],
      "metadata": {
        "id": "atkmPVxXLzp6"
      },
      "execution_count": null,
      "outputs": []
    },
    {
      "cell_type": "markdown",
      "source": [
        "Теперь создадим экземпляр этого класса. Экземпляр класса представляет собой переменную, с которой можно работать обычным образом."
      ],
      "metadata": {
        "id": "syMwInYqL37d"
      }
    },
    {
      "cell_type": "code",
      "source": [
        "Animal = TAnimal(\"Обезьяна\")\n",
        "Animal.say()"
      ],
      "metadata": {
        "colab": {
          "base_uri": "https://localhost:8080/"
        },
        "id": "yq9GcxDgL8NP",
        "outputId": "cbf89a5d-7bcf-4c21-eae2-291e495adedf"
      },
      "execution_count": null,
      "outputs": [
        {
          "output_type": "stream",
          "name": "stdout",
          "text": [
            "Обезьяна\n"
          ]
        }
      ]
    },
    {
      "cell_type": "markdown",
      "source": [
        "Рассмотрим синтаксис Python при создании классов. Все начинается с ключевого слова class. Далее в блоке из отступов мы определяем переменные, которые будем называть полями и функции, которые называются методами. Методы определяются, как обычные функции и могут возвращать значения. Единственное отличие состоит в том, что у всех методов есть обязательный первый параметр, который по традиции всегда называем self в котором передается ссылка на экземпляр класса. Поэтому когда внутри класса метод хочет обратиться к своему полю, то необходимо использовать конструкцию self.name. Заметим, что при вызове методов мы первый параметр не задаем.\n",
        "\n",
        "Далее, у каждого класса есть метод, с именем __init__, который называется конструктором класса. Этот метод вызывается в момент создания экземпляра Animal = TAnimal(\"Обезьяна\"). Конструктор может иметь любое количество параметров. Предположим, что теперь нам нужно сделать класс для описания конкретного животного - кошки. Для это мы используем наследование классов, когда можно определять новые классы, как наследники существующих. При этом новый класс будет иметь все поля и методы наследуемого класса.\n",
        "\n",
        "Вот как это делается:"
      ],
      "metadata": {
        "id": "_1VzWF6kMKa4"
      }
    },
    {
      "cell_type": "code",
      "source": [
        "class TAnimal:\n",
        "\n",
        "    def __init__(self, name):\n",
        "        self.name = name\n",
        "\n",
        "    def say(self):\n",
        "        print(self.name)\n",
        "\n",
        "\n",
        "class TCat(TAnimal):\n",
        "    def may(self):\n",
        "        print(\"Мяу!\")\n",
        "\n",
        "\n",
        "Cat = TCat(\"Кошка\")\n",
        "Cat.say()\n",
        "Cat.may()"
      ],
      "metadata": {
        "colab": {
          "base_uri": "https://localhost:8080/"
        },
        "id": "2eIVoJy8MTq7",
        "outputId": "e1cef2ec-a9a0-4cba-8aeb-98fff6438e8c"
      },
      "execution_count": null,
      "outputs": [
        {
          "output_type": "stream",
          "name": "stdout",
          "text": [
            "Кошка\n",
            "Мяу!\n"
          ]
        }
      ]
    },
    {
      "cell_type": "markdown",
      "source": [
        "Мы видим, что у наследованного класса сохранился конструктор и метод say. В последнем примере мы выдели, что наследный класс, также как и исходный имеет конструктор, который принимает в качестве параметра - название животного тогда, что в данном случае излишне. Для решения этой проблемы мы воспользуемся объектно-ориентированным механизмом - полиморфизмом. Полиморфизм - это возможность замены методов при наследовании. Сделаем так, чтобы не нужно было передавать в конструкторе название \"Кошка\"."
      ],
      "metadata": {
        "id": "ZdzSifcMMlom"
      }
    },
    {
      "cell_type": "code",
      "source": [
        "class TCat(TAnimal):\n",
        "    def __init__(self):\n",
        "        super().__init__(\"Кошка\")\n",
        "\n",
        "    def may(self):\n",
        "        print(\"Мяу!\")\n",
        "\n",
        "\n",
        "Cat = TCat()\n",
        "Cat.say()\n",
        "Cat.may()"
      ],
      "metadata": {
        "colab": {
          "base_uri": "https://localhost:8080/"
        },
        "id": "xfCN5e5gMsbW",
        "outputId": "30c4ef04-d436-4546-f2cc-f6ec58c38bbe"
      },
      "execution_count": null,
      "outputs": [
        {
          "output_type": "stream",
          "name": "stdout",
          "text": [
            "Кошка\n",
            "Мяу!\n"
          ]
        }
      ]
    },
    {
      "cell_type": "markdown",
      "source": [
        "Результат выполнения этой программы будет аналогичный, но теперь при использовании этого класса нам не нужно передавать в конструкторе никаких параметров. Полиморфное перекрытие методов делается простым объявлением метода (в данном случае конструктора). При этом нельзя можно менять входные параметры. Если в результате написания кода метода возникает необходимость вызвать перекрытый метод, то для этого необходимо использовать функцию super(), которая по сути просто возвращает ссылку на родительский класс. Самое удивительное в полиморфизме, что изменяя метод, он меняется даже когда на него есть ссылки родительского класса. Рассмотрим еще один пример.\n",
        "\n",
        "Пусть у нас есть класс:"
      ],
      "metadata": {
        "id": "EzNfsPFANELT"
      }
    },
    {
      "cell_type": "code",
      "source": [
        "class TDo:\n",
        "    def Operation(self, x, y):\n",
        "        return x + y\n",
        "\n",
        "    def Run(self):\n",
        "        x = int(input(\"Enter x > \"))\n",
        "        y = int(input(\"Enter y > \"))\n",
        "        z = self.Operation(x, y)\n",
        "        print(f\"Result = {z}\")\n",
        "\n",
        "\n",
        "Do = TDo()\n",
        "Do.Run()"
      ],
      "metadata": {
        "id": "gWfN2eZfNjTE"
      },
      "execution_count": null,
      "outputs": []
    },
    {
      "cell_type": "markdown",
      "source": [
        "С помощью полиморфизма заменим функцию Operation на другую в наследном классе:"
      ],
      "metadata": {
        "id": "CoqlNkJBNkN1"
      }
    },
    {
      "cell_type": "code",
      "source": [
        "class TDo2(TDo):\n",
        "    def Operation(self, x, y):\n",
        "        return x * y"
      ],
      "metadata": {
        "id": "EYzMoqCcNmog"
      },
      "execution_count": null,
      "outputs": []
    },
    {
      "cell_type": "markdown",
      "source": [
        "**1.2.1. Пример**\n",
        "\n",
        "Необходимо разработать виртуальную модель процесса обучения. В программе должны быть объекты-ученики, учитель, кладезь знаний."
      ],
      "metadata": {
        "id": "5Y2pvhoCNxC8"
      }
    },
    {
      "cell_type": "markdown",
      "source": [
        "Потребуется три класса – \"учитель\", \"ученик\", \"данные\". Учитель и ученик во многом похожи, оба – люди. Значит, их классы могут принадлежать одному надклассу \"человек\". Однако в контексте данной задачи у учителя и ученика вряд ли найдутся общие атрибуты. Определим, что должны уметь объекты для решения задачи \"увеличить знания\":\n",
        "\n",
        "* Ученик должен уметь брать информацию и превращать ее в свои знания.\n",
        "* Учитель должен уметь учить группу учеников.\n",
        "* Данные могут представлять собой список знаний. Элементы будут извлекаться по индексу.\n"
      ],
      "metadata": {
        "id": "dPvf2P55N4k9"
      }
    },
    {
      "cell_type": "code",
      "source": [
        "class Data:\n",
        "    def __init__(self, *info):\n",
        "        self.info = list(info)\n",
        "\n",
        "    def __getitem__(self, i):\n",
        "        return self.info[i]\n",
        "\n",
        "\n",
        "class Teacher:\n",
        "    def teach(self, info, *pupil):\n",
        "        for i in pupil:\n",
        "            i.take(info)\n",
        "\n",
        "\n",
        "class Pupil:\n",
        "    def __init__(self):\n",
        "        self.knowledge = []\n",
        "\n",
        "    def take(self, info):\n",
        "        self.knowledge.append(info)\n",
        "\n",
        "\n",
        "lesson = Data('class', 'object', 'inheritance', 'polymorphism', 'encapsulation')\n",
        "marIvanna = Teacher()\n",
        "vasya = Pupil()\n",
        "petya = Pupil()\n",
        "marIvanna.teach(lesson[2], vasya, petya)\n",
        "marIvanna.teach(lesson[0], petya)\n",
        "print(vasya.knowledge)\n",
        "print(petya.knowledge)"
      ],
      "metadata": {
        "colab": {
          "base_uri": "https://localhost:8080/"
        },
        "id": "O35CDjPQN-Qe",
        "outputId": "679f96dd-b6b4-4739-af8f-edc4d4aa776a"
      },
      "execution_count": null,
      "outputs": [
        {
          "output_type": "stream",
          "name": "stdout",
          "text": [
            "['inheritance']\n",
            "['inheritance', 'class']\n"
          ]
        }
      ]
    },
    {
      "cell_type": "markdown",
      "source": [
        "**1.2.2. Пример**\n",
        "\n",
        "Напишите программу по следующему описанию. Есть класс \"Воин\". От него создаются два экземпляра-юнита. Каждому устанавливается здоровье в 100 очков. В случайном порядке они бьют друг друга. Тот, кто бьет, здоровья не теряет. У того, кого бьют, оно уменьшается на 20 очков от одного удара. После каждого удара надо выводить сообщение, какой юнит атаковал, и сколько у противника осталось здоровья. Как только у кого-то заканчивается ресурс здоровья, программа завершается сообщением о том, кто одержал победу."
      ],
      "metadata": {
        "id": "zj4RCu2rOuyl"
      }
    },
    {
      "cell_type": "code",
      "source": [
        "import random\n",
        "\n",
        "\n",
        "class Warrior:\n",
        "    def __init__(self, name):\n",
        "        self.name = name\n",
        "        self.health = 100\n",
        "\n",
        "    def is_alive(self):\n",
        "        return self.health > 0\n",
        "\n",
        "    def attack(self, enemy):\n",
        "        enemy.health -= 20\n",
        "        print(f'{self.name} атакует. У {enemy.name} осталось {enemy.health} здоровья.')\n",
        "\n",
        "    def __str__(self):\n",
        "        return self.name\n",
        "\n",
        "\n",
        "def fight(warrior1, warrior2):\n",
        "    while warrior1.is_alive() and warrior2.is_alive():\n",
        "        if random.randint(0, 1) == 0:\n",
        "            warrior1.attack(warrior2)\n",
        "        else:\n",
        "            warrior2.attack(warrior1)\n",
        "\n",
        "    winner = warrior1 if warrior1.is_alive() else warrior2\n",
        "    print(f'Победитель: {winner}.')\n",
        "\n",
        "\n",
        "warrior1 = Warrior('Воин 1')\n",
        "warrior2 = Warrior('Воин 2')\n",
        "fight(warrior1, warrior2)"
      ],
      "metadata": {
        "colab": {
          "base_uri": "https://localhost:8080/"
        },
        "id": "jq5ElvCrPBgS",
        "outputId": "482edc67-134f-40e9-cb4e-d36aec30870e"
      },
      "execution_count": null,
      "outputs": [
        {
          "output_type": "stream",
          "name": "stdout",
          "text": [
            "Воин 2 атакует. У Воин 1 осталось 80 здоровья.\n",
            "Воин 1 атакует. У Воин 2 осталось 80 здоровья.\n",
            "Воин 2 атакует. У Воин 1 осталось 60 здоровья.\n",
            "Воин 2 атакует. У Воин 1 осталось 40 здоровья.\n",
            "Воин 2 атакует. У Воин 1 осталось 20 здоровья.\n",
            "Воин 2 атакует. У Воин 1 осталось 0 здоровья.\n",
            "Победитель: Воин 2.\n"
          ]
        }
      ]
    },
    {
      "cell_type": "markdown",
      "source": [
        "**1.2.3. Пример**\n",
        "\n",
        "Создайте класс по работе с дробями. В классе должна быть реализована следующая функциональность:\n",
        "* сложение дробей;\n",
        "* вычитание дробей;\n",
        "* умножение дробей;\n",
        "* деление дробей.\n"
      ],
      "metadata": {
        "id": "TMYn-g15PU6s"
      }
    },
    {
      "cell_type": "code",
      "source": [
        "from fractions import Fraction\n",
        "\n",
        "\n",
        "class MyFraction:\n",
        "    def __init__(self, numerator, denominator=None):\n",
        "        if denominator is None:\n",
        "            self.fraction = Fraction(numerator)\n",
        "        else:\n",
        "            self.fraction = Fraction(numerator, denominator)\n",
        "\n",
        "    def __add__(self, other):\n",
        "        if isinstance(other, MyFraction):\n",
        "            result = self.fraction + other.fraction\n",
        "        else:\n",
        "            result = self.fraction + Fraction(other)\n",
        "        return MyFraction(result.numerator, result.denominator)\n",
        "\n",
        "    def __radd__(self, other):\n",
        "        return self + other\n",
        "\n",
        "    def __sub__(self, other):\n",
        "        if isinstance(other, MyFraction):\n",
        "            result = self.fraction - other.fraction\n",
        "        else:\n",
        "            result = self.fraction - Fraction(other)\n",
        "        return MyFraction(result.numerator, result.denominator)\n",
        "\n",
        "    def __rsub__(self, other):\n",
        "        return other - self\n",
        "\n",
        "    def __mul__(self, other):\n",
        "        if isinstance(other, MyFraction):\n",
        "            result = self.fraction * other.fraction\n",
        "        else:\n",
        "            result = self.fraction * Fraction(other)\n",
        "        return MyFraction(result.numerator, result.denominator)\n",
        "\n",
        "    def __rmul__(self, other):\n",
        "        return self * other\n",
        "\n",
        "    def __truediv__(self, other):\n",
        "        if isinstance(other, MyFraction):\n",
        "            result = self.fraction / other.fraction\n",
        "        else:\n",
        "            result = self.fraction / Fraction(other)\n",
        "        return MyFraction(result.numerator, result.denominator)\n",
        "\n",
        "    def __rtruediv__(self, other):\n",
        "        if isinstance(other, MyFraction):\n",
        "            result = other.fraction / self.fraction\n",
        "        else:\n",
        "            result = Fraction(other) / self.fraction\n",
        "        return MyFraction(result.numerator, result.denominator)\n",
        "\n",
        "    def __floordiv__(self, other):\n",
        "        if isinstance(other, MyFraction):\n",
        "            result = self.fraction // other.fraction\n",
        "        else:\n",
        "            result = self.fraction // Fraction(other)\n",
        "        return MyFraction(result.numerator, result.denominator)\n",
        "\n",
        "    def __rfloordiv__(self, other):\n",
        "        if isinstance(other, MyFraction):\n",
        "            result = other.fraction // self.fraction\n",
        "        else:\n",
        "            result = Fraction(other) // self.fraction\n",
        "        return MyFraction(result.numerator, result.denominator)\n",
        "\n",
        "    def __str__(self):\n",
        "        return str(self.fraction)\n",
        "\n",
        "\n",
        "f1 = MyFraction(1, 2)  # 1/2\n",
        "f2 = MyFraction(1, 3)  # 1/3\n",
        "\n",
        "print(f1 + f2)  # 5/6\n",
        "print(f1 - f2)  # 1/6\n",
        "print(f1 * f2)  # 1/6\n",
        "print(f1 / f2)  # 3/2\n",
        "print(f1 // f2)  # 1\n",
        "print(6 + f1)  # 13/2"
      ],
      "metadata": {
        "colab": {
          "base_uri": "https://localhost:8080/"
        },
        "id": "Vy1y6MRCPnRH",
        "outputId": "ce3c22d7-386b-47d3-a7ac-a66809297dc7"
      },
      "execution_count": null,
      "outputs": [
        {
          "output_type": "stream",
          "name": "stdout",
          "text": [
            "5/6\n",
            "1/6\n",
            "1/6\n",
            "3/2\n",
            "1\n",
            "13/2\n"
          ]
        }
      ]
    },
    {
      "cell_type": "markdown",
      "source": [
        "**Задание**\n",
        "\n",
        "Создайте класс по работе с тригонометрическими функциями. В классе должны быть реализованы функции вычисления:\n",
        "* косинуса;\n",
        "* синуса;\n",
        "* тангенса;\n",
        "* арксинуса;\n",
        "* арккосинуса;\n",
        "* арктангенса;\n",
        "* перевода из градусов в радианы.\n"
      ],
      "metadata": {
        "id": "dhYGsIErTsZv"
      }
    },
    {
      "cell_type": "code",
      "source": [
        "import math\n",
        "\n",
        "\n",
        "class Trigonometry:\n",
        "    @staticmethod\n",
        "    def cos(radians):\n",
        "        return math.cos(radians)\n",
        "\n",
        "    @staticmethod\n",
        "    def sin(radians):\n",
        "        return math.sin(radians)\n",
        "\n",
        "    @staticmethod\n",
        "    def tan(radians):\n",
        "        return math.tan(radians)\n",
        "\n",
        "    @staticmethod\n",
        "    def asin(value):\n",
        "        return math.asin(value)\n",
        "\n",
        "    @staticmethod\n",
        "    def acos(value):\n",
        "        return math.acos(value)\n",
        "\n",
        "    @staticmethod\n",
        "    def atan(value):\n",
        "        return math.atan(value)\n",
        "\n",
        "    @staticmethod\n",
        "    def degrees_to_radians(degrees):\n",
        "        return math.radians(degrees)\n",
        "\n",
        "\n",
        "trig = Trigonometry\n",
        "\n",
        "print(trig.cos(trig.degrees_to_radians(60)))\n",
        "print(trig.sin(trig.degrees_to_radians(90)))\n",
        "print(trig.tan(trig.degrees_to_radians(45)))\n",
        "print(trig.asin(1))\n",
        "print(trig.acos(1))\n",
        "print(trig.atan(1))\n",
        "print(trig.degrees_to_radians(180))"
      ],
      "metadata": {
        "colab": {
          "base_uri": "https://localhost:8080/"
        },
        "id": "Gt01x853T7Sw",
        "outputId": "fafc6786-8943-495f-f607-c4729aa1e78e"
      },
      "execution_count": null,
      "outputs": [
        {
          "output_type": "stream",
          "name": "stdout",
          "text": [
            "0.5000000000000001\n",
            "1.0\n",
            "0.9999999999999999\n",
            "1.5707963267948966\n",
            "0.0\n",
            "0.7853981633974483\n",
            "3.141592653589793\n"
          ]
        }
      ]
    },
    {
      "cell_type": "markdown",
      "source": [
        "# **Реализация деревьев в Python**"
      ],
      "metadata": {
        "id": "l7ffZaMoUS_z"
      }
    },
    {
      "cell_type": "markdown",
      "source": [
        "Любое представление графов, естественно, можно использовать для представления деревьев, потому что деревья — это особый вид графов. Однако, деревья играют свою большую роль в алгоритмах, и для них разработано много соответствующих структур и методов. Большинство алгоритмов на деревьях (например, поиск по деревьям) можно рассматривать в терминах теории графов, но специальные структуры данных делают их проще в реализации.\n",
        "\n",
        "Проще всего описать представление дерева с корнем, в котором ребра спускаются вниз от корня. Такие деревья часто отображают иерархическое ветвление данных, где корень отображает все объекты (которые, возможно, хранятся в листьях), а каждый внутренний узел показывает объекты, содержащиеся в дереве, корень которого — этот узел. Это описание можно использовать, представив каждое поддерево списком, содержащим все его поддеревья-потомки.\n",
        "\n",
        "Рассмотрим простое дерево, показанное на рисунке ниже:\n",
        "<p align=\"center\">\n",
        "  <img src=\"https://i.ibb.co/hXz7p64/image.png\" alt=\"Схематичное дерево\" style=\"display: block; margin: 0 auto;\">\n",
        "</p>\n",
        "\n",
        "Мы можем представить это дерево как список списков:"
      ],
      "metadata": {
        "id": "2g8iE_TNUXGR"
      }
    },
    {
      "cell_type": "code",
      "source": [
        "T = [[\"a\", \"b\"], [\"c\"], [\"d\", [\"e\", \"f\"]]]\n",
        "print(T[0][1])\n",
        "print(T[2][1][0])"
      ],
      "metadata": {
        "colab": {
          "base_uri": "https://localhost:8080/"
        },
        "id": "wRLGKFsqUsCM",
        "outputId": "5a43709a-2966-49d7-d282-0c7927cc50d6"
      },
      "execution_count": null,
      "outputs": [
        {
          "output_type": "stream",
          "name": "stdout",
          "text": [
            "b\n",
            "e\n"
          ]
        }
      ]
    },
    {
      "cell_type": "markdown",
      "source": [
        "Каждый список в сущности является списком потомков каждого из внутренних узлов. Во втором примере мы обращаемся к третьему потомку корня, затем ко второму его потомку и в конце концов — к первому потомку предыдущего узла (этот путь отмечен на рисунке). В ряде случаев возможно заранее определить максимальное число потомков каждого узла. (Например, каждый узел бинарного дерева может иметь до двух потомков). Поэтому можно использовать другие представления, скажем, объекты с отдельным атрибутом для каждого из потомков как в листинге ниже."
      ],
      "metadata": {
        "id": "lKYT_4AnU8E_"
      }
    },
    {
      "cell_type": "markdown",
      "source": [
        "**1.2.1. Пример**\n",
        "\n",
        "Определите класс бинарного дерева и задайте его объекты с отдельным атрибутом для каждого из потомков."
      ],
      "metadata": {
        "id": "0wIq-s1QVAlR"
      }
    },
    {
      "cell_type": "code",
      "source": [
        "class Tree:\n",
        "    def __init__(self, left, right):\n",
        "        self.left = left\n",
        "        self.right = right\n",
        "\n",
        "\n",
        "t = Tree(Tree(\"a\", \"b\"), Tree(\"c\", \"d\"))\n",
        "print(t.right.left)"
      ],
      "metadata": {
        "colab": {
          "base_uri": "https://localhost:8080/"
        },
        "id": "UGSjzXA_VJIG",
        "outputId": "65d554f2-ae68-4c8a-e8b0-9a073616db19"
      },
      "execution_count": null,
      "outputs": [
        {
          "output_type": "stream",
          "name": "stdout",
          "text": [
            "c\n"
          ]
        }
      ]
    },
    {
      "cell_type": "markdown",
      "source": [
        "**1.2.2. Пример**\n",
        "\n",
        "Для обозначения отсутствующих потомков можно использовать None (в случае если у узла только один потомок). Само собой, можно комбинировать разные методы (например, использовать списки или множества потомков для каждого узла).\n",
        "\n",
        "Распространенный способ реализации деревьев, особенно на языках, не имеющих встроенной поддержки списков, это так называемое представление «первый потомок, следующий брат». В нем каждый узел имеет два «указателя» или атрибута, указывающих на другие узлы, как в бинарном дереве. Однако, первый из этих атрибутов ссылается на первого потомка узла, а второй — на его следующего брата (т.е. узел, имеющий того же родителя, но находящийся правее, — прим. перев). Иными словами, каждый узел дерева имеет указатель на связанный список его потомков, а каждый из этих потомков ссылается на свой собственный аналогичный список. Таким образом, небольшая модификация бинарного дерева даст нам многопутевое дерево, показанное в листинге ниже."
      ],
      "metadata": {
        "id": "TBDOXobAVWiW"
      }
    },
    {
      "cell_type": "code",
      "source": [
        "class Tree:\n",
        "    def __init__(self, kids, next=None):\n",
        "        self.kids = self.val = kids\n",
        "        self.next = next\n",
        "\n",
        "\n",
        "t = Tree(Tree(\"a\", Tree(\"b\", Tree(\"c\", Tree(\"d\")))))\n",
        "print(t.kids.next.next.val)"
      ],
      "metadata": {
        "colab": {
          "base_uri": "https://localhost:8080/"
        },
        "id": "MfVQlNIrVgoa",
        "outputId": "4c0250ee-72ca-4a28-a522-254fbd1f3a1e"
      },
      "execution_count": null,
      "outputs": [
        {
          "output_type": "stream",
          "name": "stdout",
          "text": [
            "c\n"
          ]
        }
      ]
    },
    {
      "cell_type": "markdown",
      "source": [
        "Визуальное представление дерева:\n",
        "\n",
        "    Tree\n",
        "    |\n",
        "    └── Tree (val = \"a\")\n",
        "        |\n",
        "        └── Tree (val = \"b\")\n",
        "            |\n",
        "            └── Tree (val = \"c\")\n",
        "                |\n",
        "                └── Tree (val = \"d\")"
      ],
      "metadata": {
        "id": "uwtaZ4nvXGh3"
      }
    },
    {
      "cell_type": "markdown",
      "source": [
        "**Задание**\n",
        "\n",
        "Представьте дерево показанное на рисунке с использованием списка из списков. Выведите на печать корень дерева, а также его левое и правое поддеревья.\n",
        "\n",
        "<p align=\"center\">\n",
        "  <img src=\"https://i.ibb.co/d4cwFkg/image.png\" alt=\"Схематичное дерево\" style=\"display: block; margin: 0 auto;\">\n",
        "</p>"
      ],
      "metadata": {
        "id": "wqwKYjhsYllp"
      }
    },
    {
      "cell_type": "code",
      "source": [
        "a = []\n",
        "b = []\n",
        "c = []\n",
        "d = list(range(10))\n",
        "e = list(range(10))\n",
        "f = list(range(10))\n",
        "b.append(d)\n",
        "b.append(e)\n",
        "c.append(f)\n",
        "a.append(b)\n",
        "a.append(c)\n",
        "print(a)"
      ],
      "metadata": {
        "colab": {
          "base_uri": "https://localhost:8080/"
        },
        "id": "hMBvWgn5Y09n",
        "outputId": "452d56d5-c65a-4786-d6de-7b7e11a52278"
      },
      "execution_count": null,
      "outputs": [
        {
          "output_type": "stream",
          "name": "stdout",
          "text": [
            "[[[0, 1, 2, 3, 4, 5, 6, 7, 8, 9], [0, 1, 2, 3, 4, 5, 6, 7, 8, 9]], [[0, 1, 2, 3, 4, 5, 6, 7, 8, 9]]]\n"
          ]
        }
      ]
    },
    {
      "cell_type": "markdown",
      "source": [
        "- a\n",
        "  - b\n",
        "    - d: [0, 1, 2, 3, 4, 5, 6, 7, 8, 9]\n",
        "    - e: [0, 1, 2, 3, 4, 5, 6, 7, 8, 9]\n",
        "  - c\n",
        "    - f: [0, 1, 2, 3, 4, 5, 6, 7, 8, 9]"
      ],
      "metadata": {
        "id": "X0iboU1OZZG5"
      }
    },
    {
      "cell_type": "markdown",
      "source": [
        "**Задание**\n",
        "\n",
        "Дан класс, описывающий бинарное дерево"
      ],
      "metadata": {
        "id": "Q6xFcr4LZq-J"
      }
    },
    {
      "cell_type": "code",
      "source": [
        "class Tree:\n",
        "    def __init__(self, data):\n",
        "        self.left = None\n",
        "        self.right = None\n",
        "        self.data = data\n",
        "\n",
        "    def PrintTree(self):\n",
        "        print(self.data)\n"
      ],
      "metadata": {
        "id": "jlRpnFPhZtbl"
      },
      "execution_count": null,
      "outputs": []
    },
    {
      "cell_type": "markdown",
      "source": [
        "Реализуйте в классе функцию для вставки нового элемента в дерево по следующим правилам:\n",
        "\n",
        "* Левое поддерево узла содержит только узлы со значениями меньше, чем значение в узле.\n",
        "* Правое поддерево узла содержит только узлы со значениями меньше, чем значение в узле.\n",
        "* Каждое из левого и правого поддеревьев также должно быть бинарным деревом поиска.\n",
        "* Не должно быть повторяющихся узлов.\n",
        "\n",
        "Метод вставки сравнивает значение узла с родительским узлом и решает куда добавить элемент (в левое или правое поддерево). Перепишите метод PrintTree для печати полной версии дерева.\n"
      ],
      "metadata": {
        "id": "tZvu4WkOZxnh"
      }
    },
    {
      "cell_type": "code",
      "source": [
        "class Node:\n",
        "    def __init__(self, data):\n",
        "        self.left = None\n",
        "        self.right = None\n",
        "        self.data = data\n",
        "\n",
        "\n",
        "class BinarySearchTree:\n",
        "    def __init__(self):\n",
        "        self.root = None\n",
        "\n",
        "    def insert(self, data):\n",
        "        if self.root is None:\n",
        "            self.root = Node(data)\n",
        "        else:\n",
        "            self._insert(data, self.root)\n",
        "\n",
        "    def _insert(self, data, node: Node):\n",
        "        if data < node.data:\n",
        "            if node.left is None:\n",
        "                node.left = Node(data)\n",
        "            else:\n",
        "                self._insert(data, node.left)\n",
        "        elif data > node.data:\n",
        "            if node.right is None:\n",
        "                node.right = Node(data)\n",
        "            else:\n",
        "                self._insert(data, node.right)\n",
        "        else:\n",
        "            print(f\"Значение {data} уже присутствует в дереве.\")\n",
        "\n",
        "    def find(self, data):\n",
        "        if self.root is not None:\n",
        "            return self._find(data, self.root)\n",
        "\n",
        "    def _find(self, data, node: Node):\n",
        "        if data == node.data:\n",
        "            return node\n",
        "        elif data < node.data and node.left is not None:\n",
        "            return self._find(data, node.left)\n",
        "        elif data > node.data and node.right is not None:\n",
        "            return self._find(data, node.right)\n",
        "\n",
        "    def print_tree(self):\n",
        "        if self.root is not None:\n",
        "            self._print_tree(self.root)\n",
        "\n",
        "    def _print_tree(self, node: Node):\n",
        "        if node is not None:\n",
        "            self._print_tree(node.left)\n",
        "            print(node.data, end=\" \")\n",
        "            self._print_tree(node.right)\n",
        "\n",
        "\n",
        "tree = BinarySearchTree()\n",
        "tree.insert(10)\n",
        "tree.insert(10)\n",
        "tree.insert(6)\n",
        "tree.insert(14)\n",
        "tree.insert(14)\n",
        "tree.insert(3)\n",
        "print(tree.find(10).left.left.data)\n",
        "print(tree.find(10).left.data)\n",
        "print(tree.find(10).data)\n",
        "print(tree.find(10).right.data)\n",
        "tree.print_tree()"
      ],
      "metadata": {
        "colab": {
          "base_uri": "https://localhost:8080/"
        },
        "id": "nGhcbz3HaWkw",
        "outputId": "1713f9c0-7f8d-4dfe-9b0b-45dc2de887bb"
      },
      "execution_count": 1,
      "outputs": [
        {
          "output_type": "stream",
          "name": "stdout",
          "text": [
            "Значение 10 уже присутствует в дереве.\n",
            "Значение 14 уже присутствует в дереве.\n",
            "3\n",
            "6\n",
            "10\n",
            "14\n",
            "3 6 10 14 "
          ]
        }
      ]
    },
    {
      "cell_type": "markdown",
      "source": [
        "# **Деревья решений**"
      ],
      "metadata": {
        "id": "p1g9GtQ3DqLp"
      }
    },
    {
      "cell_type": "markdown",
      "source": [
        "Дерево решений – это один из наиболее часто и широко используемых алгоритмов контролируемого машинного обучения, который может выполнять как регрессионные, так и классификационные задачи.\n",
        "\n",
        "Использование деревьев решений для прогнозного анализа имеет ряд преимуществ:\n",
        "1.\tДеревья решений могут быть использованы для прогнозирования как непрерывных, так и дискретных значений, т.е. они хорошо работают как для задач регрессии, так и для задач классификации.\n",
        "2.\tОни требуют относительно меньших усилий для обучения алгоритма.\n",
        "3.\tОни могут быть использованы для классификации нелинейно разделимых данных.\n",
        "4.\tОни очень быстры и эффективны по сравнению с KNN и другими алгоритмами классификации.\n",
        "\n",
        "Решим модельные примеры классификации и регрессии, разобранные в предыдущих рабочих тетрадях, но с использованием деревьев принятия решений.\n"
      ],
      "metadata": {
        "id": "gqlIZraFDroz"
      }
    },
    {
      "cell_type": "markdown",
      "source": [
        "**1.3.1. Пример**\n",
        "\n",
        "Построим дерево решений для задачи классификации, для этого построим границу решения для каждого класса. В качестве данных будем использовать уже знакомый нам и встроенный в библиотеку sklearn набор данных ирисов Фишера. Импортируем библиотеки, набор данных и посмотрим его характеристики."
      ],
      "metadata": {
        "id": "B7C7ur55cscO"
      }
    },
    {
      "cell_type": "code",
      "source": [
        "import pandas as pd\n",
        "import numpy as np\n",
        "import seaborn as sns\n",
        "import matplotlib.pyplot as plt\n",
        "\n",
        "dataset = sns.load_dataset('iris')\n",
        "dataset\n",
        "dataset.shape\n",
        "dataset.head()"
      ],
      "metadata": {
        "colab": {
          "base_uri": "https://localhost:8080/",
          "height": 206
        },
        "id": "wrtADCWBc45e",
        "outputId": "88ae6527-e304-4921-f8d7-d9c591f556dd"
      },
      "execution_count": 2,
      "outputs": [
        {
          "output_type": "execute_result",
          "data": {
            "text/plain": [
              "   sepal_length  sepal_width  petal_length  petal_width species\n",
              "0           5.1          3.5           1.4          0.2  setosa\n",
              "1           4.9          3.0           1.4          0.2  setosa\n",
              "2           4.7          3.2           1.3          0.2  setosa\n",
              "3           4.6          3.1           1.5          0.2  setosa\n",
              "4           5.0          3.6           1.4          0.2  setosa"
            ],
            "text/html": [
              "\n",
              "\n",
              "  <div id=\"df-91aebb3b-e046-489d-941a-41e310f1d692\">\n",
              "    <div class=\"colab-df-container\">\n",
              "      <div>\n",
              "<style scoped>\n",
              "    .dataframe tbody tr th:only-of-type {\n",
              "        vertical-align: middle;\n",
              "    }\n",
              "\n",
              "    .dataframe tbody tr th {\n",
              "        vertical-align: top;\n",
              "    }\n",
              "\n",
              "    .dataframe thead th {\n",
              "        text-align: right;\n",
              "    }\n",
              "</style>\n",
              "<table border=\"1\" class=\"dataframe\">\n",
              "  <thead>\n",
              "    <tr style=\"text-align: right;\">\n",
              "      <th></th>\n",
              "      <th>sepal_length</th>\n",
              "      <th>sepal_width</th>\n",
              "      <th>petal_length</th>\n",
              "      <th>petal_width</th>\n",
              "      <th>species</th>\n",
              "    </tr>\n",
              "  </thead>\n",
              "  <tbody>\n",
              "    <tr>\n",
              "      <th>0</th>\n",
              "      <td>5.1</td>\n",
              "      <td>3.5</td>\n",
              "      <td>1.4</td>\n",
              "      <td>0.2</td>\n",
              "      <td>setosa</td>\n",
              "    </tr>\n",
              "    <tr>\n",
              "      <th>1</th>\n",
              "      <td>4.9</td>\n",
              "      <td>3.0</td>\n",
              "      <td>1.4</td>\n",
              "      <td>0.2</td>\n",
              "      <td>setosa</td>\n",
              "    </tr>\n",
              "    <tr>\n",
              "      <th>2</th>\n",
              "      <td>4.7</td>\n",
              "      <td>3.2</td>\n",
              "      <td>1.3</td>\n",
              "      <td>0.2</td>\n",
              "      <td>setosa</td>\n",
              "    </tr>\n",
              "    <tr>\n",
              "      <th>3</th>\n",
              "      <td>4.6</td>\n",
              "      <td>3.1</td>\n",
              "      <td>1.5</td>\n",
              "      <td>0.2</td>\n",
              "      <td>setosa</td>\n",
              "    </tr>\n",
              "    <tr>\n",
              "      <th>4</th>\n",
              "      <td>5.0</td>\n",
              "      <td>3.6</td>\n",
              "      <td>1.4</td>\n",
              "      <td>0.2</td>\n",
              "      <td>setosa</td>\n",
              "    </tr>\n",
              "  </tbody>\n",
              "</table>\n",
              "</div>\n",
              "      <button class=\"colab-df-convert\" onclick=\"convertToInteractive('df-91aebb3b-e046-489d-941a-41e310f1d692')\"\n",
              "              title=\"Convert this dataframe to an interactive table.\"\n",
              "              style=\"display:none;\">\n",
              "\n",
              "  <svg xmlns=\"http://www.w3.org/2000/svg\" height=\"24px\"viewBox=\"0 0 24 24\"\n",
              "       width=\"24px\">\n",
              "    <path d=\"M0 0h24v24H0V0z\" fill=\"none\"/>\n",
              "    <path d=\"M18.56 5.44l.94 2.06.94-2.06 2.06-.94-2.06-.94-.94-2.06-.94 2.06-2.06.94zm-11 1L8.5 8.5l.94-2.06 2.06-.94-2.06-.94L8.5 2.5l-.94 2.06-2.06.94zm10 10l.94 2.06.94-2.06 2.06-.94-2.06-.94-.94-2.06-.94 2.06-2.06.94z\"/><path d=\"M17.41 7.96l-1.37-1.37c-.4-.4-.92-.59-1.43-.59-.52 0-1.04.2-1.43.59L10.3 9.45l-7.72 7.72c-.78.78-.78 2.05 0 2.83L4 21.41c.39.39.9.59 1.41.59.51 0 1.02-.2 1.41-.59l7.78-7.78 2.81-2.81c.8-.78.8-2.07 0-2.86zM5.41 20L4 18.59l7.72-7.72 1.47 1.35L5.41 20z\"/>\n",
              "  </svg>\n",
              "      </button>\n",
              "\n",
              "\n",
              "\n",
              "    <div id=\"df-6e9e84db-a9fc-4431-b1f5-0f955c4ca08f\">\n",
              "      <button class=\"colab-df-quickchart\" onclick=\"quickchart('df-6e9e84db-a9fc-4431-b1f5-0f955c4ca08f')\"\n",
              "              title=\"Suggest charts.\"\n",
              "              style=\"display:none;\">\n",
              "\n",
              "<svg xmlns=\"http://www.w3.org/2000/svg\" height=\"24px\"viewBox=\"0 0 24 24\"\n",
              "     width=\"24px\">\n",
              "    <g>\n",
              "        <path d=\"M19 3H5c-1.1 0-2 .9-2 2v14c0 1.1.9 2 2 2h14c1.1 0 2-.9 2-2V5c0-1.1-.9-2-2-2zM9 17H7v-7h2v7zm4 0h-2V7h2v10zm4 0h-2v-4h2v4z\"/>\n",
              "    </g>\n",
              "</svg>\n",
              "      </button>\n",
              "    </div>\n",
              "\n",
              "<style>\n",
              "  .colab-df-quickchart {\n",
              "    background-color: #E8F0FE;\n",
              "    border: none;\n",
              "    border-radius: 50%;\n",
              "    cursor: pointer;\n",
              "    display: none;\n",
              "    fill: #1967D2;\n",
              "    height: 32px;\n",
              "    padding: 0 0 0 0;\n",
              "    width: 32px;\n",
              "  }\n",
              "\n",
              "  .colab-df-quickchart:hover {\n",
              "    background-color: #E2EBFA;\n",
              "    box-shadow: 0px 1px 2px rgba(60, 64, 67, 0.3), 0px 1px 3px 1px rgba(60, 64, 67, 0.15);\n",
              "    fill: #174EA6;\n",
              "  }\n",
              "\n",
              "  [theme=dark] .colab-df-quickchart {\n",
              "    background-color: #3B4455;\n",
              "    fill: #D2E3FC;\n",
              "  }\n",
              "\n",
              "  [theme=dark] .colab-df-quickchart:hover {\n",
              "    background-color: #434B5C;\n",
              "    box-shadow: 0px 1px 3px 1px rgba(0, 0, 0, 0.15);\n",
              "    filter: drop-shadow(0px 1px 2px rgba(0, 0, 0, 0.3));\n",
              "    fill: #FFFFFF;\n",
              "  }\n",
              "</style>\n",
              "\n",
              "    <script>\n",
              "      async function quickchart(key) {\n",
              "        const containerElement = document.querySelector('#' + key);\n",
              "        const charts = await google.colab.kernel.invokeFunction(\n",
              "            'suggestCharts', [key], {});\n",
              "      }\n",
              "    </script>\n",
              "\n",
              "      <script>\n",
              "\n",
              "function displayQuickchartButton(domScope) {\n",
              "  let quickchartButtonEl =\n",
              "    domScope.querySelector('#df-6e9e84db-a9fc-4431-b1f5-0f955c4ca08f button.colab-df-quickchart');\n",
              "  quickchartButtonEl.style.display =\n",
              "    google.colab.kernel.accessAllowed ? 'block' : 'none';\n",
              "}\n",
              "\n",
              "        displayQuickchartButton(document);\n",
              "      </script>\n",
              "      <style>\n",
              "    .colab-df-container {\n",
              "      display:flex;\n",
              "      flex-wrap:wrap;\n",
              "      gap: 12px;\n",
              "    }\n",
              "\n",
              "    .colab-df-convert {\n",
              "      background-color: #E8F0FE;\n",
              "      border: none;\n",
              "      border-radius: 50%;\n",
              "      cursor: pointer;\n",
              "      display: none;\n",
              "      fill: #1967D2;\n",
              "      height: 32px;\n",
              "      padding: 0 0 0 0;\n",
              "      width: 32px;\n",
              "    }\n",
              "\n",
              "    .colab-df-convert:hover {\n",
              "      background-color: #E2EBFA;\n",
              "      box-shadow: 0px 1px 2px rgba(60, 64, 67, 0.3), 0px 1px 3px 1px rgba(60, 64, 67, 0.15);\n",
              "      fill: #174EA6;\n",
              "    }\n",
              "\n",
              "    [theme=dark] .colab-df-convert {\n",
              "      background-color: #3B4455;\n",
              "      fill: #D2E3FC;\n",
              "    }\n",
              "\n",
              "    [theme=dark] .colab-df-convert:hover {\n",
              "      background-color: #434B5C;\n",
              "      box-shadow: 0px 1px 3px 1px rgba(0, 0, 0, 0.15);\n",
              "      filter: drop-shadow(0px 1px 2px rgba(0, 0, 0, 0.3));\n",
              "      fill: #FFFFFF;\n",
              "    }\n",
              "  </style>\n",
              "\n",
              "      <script>\n",
              "        const buttonEl =\n",
              "          document.querySelector('#df-91aebb3b-e046-489d-941a-41e310f1d692 button.colab-df-convert');\n",
              "        buttonEl.style.display =\n",
              "          google.colab.kernel.accessAllowed ? 'block' : 'none';\n",
              "\n",
              "        async function convertToInteractive(key) {\n",
              "          const element = document.querySelector('#df-91aebb3b-e046-489d-941a-41e310f1d692');\n",
              "          const dataTable =\n",
              "            await google.colab.kernel.invokeFunction('convertToInteractive',\n",
              "                                                     [key], {});\n",
              "          if (!dataTable) return;\n",
              "\n",
              "          const docLinkHtml = 'Like what you see? Visit the ' +\n",
              "            '<a target=\"_blank\" href=https://colab.research.google.com/notebooks/data_table.ipynb>data table notebook</a>'\n",
              "            + ' to learn more about interactive tables.';\n",
              "          element.innerHTML = '';\n",
              "          dataTable['output_type'] = 'display_data';\n",
              "          await google.colab.output.renderOutput(dataTable, element);\n",
              "          const docLink = document.createElement('div');\n",
              "          docLink.innerHTML = docLinkHtml;\n",
              "          element.appendChild(docLink);\n",
              "        }\n",
              "      </script>\n",
              "    </div>\n",
              "  </div>\n"
            ]
          },
          "metadata": {},
          "execution_count": 2
        }
      ]
    },
    {
      "cell_type": "markdown",
      "source": [
        "Далее, разделим наши данные на атрибуты и метки, а затем выделим в общей совокупности полученных данных обучающие и тестовые наборы. Таким образом, мы можем обучить наш алгоритм на одном наборе данных, а затем протестировать его на совершенно на другом наборе, который алгоритм еще не видел. Это дает вам более точное представление о том, как на самом деле будет работать ваш обученный алгоритм."
      ],
      "metadata": {
        "id": "IEC4cCeWc9OM"
      }
    },
    {
      "cell_type": "code",
      "source": [
        "from sklearn.model_selection import train_test_split\n",
        "from sklearn import tree\n",
        "from sklearn.tree import DecisionTreeClassifier\n",
        "\n",
        "X_train, X_test, y_train, y_test = train_test_split(\n",
        "    dataset.iloc[:, :-1],\n",
        "    dataset.iloc[:, -1],\n",
        "    test_size=0.20\n",
        ")\n",
        "X_train.shape, X_test.shape, y_train.shape, y_test.shape\n",
        "X_train.head()\n",
        "y_train.head()"
      ],
      "metadata": {
        "colab": {
          "base_uri": "https://localhost:8080/"
        },
        "id": "gtjxPGJAdCjS",
        "outputId": "d8a044d6-4681-446e-fa98-aaf1da8725cf"
      },
      "execution_count": 4,
      "outputs": [
        {
          "output_type": "execute_result",
          "data": {
            "text/plain": [
              "25         setosa\n",
              "86     versicolor\n",
              "14         setosa\n",
              "35         setosa\n",
              "109     virginica\n",
              "Name: species, dtype: object"
            ]
          },
          "metadata": {},
          "execution_count": 4
        }
      ]
    },
    {
      "cell_type": "markdown",
      "source": [
        "После того, как данные были разделены на обучающие и тестовые наборы, последний шаг состоит в том, чтобы обучить алгоритм дерева решений на этих данных и сделать прогнозы. Scikit-Learn содержит библиотеку tree , которая содержит встроенные классы/методы для различных алгоритмов дерева решений. Поскольку мы собираемся выполнить здесь задачу классификации, мы будем использовать класс DecisionTreeClassifier для этого примера. Метод fit этого класса вызывается для обучения алгоритма на обучающих данных, которые передаются в качестве параметра методу fit . Выполним следующий сценарий для обучения алгоритма."
      ],
      "metadata": {
        "id": "cDo4pDWmdoJK"
      }
    },
    {
      "cell_type": "code",
      "source": [
        "classifier = DecisionTreeClassifier()\n",
        "classifier.fit(X_train, y_train)\n",
        "\n",
        "# построим дерево решений\n",
        "tree.plot_tree(classifier)"
      ],
      "metadata": {
        "colab": {
          "base_uri": "https://localhost:8080/",
          "height": 666
        },
        "id": "p_cCM1cbdqJy",
        "outputId": "c45a63e2-a104-4156-f5a4-22099e3f4b6a"
      },
      "execution_count": 5,
      "outputs": [
        {
          "output_type": "execute_result",
          "data": {
            "text/plain": [
              "[Text(0.4, 0.9166666666666666, 'x[2] <= 2.45\\ngini = 0.665\\nsamples = 120\\nvalue = [39, 37, 44]'),\n",
              " Text(0.3, 0.75, 'gini = 0.0\\nsamples = 39\\nvalue = [39, 0, 0]'),\n",
              " Text(0.5, 0.75, 'x[3] <= 1.65\\ngini = 0.496\\nsamples = 81\\nvalue = [0, 37, 44]'),\n",
              " Text(0.2, 0.5833333333333334, 'x[2] <= 4.95\\ngini = 0.142\\nsamples = 39\\nvalue = [0, 36, 3]'),\n",
              " Text(0.1, 0.4166666666666667, 'gini = 0.0\\nsamples = 35\\nvalue = [0, 35, 0]'),\n",
              " Text(0.3, 0.4166666666666667, 'x[0] <= 6.05\\ngini = 0.375\\nsamples = 4\\nvalue = [0, 1, 3]'),\n",
              " Text(0.2, 0.25, 'x[1] <= 2.45\\ngini = 0.5\\nsamples = 2\\nvalue = [0, 1, 1]'),\n",
              " Text(0.1, 0.08333333333333333, 'gini = 0.0\\nsamples = 1\\nvalue = [0, 0, 1]'),\n",
              " Text(0.3, 0.08333333333333333, 'gini = 0.0\\nsamples = 1\\nvalue = [0, 1, 0]'),\n",
              " Text(0.4, 0.25, 'gini = 0.0\\nsamples = 2\\nvalue = [0, 0, 2]'),\n",
              " Text(0.8, 0.5833333333333334, 'x[2] <= 4.85\\ngini = 0.046\\nsamples = 42\\nvalue = [0, 1, 41]'),\n",
              " Text(0.7, 0.4166666666666667, 'x[1] <= 3.1\\ngini = 0.375\\nsamples = 4\\nvalue = [0, 1, 3]'),\n",
              " Text(0.6, 0.25, 'gini = 0.0\\nsamples = 3\\nvalue = [0, 0, 3]'),\n",
              " Text(0.8, 0.25, 'gini = 0.0\\nsamples = 1\\nvalue = [0, 1, 0]'),\n",
              " Text(0.9, 0.4166666666666667, 'gini = 0.0\\nsamples = 38\\nvalue = [0, 0, 38]')]"
            ]
          },
          "metadata": {},
          "execution_count": 5
        },
        {
          "output_type": "display_data",
          "data": {
            "text/plain": [
              "<Figure size 640x480 with 1 Axes>"
            ],
            "image/png": "[encoded data removed]"
          },
          "metadata": {}
        }
      ]
    },
    {
      "cell_type": "markdown",
      "source": [
        "Теперь, когда наш классификатор обучен, давайте сделаем прогнозы по тестовым данным. Для составления прогнозов используется метод predict класса Decision Tree Classifier. Взгляните на следующий код для использования."
      ],
      "metadata": {
        "id": "XR8znuBNdyDe"
      }
    },
    {
      "cell_type": "code",
      "source": [
        "y_pred = classifier.predict(X_test)\n",
        "y_pred"
      ],
      "metadata": {
        "colab": {
          "base_uri": "https://localhost:8080/"
        },
        "id": "X9E9Zgi0d0IV",
        "outputId": "a50889f0-d8ed-4d63-ea4e-84e08a316353"
      },
      "execution_count": 6,
      "outputs": [
        {
          "output_type": "execute_result",
          "data": {
            "text/plain": [
              "array(['setosa', 'setosa', 'virginica', 'setosa', 'setosa', 'versicolor',\n",
              "       'virginica', 'setosa', 'versicolor', 'setosa', 'versicolor',\n",
              "       'virginica', 'virginica', 'setosa', 'versicolor', 'virginica',\n",
              "       'virginica', 'versicolor', 'versicolor', 'setosa', 'versicolor',\n",
              "       'versicolor', 'setosa', 'versicolor', 'setosa', 'versicolor',\n",
              "       'virginica', 'versicolor', 'setosa', 'versicolor'], dtype=object)"
            ]
          },
          "metadata": {},
          "execution_count": 6
        }
      ]
    },
    {
      "cell_type": "markdown",
      "source": [
        "На данный момент мы обучили наш алгоритм и сделали некоторые прогнозы. Теперь посмотрим, насколько точен наш алгоритм. Для задач классификации обычно используются такие метрики, как матрица путаницы, точность. Библиотека Scikit-Learn metrics содержит методы classification_report и confusion_matrix, которые могут быть использованы для расчета этих метрик."
      ],
      "metadata": {
        "id": "Ni4G5WcSd4nm"
      }
    },
    {
      "cell_type": "code",
      "source": [
        "from sklearn.metrics import classification_report, confusion_matrix\n",
        "print(confusion_matrix(y_test, y_pred))\n",
        "print(classification_report(y_test, y_pred))"
      ],
      "metadata": {
        "colab": {
          "base_uri": "https://localhost:8080/"
        },
        "id": "qClNhPSCd-B0",
        "outputId": "ae8f9d91-f955-45e2-84f8-79f560e76cc0"
      },
      "execution_count": 12,
      "outputs": [
        {
          "output_type": "stream",
          "name": "stdout",
          "text": [
            "[[11  0  0]\n",
            " [ 0 12  1]\n",
            " [ 0  0  6]]\n",
            "              precision    recall  f1-score   support\n",
            "\n",
            "      setosa       1.00      1.00      1.00        11\n",
            "  versicolor       1.00      0.92      0.96        13\n",
            "   virginica       0.86      1.00      0.92         6\n",
            "\n",
            "    accuracy                           0.97        30\n",
            "   macro avg       0.95      0.97      0.96        30\n",
            "weighted avg       0.97      0.97      0.97        30\n",
            "\n"
          ]
        }
      ]
    },
    {
      "cell_type": "markdown",
      "source": [
        "Из матрицы оценок алгоритма вы можете видеть, что из 30 тестовых экземпляров наш алгоритм неправильно классифицировал только 1. Это приблизительно 96.67 % точности."
      ],
      "metadata": {
        "id": "wajmbzZMeEYg"
      }
    },
    {
      "cell_type": "markdown",
      "source": [
        "**Задание**\n",
        "\n",
        "Постройте классификатор на основе дерева принятия решений следующего датасета:\n",
        "\n",
        "    X = np.array([[-1, -1], [-2, -1], [-3, -2], [1, 1], [2, 1], [3, 2]])\n",
        "    target = [0, 0, 0, 1, 1, 1]"
      ],
      "metadata": {
        "id": "7IH5YNFLgmO1"
      }
    },
    {
      "cell_type": "code",
      "source": [
        "import numpy as np\n",
        "from sklearn.tree import DecisionTreeClassifier\n",
        "from sklearn.metrics import classification_report, confusion_matrix\n",
        "from sklearn import tree\n",
        "\n",
        "X = np.array([[-1, -1], [-2, -1], [-3, -2], [1, 1], [2, 1], [3, 2]])\n",
        "target = [0, 0, 0, 1, 1, 1]\n",
        "\n",
        "X.shape\n",
        "\n",
        "classifier = DecisionTreeClassifier()\n",
        "classifier.fit(X, target)\n",
        "\n",
        "tree.plot_tree(classifier)\n",
        "\n",
        "y_pred = classifier.predict(X)\n",
        "\n",
        "print(confusion_matrix(y_pred, target))\n",
        "print(classification_report(y_pred, target))"
      ],
      "metadata": {
        "colab": {
          "base_uri": "https://localhost:8080/",
          "height": 597
        },
        "id": "uzYaoWdjhN75",
        "outputId": "6d214482-95d6-4283-b396-37cb810f475a"
      },
      "execution_count": 13,
      "outputs": [
        {
          "output_type": "stream",
          "name": "stdout",
          "text": [
            "[[3 0]\n",
            " [0 3]]\n",
            "              precision    recall  f1-score   support\n",
            "\n",
            "           0       1.00      1.00      1.00         3\n",
            "           1       1.00      1.00      1.00         3\n",
            "\n",
            "    accuracy                           1.00         6\n",
            "   macro avg       1.00      1.00      1.00         6\n",
            "weighted avg       1.00      1.00      1.00         6\n",
            "\n"
          ]
        },
        {
          "output_type": "display_data",
          "data": {
            "text/plain": [
              "<Figure size 640x480 with 1 Axes>"
            ],
            "image/png": "[encoded data removed]"
          },
          "metadata": {}
        }
      ]
    },
    {
      "cell_type": "markdown",
      "source": [
        "# **Дерево решений для регрессии**"
      ],
      "metadata": {
        "id": "8KdSgnoXtbm2"
      }
    },
    {
      "cell_type": "markdown",
      "source": [
        "Процесс решения регрессионной задачи с деревом решений с помощью Scikit Learn очень похож на процесс классификации. Однако для регрессии мы используем класс DecisionTreeRegressor древовидной библиотеки. Кроме того, оценочные показатели регрессии отличаются от показателей классификации. В остальном процесс почти такой же."
      ],
      "metadata": {
        "id": "RbcVdFOgteG7"
      }
    },
    {
      "cell_type": "markdown",
      "source": [
        "**1.4.1. Пример**\n",
        "\n",
        "Построим регрессию с использованием дерева решений в Python и библиотеки scikit-learn. В качестве исходного набора данных будем использовать зависимость заработной платы от опыта работы из предыдущей тетради:\n",
        "* https://raw.githubusercontent.com/AnnaShestova/salary-years-simple-linear-regression/master/Salary_Data.csv"
      ],
      "metadata": {
        "id": "fmCT16not7gs"
      }
    },
    {
      "cell_type": "code",
      "source": [
        "import matplotlib.pyplot as plt\n",
        "import numpy as np\n",
        "import pandas as pd\n",
        "from sklearn import metrics\n",
        "from sklearn import tree\n",
        "from sklearn.model_selection import train_test_split\n",
        "from sklearn.tree import DecisionTreeClassifier\n",
        "\n",
        "url = \"https://raw.githubusercontent.com/AnnaShestova/salary-years-simple-linear-regression/master/Salary_Data.csv\"\n",
        "dataset = pd.read_csv(url)\n",
        "\n",
        "print(f\"First 5 rows of the dataset:\\n{dataset.head()}\")\n",
        "\n",
        "print(f\"\\nShape of the dataset: {dataset.shape}\")\n",
        "\n",
        "print(f\"\\nBasic statistics of the dataset:\\n{dataset.describe()}\")\n",
        "\n",
        "plt.figure(figsize=(10, 5))\n",
        "plt.scatter(dataset[\"YearsExperience\"], dataset[\"Salary\"])\n",
        "plt.xlabel(\"Years of Experience\")\n",
        "plt.ylabel(\"Salary\")\n",
        "plt.title(\"Years of Experience vs Salary\")\n",
        "plt.show()\n",
        "\n",
        "X = dataset.iloc[:, :-1].values\n",
        "y = dataset.iloc[:, 1].values\n",
        "\n",
        "print(f\"\\nFeatures:\\n{X}\")\n",
        "\n",
        "print(f\"\\nTarget variable:\\n{y}\")\n",
        "\n",
        "X_train, X_test, y_train, y_test = train_test_split(X, y, test_size=0.2, random_state=0)\n",
        "\n",
        "regressor = DecisionTreeClassifier()\n",
        "regressor.fit(X_train, y_train)\n",
        "\n",
        "print(f\"\\nDecision tree:\\n{tree.plot_tree(regressor)}\")\n",
        "plt.show()\n",
        "\n",
        "y_pred = regressor.predict(X_test)\n",
        "\n",
        "df = pd.DataFrame({\n",
        "    \"Actual\": y_test,\n",
        "    \"Predicted\": y_pred\n",
        "})\n",
        "\n",
        "print(f\"\\nActual vs Predicted values:\\n{df}\")\n",
        "\n",
        "mse = metrics.mean_squared_error(y_test, y_pred)\n",
        "mae = metrics.mean_absolute_error(y_test, y_pred)\n",
        "mape = mae / np.average(y) * 100\n",
        "\n",
        "print(f\"\\nMean Squared Error: {mse}\")\n",
        "print(f\"Mean Absolute Error: {mae}\")\n",
        "print(f\"Mean Absolute Percentage Error: {mape} %\")"
      ],
      "metadata": {
        "colab": {
          "base_uri": "https://localhost:8080/",
          "height": 1000
        },
        "id": "LrRQQdWV02wa",
        "outputId": "16c480d0-e280-4a8a-fc9c-9c64e66c97cc"
      },
      "execution_count": 15,
      "outputs": [
        {
          "output_type": "stream",
          "name": "stdout",
          "text": [
            "First 5 rows of the dataset:\n",
            "   YearsExperience   Salary\n",
            "0              1.1  39343.0\n",
            "1              1.3  46205.0\n",
            "2              1.5  37731.0\n",
            "3              2.0  43525.0\n",
            "4              2.2  39891.0\n",
            "\n",
            "Shape of the dataset: (30, 2)\n",
            "\n",
            "Basic statistics of the dataset:\n",
            "       YearsExperience         Salary\n",
            "count        30.000000      30.000000\n",
            "mean          5.313333   76003.000000\n",
            "std           2.837888   27414.429785\n",
            "min           1.100000   37731.000000\n",
            "25%           3.200000   56720.750000\n",
            "50%           4.700000   65237.000000\n",
            "75%           7.700000  100544.750000\n",
            "max          10.500000  122391.000000\n"
          ]
        },
        {
          "output_type": "display_data",
          "data": {
            "text/plain": [
              "<Figure size 1000x500 with 1 Axes>"
            ],
            "image/png": "[encoded data removed]"
          },
          "metadata": {}
        },
        {
          "output_type": "stream",
          "name": "stdout",
          "text": [
            "\n",
            "Features:\n",
            "[[ 1.1]\n",
            " [ 1.3]\n",
            " [ 1.5]\n",
            " [ 2. ]\n",
            " [ 2.2]\n",
            " [ 2.9]\n",
            " [ 3. ]\n",
            " [ 3.2]\n",
            " [ 3.2]\n",
            " [ 3.7]\n",
            " [ 3.9]\n",
            " [ 4. ]\n",
            " [ 4. ]\n",
            " [ 4.1]\n",
            " [ 4.5]\n",
            " [ 4.9]\n",
            " [ 5.1]\n",
            " [ 5.3]\n",
            " [ 5.9]\n",
            " [ 6. ]\n",
            " [ 6.8]\n",
            " [ 7.1]\n",
            " [ 7.9]\n",
            " [ 8.2]\n",
            " [ 8.7]\n",
            " [ 9. ]\n",
            " [ 9.5]\n",
            " [ 9.6]\n",
            " [10.3]\n",
            " [10.5]]\n",
            "\n",
            "Target variable:\n",
            "[ 39343.  46205.  37731.  43525.  39891.  56642.  60150.  54445.  64445.\n",
            "  57189.  63218.  55794.  56957.  57081.  61111.  67938.  66029.  83088.\n",
            "  81363.  93940.  91738.  98273. 101302. 113812. 109431. 105582. 116969.\n",
            " 112635. 122391. 121872.]\n",
            "\n",
            "Decision tree:\n",
            "[Text(0.08333333333333333, 0.9772727272727273, 'x[0] <= 1.2\\ngini = 0.958\\nsamples = 24\\nvalue = [1, 1, 1, 1, 1, 1, 1, 1, 1, 1, 1, 1, 1, 1\\n1, 1, 1, 1, 1, 1, 1, 1, 1, 1]'), Text(0.041666666666666664, 0.9318181818181818, 'gini = 0.0\\nsamples = 1\\nvalue = [1, 0, 0, 0, 0, 0, 0, 0, 0, 0, 0, 0, 0, 0\\n0, 0, 0, 0, 0, 0, 0, 0, 0, 0]'), Text(0.125, 0.9318181818181818, 'x[0] <= 1.65\\ngini = 0.957\\nsamples = 23\\nvalue = [0, 1, 1, 1, 1, 1, 1, 1, 1, 1, 1, 1, 1, 1\\n1, 1, 1, 1, 1, 1, 1, 1, 1, 1]'), Text(0.08333333333333333, 0.8863636363636364, 'gini = 0.0\\nsamples = 1\\nvalue = [0, 0, 0, 1, 0, 0, 0, 0, 0, 0, 0, 0, 0, 0\\n0, 0, 0, 0, 0, 0, 0, 0, 0, 0]'), Text(0.16666666666666666, 0.8863636363636364, 'x[0] <= 2.1\\ngini = 0.955\\nsamples = 22\\nvalue = [0, 1, 1, 0, 1, 1, 1, 1, 1, 1, 1, 1, 1, 1\\n1, 1, 1, 1, 1, 1, 1, 1, 1, 1]'), Text(0.125, 0.8409090909090909, 'gini = 0.0\\nsamples = 1\\nvalue = [0, 0, 1, 0, 0, 0, 0, 0, 0, 0, 0, 0, 0, 0\\n0, 0, 0, 0, 0, 0, 0, 0, 0, 0]'), Text(0.20833333333333334, 0.8409090909090909, 'x[0] <= 2.55\\ngini = 0.952\\nsamples = 21\\nvalue = [0, 1, 0, 0, 1, 1, 1, 1, 1, 1, 1, 1, 1, 1\\n1, 1, 1, 1, 1, 1, 1, 1, 1, 1]'), Text(0.16666666666666666, 0.7954545454545454, 'gini = 0.0\\nsamples = 1\\nvalue = [0, 1, 0, 0, 0, 0, 0, 0, 0, 0, 0, 0, 0, 0\\n0, 0, 0, 0, 0, 0, 0, 0, 0, 0]'), Text(0.25, 0.7954545454545454, 'x[0] <= 2.95\\ngini = 0.95\\nsamples = 20\\nvalue = [0, 0, 0, 0, 1, 1, 1, 1, 1, 1, 1, 1, 1, 1\\n1, 1, 1, 1, 1, 1, 1, 1, 1, 1]'), Text(0.20833333333333334, 0.75, 'gini = 0.0\\nsamples = 1\\nvalue = [0, 0, 0, 0, 0, 0, 1, 0, 0, 0, 0, 0, 0, 0\\n0, 0, 0, 0, 0, 0, 0, 0, 0, 0]'), Text(0.2916666666666667, 0.75, 'x[0] <= 3.1\\ngini = 0.947\\nsamples = 19\\nvalue = [0, 0, 0, 0, 1, 1, 0, 1, 1, 1, 1, 1, 1, 1\\n1, 1, 1, 1, 1, 1, 1, 1, 1, 1]'), Text(0.25, 0.7045454545454546, 'gini = 0.0\\nsamples = 1\\nvalue = [0, 0, 0, 0, 0, 0, 0, 0, 0, 1, 0, 0, 0, 0\\n0, 0, 0, 0, 0, 0, 0, 0, 0, 0]'), Text(0.3333333333333333, 0.7045454545454546, 'x[0] <= 3.45\\ngini = 0.944\\nsamples = 18\\nvalue = [0, 0, 0, 0, 1, 1, 0, 1, 1, 0, 1, 1, 1, 1\\n1, 1, 1, 1, 1, 1, 1, 1, 1, 1]'), Text(0.2916666666666667, 0.6590909090909091, 'gini = 0.5\\nsamples = 2\\nvalue = [0, 0, 0, 0, 1, 0, 0, 0, 0, 0, 0, 1, 0, 0\\n0, 0, 0, 0, 0, 0, 0, 0, 0, 0]'), Text(0.375, 0.6590909090909091, 'x[0] <= 3.85\\ngini = 0.938\\nsamples = 16\\nvalue = [0, 0, 0, 0, 0, 1, 0, 1, 1, 0, 1, 0, 1, 1\\n1, 1, 1, 1, 1, 1, 1, 1, 1, 1]'), Text(0.3333333333333333, 0.6136363636363636, 'gini = 0.0\\nsamples = 1\\nvalue = [0, 0, 0, 0, 0, 0, 0, 0, 1, 0, 0, 0, 0, 0\\n0, 0, 0, 0, 0, 0, 0, 0, 0, 0]'), Text(0.4166666666666667, 0.6136363636363636, 'x[0] <= 4.25\\ngini = 0.933\\nsamples = 15\\nvalue = [0, 0, 0, 0, 0, 1, 0, 1, 0, 0, 1, 0, 1, 1\\n1, 1, 1, 1, 1, 1, 1, 1, 1, 1]'), Text(0.375, 0.5681818181818182, 'gini = 0.5\\nsamples = 2\\nvalue = [0, 0, 0, 0, 0, 1, 0, 1, 0, 0, 0, 0, 0, 0\\n0, 0, 0, 0, 0, 0, 0, 0, 0, 0]'), Text(0.4583333333333333, 0.5681818181818182, 'x[0] <= 4.7\\ngini = 0.923\\nsamples = 13\\nvalue = [0, 0, 0, 0, 0, 0, 0, 0, 0, 0, 1, 0, 1, 1\\n1, 1, 1, 1, 1, 1, 1, 1, 1, 1]'), Text(0.4166666666666667, 0.5227272727272727, 'gini = 0.0\\nsamples = 1\\nvalue = [0, 0, 0, 0, 0, 0, 0, 0, 0, 0, 1, 0, 0, 0\\n0, 0, 0, 0, 0, 0, 0, 0, 0, 0]'), Text(0.5, 0.5227272727272727, 'x[0] <= 5.0\\ngini = 0.917\\nsamples = 12\\nvalue = [0, 0, 0, 0, 0, 0, 0, 0, 0, 0, 0, 0, 1, 1\\n1, 1, 1, 1, 1, 1, 1, 1, 1, 1]'), Text(0.4583333333333333, 0.4772727272727273, 'gini = 0.0\\nsamples = 1\\nvalue = [0, 0, 0, 0, 0, 0, 0, 0, 0, 0, 0, 0, 0, 1\\n0, 0, 0, 0, 0, 0, 0, 0, 0, 0]'), Text(0.5416666666666666, 0.4772727272727273, 'x[0] <= 5.2\\ngini = 0.909\\nsamples = 11\\nvalue = [0, 0, 0, 0, 0, 0, 0, 0, 0, 0, 0, 0, 1, 0\\n1, 1, 1, 1, 1, 1, 1, 1, 1, 1]'), Text(0.5, 0.4318181818181818, 'gini = 0.0\\nsamples = 1\\nvalue = [0, 0, 0, 0, 0, 0, 0, 0, 0, 0, 0, 0, 1, 0\\n0, 0, 0, 0, 0, 0, 0, 0, 0, 0]'), Text(0.5833333333333334, 0.4318181818181818, 'x[0] <= 5.6\\ngini = 0.9\\nsamples = 10\\nvalue = [0, 0, 0, 0, 0, 0, 0, 0, 0, 0, 0, 0, 0, 0\\n1, 1, 1, 1, 1, 1, 1, 1, 1, 1]'), Text(0.5416666666666666, 0.38636363636363635, 'gini = 0.0\\nsamples = 1\\nvalue = [0, 0, 0, 0, 0, 0, 0, 0, 0, 0, 0, 0, 0, 0\\n0, 1, 0, 0, 0, 0, 0, 0, 0, 0]'), Text(0.625, 0.38636363636363635, 'x[0] <= 5.95\\ngini = 0.889\\nsamples = 9\\nvalue = [0, 0, 0, 0, 0, 0, 0, 0, 0, 0, 0, 0, 0, 0\\n1, 0, 1, 1, 1, 1, 1, 1, 1, 1]'), Text(0.5833333333333334, 0.3409090909090909, 'gini = 0.0\\nsamples = 1\\nvalue = [0, 0, 0, 0, 0, 0, 0, 0, 0, 0, 0, 0, 0, 0\\n1, 0, 0, 0, 0, 0, 0, 0, 0, 0]'), Text(0.6666666666666666, 0.3409090909090909, 'x[0] <= 6.4\\ngini = 0.875\\nsamples = 8\\nvalue = [0, 0, 0, 0, 0, 0, 0, 0, 0, 0, 0, 0, 0, 0\\n0, 0, 1, 1, 1, 1, 1, 1, 1, 1]'), Text(0.625, 0.29545454545454547, 'gini = 0.0\\nsamples = 1\\nvalue = [0, 0, 0, 0, 0, 0, 0, 0, 0, 0, 0, 0, 0, 0\\n0, 0, 0, 1, 0, 0, 0, 0, 0, 0]'), Text(0.7083333333333334, 0.29545454545454547, 'x[0] <= 6.95\\ngini = 0.857\\nsamples = 7\\nvalue = [0, 0, 0, 0, 0, 0, 0, 0, 0, 0, 0, 0, 0, 0\\n0, 0, 1, 0, 1, 1, 1, 1, 1, 1]'), Text(0.6666666666666666, 0.25, 'gini = 0.0\\nsamples = 1\\nvalue = [0, 0, 0, 0, 0, 0, 0, 0, 0, 0, 0, 0, 0, 0\\n0, 0, 1, 0, 0, 0, 0, 0, 0, 0]'), Text(0.75, 0.25, 'x[0] <= 7.5\\ngini = 0.833\\nsamples = 6\\nvalue = [0, 0, 0, 0, 0, 0, 0, 0, 0, 0, 0, 0, 0, 0\\n0, 0, 0, 0, 1, 1, 1, 1, 1, 1]'), Text(0.7083333333333334, 0.20454545454545456, 'gini = 0.0\\nsamples = 1\\nvalue = [0, 0, 0, 0, 0, 0, 0, 0, 0, 0, 0, 0, 0, 0\\n0, 0, 0, 0, 1, 0, 0, 0, 0, 0]'), Text(0.7916666666666666, 0.20454545454545456, 'x[0] <= 8.05\\ngini = 0.8\\nsamples = 5\\nvalue = [0, 0, 0, 0, 0, 0, 0, 0, 0, 0, 0, 0, 0, 0\\n0, 0, 0, 0, 0, 1, 1, 1, 1, 1]'), Text(0.75, 0.1590909090909091, 'gini = 0.0\\nsamples = 1\\nvalue = [0, 0, 0, 0, 0, 0, 0, 0, 0, 0, 0, 0, 0, 0\\n0, 0, 0, 0, 0, 1, 0, 0, 0, 0]'), Text(0.8333333333333334, 0.1590909090909091, 'x[0] <= 8.6\\ngini = 0.75\\nsamples = 4\\nvalue = [0, 0, 0, 0, 0, 0, 0, 0, 0, 0, 0, 0, 0, 0\\n0, 0, 0, 0, 0, 0, 1, 1, 1, 1]'), Text(0.7916666666666666, 0.11363636363636363, 'gini = 0.0\\nsamples = 1\\nvalue = [0, 0, 0, 0, 0, 0, 0, 0, 0, 0, 0, 0, 0, 0\\n0, 0, 0, 0, 0, 0, 0, 0, 1, 0]'), Text(0.875, 0.11363636363636363, 'x[0] <= 9.3\\ngini = 0.667\\nsamples = 3\\nvalue = [0, 0, 0, 0, 0, 0, 0, 0, 0, 0, 0, 0, 0, 0\\n0, 0, 0, 0, 0, 0, 1, 1, 0, 1]'), Text(0.8333333333333334, 0.06818181818181818, 'gini = 0.0\\nsamples = 1\\nvalue = [0, 0, 0, 0, 0, 0, 0, 0, 0, 0, 0, 0, 0, 0\\n0, 0, 0, 0, 0, 0, 1, 0, 0, 0]'), Text(0.9166666666666666, 0.06818181818181818, 'x[0] <= 10.05\\ngini = 0.5\\nsamples = 2\\nvalue = [0, 0, 0, 0, 0, 0, 0, 0, 0, 0, 0, 0, 0, 0\\n0, 0, 0, 0, 0, 0, 0, 1, 0, 1]'), Text(0.875, 0.022727272727272728, 'gini = 0.0\\nsamples = 1\\nvalue = [0, 0, 0, 0, 0, 0, 0, 0, 0, 0, 0, 0, 0, 0\\n0, 0, 0, 0, 0, 0, 0, 1, 0, 0]'), Text(0.9583333333333334, 0.022727272727272728, 'gini = 0.0\\nsamples = 1\\nvalue = [0, 0, 0, 0, 0, 0, 0, 0, 0, 0, 0, 0, 0, 0\\n0, 0, 0, 0, 0, 0, 0, 0, 0, 1]')]\n"
          ]
        },
        {
          "output_type": "display_data",
          "data": {
            "text/plain": [
              "<Figure size 640x480 with 1 Axes>"
            ],
            "image/png": "[encoded data removed]"
          },
          "metadata": {}
        },
        {
          "output_type": "stream",
          "name": "stdout",
          "text": [
            "\n",
            "Actual vs Predicted values:\n",
            "     Actual  Predicted\n",
            "0   37731.0    46205.0\n",
            "1  122391.0   121872.0\n",
            "2   57081.0    55794.0\n",
            "3   63218.0    55794.0\n",
            "4  116969.0   112635.0\n",
            "5  109431.0   105582.0\n",
            "\n",
            "Mean Squared Error: 27074756.5\n",
            "Mean Absolute Error: 4314.5\n",
            "Mean Absolute Percentage Error: 5.676749601989394 %\n"
          ]
        }
      ]
    },
    {
      "cell_type": "markdown",
      "source": [
        "**Задание**\n",
        "\n",
        "Постройте модель регрессии для данных из предыдущей рабочей тетради.\n",
        "\n",
        "Для примера можно взять потребления газа (в миллионах галлонов) в 48 штатах США или набор данных о качестве красного вина:\n",
        "* https://raw.githubusercontent.com/likarajo/petrol_consumption/master/data/petrol_consumption.csv\n",
        "* https://raw.githubusercontent.com/aniruddhachoudhury/Red-Wine-Quality/master/winequality-red.csv\n",
        "\n",
        "Постройте прогноз. Оцените точность модели.\n"
      ],
      "metadata": {
        "id": "iI5hKdP91TtV"
      }
    },
    {
      "cell_type": "code",
      "source": [
        "import matplotlib.pyplot as plt\n",
        "import numpy as np\n",
        "import pandas as pd\n",
        "from sklearn import metrics\n",
        "from sklearn import tree\n",
        "from sklearn.model_selection import train_test_split\n",
        "from sklearn.tree import DecisionTreeClassifier\n",
        "\n",
        "url = \"https://raw.githubusercontent.com/aniruddhachoudhury/Red-Wine-Quality/master/winequality-red.csv\"\n",
        "dataset = pd.read_csv(url)\n",
        "\n",
        "print(f\"First 5 rows of the dataset:\\n{dataset.head()}\")\n",
        "\n",
        "print(f\"\\nShape of the dataset: {dataset.shape}\")\n",
        "\n",
        "print(f\"\\nBasic statistics of the dataset:\\n{dataset.describe()}\")\n",
        "\n",
        "X = dataset.iloc[:, :-1]\n",
        "y = dataset.iloc[:, -1]\n",
        "\n",
        "print(f\"\\nFeatures:\\n{X}\")\n",
        "\n",
        "print(f\"\\nTarget variable:\\n{y}\")\n",
        "\n",
        "X_train, X_test, y_train, y_test = train_test_split(X, y, test_size=0.2, random_state=0)\n",
        "\n",
        "regressor = DecisionTreeClassifier()\n",
        "regressor.fit(X_train, y_train)\n",
        "\n",
        "print(f\"\\nDecision tree:\\n{tree.plot_tree(regressor)}\")\n",
        "plt.show()\n",
        "\n",
        "y_pred = regressor.predict(X_test)\n",
        "\n",
        "plt.figure(figsize=(10, 5))\n",
        "plt.scatter(y_test, y_pred)\n",
        "plt.xlabel('Actual Quality')\n",
        "plt.ylabel('Predicted Quality')\n",
        "plt.title('Actual vs Predicted Wine Quality')\n",
        "plt.show()\n",
        "\n",
        "df = pd.DataFrame({\n",
        "    \"Actual\": y_test,\n",
        "    \"Predicted\": y_pred\n",
        "})\n",
        "\n",
        "print(f\"\\nActual vs Predicted values:\\n{df}\")\n",
        "\n",
        "mse = metrics.mean_squared_error(y_test, y_pred)\n",
        "mae = metrics.mean_absolute_error(y_test, y_pred)\n",
        "mape = mae / np.average(y) * 100\n",
        "\n",
        "print(f\"\\nMean Squared Error: {mse}\")\n",
        "print(f\"Mean Absolute Error: {mae}\")\n",
        "print(f\"Mean Absolute Percentage Error: {mape} %\")"
      ],
      "metadata": {
        "colab": {
          "base_uri": "https://localhost:8080/",
          "height": 1000
        },
        "id": "ke1uZCIm56ZF",
        "outputId": "e1766cee-cf11-4262-ce61-0a14e331662d"
      },
      "execution_count": 18,
      "outputs": [
        {
          "output_type": "stream",
          "name": "stdout",
          "text": [
            "First 5 rows of the dataset:\n",
            "   fixed acidity  volatile acidity  citric acid  residual sugar  chlorides  \\\n",
            "0            7.4              0.70         0.00             1.9      0.076   \n",
            "1            7.8              0.88         0.00             2.6      0.098   \n",
            "2            7.8              0.76         0.04             2.3      0.092   \n",
            "3           11.2              0.28         0.56             1.9      0.075   \n",
            "4            7.4              0.70         0.00             1.9      0.076   \n",
            "\n",
            "   free sulfur dioxide  total sulfur dioxide  density    pH  sulphates  \\\n",
            "0                 11.0                  34.0   0.9978  3.51       0.56   \n",
            "1                 25.0                  67.0   0.9968  3.20       0.68   \n",
            "2                 15.0                  54.0   0.9970  3.26       0.65   \n",
            "3                 17.0                  60.0   0.9980  3.16       0.58   \n",
            "4                 11.0                  34.0   0.9978  3.51       0.56   \n",
            "\n",
            "   alcohol  quality  \n",
            "0      9.4        5  \n",
            "1      9.8        5  \n",
            "2      9.8        5  \n",
            "3      9.8        6  \n",
            "4      9.4        5  \n",
            "\n",
            "Shape of the dataset: (1599, 12)\n",
            "\n",
            "Basic statistics of the dataset:\n",
            "       fixed acidity  volatile acidity  citric acid  residual sugar  \\\n",
            "count    1599.000000       1599.000000  1599.000000     1599.000000   \n",
            "mean        8.319637          0.527821     0.270976        2.538806   \n",
            "std         1.741096          0.179060     0.194801        1.409928   \n",
            "min         4.600000          0.120000     0.000000        0.900000   \n",
            "25%         7.100000          0.390000     0.090000        1.900000   \n",
            "50%         7.900000          0.520000     0.260000        2.200000   \n",
            "75%         9.200000          0.640000     0.420000        2.600000   \n",
            "max        15.900000          1.580000     1.000000       15.500000   \n",
            "\n",
            "         chlorides  free sulfur dioxide  total sulfur dioxide      density  \\\n",
            "count  1599.000000          1599.000000           1599.000000  1599.000000   \n",
            "mean      0.087467            15.874922             46.467792     0.996747   \n",
            "std       0.047065            10.460157             32.895324     0.001887   \n",
            "min       0.012000             1.000000              6.000000     0.990070   \n",
            "25%       0.070000             7.000000             22.000000     0.995600   \n",
            "50%       0.079000            14.000000             38.000000     0.996750   \n",
            "75%       0.090000            21.000000             62.000000     0.997835   \n",
            "max       0.611000            72.000000            289.000000     1.003690   \n",
            "\n",
            "                pH    sulphates      alcohol      quality  \n",
            "count  1599.000000  1599.000000  1599.000000  1599.000000  \n",
            "mean      3.311113     0.658149    10.422983     5.636023  \n",
            "std       0.154386     0.169507     1.065668     0.807569  \n",
            "min       2.740000     0.330000     8.400000     3.000000  \n",
            "25%       3.210000     0.550000     9.500000     5.000000  \n",
            "50%       3.310000     0.620000    10.200000     6.000000  \n",
            "75%       3.400000     0.730000    11.100000     6.000000  \n",
            "max       4.010000     2.000000    14.900000     8.000000  \n",
            "\n",
            "Features:\n",
            "      fixed acidity  volatile acidity  citric acid  residual sugar  chlorides  \\\n",
            "0               7.4             0.700         0.00             1.9      0.076   \n",
            "1               7.8             0.880         0.00             2.6      0.098   \n",
            "2               7.8             0.760         0.04             2.3      0.092   \n",
            "3              11.2             0.280         0.56             1.9      0.075   \n",
            "4               7.4             0.700         0.00             1.9      0.076   \n",
            "...             ...               ...          ...             ...        ...   \n",
            "1594            6.2             0.600         0.08             2.0      0.090   \n",
            "1595            5.9             0.550         0.10             2.2      0.062   \n",
            "1596            6.3             0.510         0.13             2.3      0.076   \n",
            "1597            5.9             0.645         0.12             2.0      0.075   \n",
            "1598            6.0             0.310         0.47             3.6      0.067   \n",
            "\n",
            "      free sulfur dioxide  total sulfur dioxide  density    pH  sulphates  \\\n",
            "0                    11.0                  34.0  0.99780  3.51       0.56   \n",
            "1                    25.0                  67.0  0.99680  3.20       0.68   \n",
            "2                    15.0                  54.0  0.99700  3.26       0.65   \n",
            "3                    17.0                  60.0  0.99800  3.16       0.58   \n",
            "4                    11.0                  34.0  0.99780  3.51       0.56   \n",
            "...                   ...                   ...      ...   ...        ...   \n",
            "1594                 32.0                  44.0  0.99490  3.45       0.58   \n",
            "1595                 39.0                  51.0  0.99512  3.52       0.76   \n",
            "1596                 29.0                  40.0  0.99574  3.42       0.75   \n",
            "1597                 32.0                  44.0  0.99547  3.57       0.71   \n",
            "1598                 18.0                  42.0  0.99549  3.39       0.66   \n",
            "\n",
            "      alcohol  \n",
            "0         9.4  \n",
            "1         9.8  \n",
            "2         9.8  \n",
            "3         9.8  \n",
            "4         9.4  \n",
            "...       ...  \n",
            "1594     10.5  \n",
            "1595     11.2  \n",
            "1596     11.0  \n",
            "1597     10.2  \n",
            "1598     11.0  \n",
            "\n",
            "[1599 rows x 11 columns]\n",
            "\n",
            "Target variable:\n",
            "0       5\n",
            "1       5\n",
            "2       5\n",
            "3       6\n",
            "4       5\n",
            "       ..\n",
            "1594    5\n",
            "1595    6\n",
            "1596    6\n",
            "1597    5\n",
            "1598    6\n",
            "Name: quality, Length: 1599, dtype: int64\n",
            "\n",
            "Decision tree:\n",
            "[Text(0.43599506277492667, 0.9761904761904762, 'x[10] <= 10.35\\ngini = 0.648\\nsamples = 1279\\nvalue = [8, 42, 546, 496, 172, 15]'), Text(0.21866981304985336, 0.9285714285714286, 'x[9] <= 0.585\\ngini = 0.527\\nsamples = 703\\nvalue = [5, 23, 428, 222, 24, 1]'), Text(0.04424028592375367, 0.8809523809523809, 'x[10] <= 9.075\\ngini = 0.42\\nsamples = 331\\nvalue = [3, 15, 242, 69, 2, 0]'), Text(0.008797653958944282, 0.8333333333333334, 'x[6] <= 71.0\\ngini = 0.587\\nsamples = 15\\nvalue = [0, 2, 5, 8, 0, 0]'), Text(0.005865102639296188, 0.7857142857142857, 'x[7] <= 0.996\\ngini = 0.43\\nsamples = 11\\nvalue = [0, 2, 1, 8, 0, 0]'), Text(0.002932551319648094, 0.7380952380952381, 'gini = 0.0\\nsamples = 2\\nvalue = [0, 2, 0, 0, 0, 0]'), Text(0.008797653958944282, 0.7380952380952381, 'x[0] <= 13.25\\ngini = 0.198\\nsamples = 9\\nvalue = [0, 0, 1, 8, 0, 0]'), Text(0.005865102639296188, 0.6904761904761905, 'gini = 0.0\\nsamples = 8\\nvalue = [0, 0, 0, 8, 0, 0]'), Text(0.011730205278592375, 0.6904761904761905, 'gini = 0.0\\nsamples = 1\\nvalue = [0, 0, 1, 0, 0, 0]'), Text(0.011730205278592375, 0.7857142857142857, 'gini = 0.0\\nsamples = 4\\nvalue = [0, 0, 4, 0, 0, 0]'), Text(0.07968291788856305, 0.8333333333333334, 'x[10] <= 9.533\\ngini = 0.398\\nsamples = 316\\nvalue = [3, 13, 237, 61, 2, 0]'), Text(0.038856304985337244, 0.7857142857142857, 'x[4] <= 0.08\\ngini = 0.269\\nsamples = 161\\nvalue = [0, 3, 136, 21, 1, 0]'), Text(0.020527859237536656, 0.7380952380952381, 'x[9] <= 0.475\\ngini = 0.392\\nsamples = 71\\nvalue = [0, 1, 53, 16, 1, 0]'), Text(0.017595307917888565, 0.6904761904761905, 'gini = 0.0\\nsamples = 14\\nvalue = [0, 0, 14, 0, 0, 0]'), Text(0.02346041055718475, 0.6904761904761905, 'x[6] <= 116.5\\ngini = 0.452\\nsamples = 57\\nvalue = [0, 1, 39, 16, 1, 0]'), Text(0.020527859237536656, 0.6428571428571429, 'x[2] <= 0.26\\ngini = 0.508\\nsamples = 46\\nvalue = [0, 1, 28, 16, 1, 0]'), Text(0.010263929618768328, 0.5952380952380952, 'x[3] <= 1.85\\ngini = 0.44\\nsamples = 36\\nvalue = [0, 0, 25, 10, 1, 0]'), Text(0.007331378299120235, 0.5476190476190477, 'gini = 0.0\\nsamples = 11\\nvalue = [0, 0, 11, 0, 0, 0]'), Text(0.013196480938416423, 0.5476190476190477, 'x[0] <= 7.0\\ngini = 0.525\\nsamples = 25\\nvalue = [0, 0, 14, 10, 1, 0]'), Text(0.010263929618768328, 0.5, 'gini = 0.0\\nsamples = 4\\nvalue = [0, 0, 0, 4, 0, 0]'), Text(0.016129032258064516, 0.5, 'x[8] <= 3.325\\ngini = 0.472\\nsamples = 21\\nvalue = [0, 0, 14, 6, 1, 0]'), Text(0.010263929618768328, 0.4523809523809524, 'x[4] <= 0.076\\ngini = 0.48\\nsamples = 10\\nvalue = [0, 0, 4, 6, 0, 0]'), Text(0.007331378299120235, 0.40476190476190477, 'x[1] <= 0.42\\ngini = 0.245\\nsamples = 7\\nvalue = [0, 0, 1, 6, 0, 0]'), Text(0.004398826979472141, 0.35714285714285715, 'gini = 0.0\\nsamples = 1\\nvalue = [0, 0, 1, 0, 0, 0]'), Text(0.010263929618768328, 0.35714285714285715, 'gini = 0.0\\nsamples = 6\\nvalue = [0, 0, 0, 6, 0, 0]'), Text(0.013196480938416423, 0.40476190476190477, 'gini = 0.0\\nsamples = 3\\nvalue = [0, 0, 3, 0, 0, 0]'), Text(0.021994134897360705, 0.4523809523809524, 'x[6] <= 20.0\\ngini = 0.165\\nsamples = 11\\nvalue = [0, 0, 10, 0, 1, 0]'), Text(0.01906158357771261, 0.40476190476190477, 'gini = 0.0\\nsamples = 1\\nvalue = [0, 0, 0, 0, 1, 0]'), Text(0.024926686217008796, 0.40476190476190477, 'gini = 0.0\\nsamples = 10\\nvalue = [0, 0, 10, 0, 0, 0]'), Text(0.030791788856304986, 0.5952380952380952, 'x[6] <= 63.0\\ngini = 0.54\\nsamples = 10\\nvalue = [0, 1, 3, 6, 0, 0]'), Text(0.024926686217008796, 0.5476190476190477, 'x[0] <= 9.55\\ngini = 0.278\\nsamples = 6\\nvalue = [0, 1, 0, 5, 0, 0]'), Text(0.021994134897360705, 0.5, 'gini = 0.0\\nsamples = 5\\nvalue = [0, 0, 0, 5, 0, 0]'), Text(0.02785923753665689, 0.5, 'gini = 0.0\\nsamples = 1\\nvalue = [0, 1, 0, 0, 0, 0]'), Text(0.036656891495601175, 0.5476190476190477, 'x[8] <= 3.235\\ngini = 0.375\\nsamples = 4\\nvalue = [0, 0, 3, 1, 0, 0]'), Text(0.03372434017595308, 0.5, 'gini = 0.0\\nsamples = 1\\nvalue = [0, 0, 0, 1, 0, 0]'), Text(0.039589442815249266, 0.5, 'gini = 0.0\\nsamples = 3\\nvalue = [0, 0, 3, 0, 0, 0]'), Text(0.026392961876832845, 0.6428571428571429, 'gini = 0.0\\nsamples = 11\\nvalue = [0, 0, 11, 0, 0, 0]'), Text(0.05718475073313783, 0.7380952380952381, 'x[2] <= 0.135\\ngini = 0.146\\nsamples = 90\\nvalue = [0, 2, 83, 5, 0, 0]'), Text(0.051319648093841645, 0.6904761904761905, 'x[7] <= 0.999\\ngini = 0.302\\nsamples = 27\\nvalue = [0, 0, 22, 5, 0, 0]'), Text(0.04838709677419355, 0.6428571428571429, 'x[3] <= 2.05\\ngini = 0.211\\nsamples = 25\\nvalue = [0, 0, 22, 3, 0, 0]'), Text(0.045454545454545456, 0.5952380952380952, 'x[8] <= 3.31\\ngini = 0.469\\nsamples = 8\\nvalue = [0, 0, 5, 3, 0, 0]'), Text(0.04252199413489736, 0.5476190476190477, 'gini = 0.0\\nsamples = 3\\nvalue = [0, 0, 3, 0, 0, 0]'), Text(0.04838709677419355, 0.5476190476190477, 'x[8] <= 3.4\\ngini = 0.48\\nsamples = 5\\nvalue = [0, 0, 2, 3, 0, 0]'), Text(0.045454545454545456, 0.5, 'gini = 0.0\\nsamples = 3\\nvalue = [0, 0, 0, 3, 0, 0]'), Text(0.051319648093841645, 0.5, 'gini = 0.0\\nsamples = 2\\nvalue = [0, 0, 2, 0, 0, 0]'), Text(0.051319648093841645, 0.5952380952380952, 'gini = 0.0\\nsamples = 17\\nvalue = [0, 0, 17, 0, 0, 0]'), Text(0.054252199413489736, 0.6428571428571429, 'gini = 0.0\\nsamples = 2\\nvalue = [0, 0, 0, 2, 0, 0]'), Text(0.06304985337243402, 0.6904761904761905, 'x[6] <= 50.0\\ngini = 0.061\\nsamples = 63\\nvalue = [0, 2, 61, 0, 0, 0]'), Text(0.060117302052785926, 0.6428571428571429, 'x[6] <= 41.0\\ngini = 0.188\\nsamples = 19\\nvalue = [0, 2, 17, 0, 0, 0]'), Text(0.05718475073313783, 0.5952380952380952, 'gini = 0.0\\nsamples = 17\\nvalue = [0, 0, 17, 0, 0, 0]'), Text(0.06304985337243402, 0.5952380952380952, 'gini = 0.0\\nsamples = 2\\nvalue = [0, 2, 0, 0, 0, 0]'), Text(0.06598240469208211, 0.6428571428571429, 'gini = 0.0\\nsamples = 44\\nvalue = [0, 0, 44, 0, 0, 0]'), Text(0.12050953079178886, 0.7857142857142857, 'x[1] <= 0.54\\ngini = 0.504\\nsamples = 155\\nvalue = [3, 10, 101, 40, 1, 0]'), Text(0.08431085043988269, 0.7380952380952381, 'x[7] <= 0.996\\ngini = 0.564\\nsamples = 41\\nvalue = [0, 3, 20, 18, 0, 0]'), Text(0.0747800586510264, 0.6904761904761905, 'x[3] <= 2.25\\ngini = 0.34\\nsamples = 10\\nvalue = [0, 1, 8, 1, 0, 0]'), Text(0.0718475073313783, 0.6428571428571429, 'x[4] <= 0.069\\ngini = 0.198\\nsamples = 9\\nvalue = [0, 1, 8, 0, 0, 0]'), Text(0.0689149560117302, 0.5952380952380952, 'gini = 0.0\\nsamples = 1\\nvalue = [0, 1, 0, 0, 0, 0]'), Text(0.0747800586510264, 0.5952380952380952, 'gini = 0.0\\nsamples = 8\\nvalue = [0, 0, 8, 0, 0, 0]'), Text(0.07771260997067449, 0.6428571428571429, 'gini = 0.0\\nsamples = 1\\nvalue = [0, 0, 0, 1, 0, 0]'), Text(0.093841642228739, 0.6904761904761905, 'x[2] <= 0.245\\ngini = 0.545\\nsamples = 31\\nvalue = [0, 2, 12, 17, 0, 0]'), Text(0.08357771260997067, 0.6428571428571429, 'x[6] <= 16.0\\ngini = 0.338\\nsamples = 15\\nvalue = [0, 1, 2, 12, 0, 0]'), Text(0.08064516129032258, 0.5952380952380952, 'gini = 0.0\\nsamples = 1\\nvalue = [0, 1, 0, 0, 0, 0]'), Text(0.08651026392961877, 0.5952380952380952, 'x[8] <= 3.415\\ngini = 0.245\\nsamples = 14\\nvalue = [0, 0, 2, 12, 0, 0]'), Text(0.08357771260997067, 0.5476190476190477, 'x[9] <= 0.565\\ngini = 0.142\\nsamples = 13\\nvalue = [0, 0, 1, 12, 0, 0]'), Text(0.08064516129032258, 0.5, 'gini = 0.0\\nsamples = 11\\nvalue = [0, 0, 0, 11, 0, 0]'), Text(0.08651026392961877, 0.5, 'x[0] <= 8.0\\ngini = 0.5\\nsamples = 2\\nvalue = [0, 0, 1, 1, 0, 0]'), Text(0.08357771260997067, 0.4523809523809524, 'gini = 0.0\\nsamples = 1\\nvalue = [0, 0, 1, 0, 0, 0]'), Text(0.08944281524926687, 0.4523809523809524, 'gini = 0.0\\nsamples = 1\\nvalue = [0, 0, 0, 1, 0, 0]'), Text(0.08944281524926687, 0.5476190476190477, 'gini = 0.0\\nsamples = 1\\nvalue = [0, 0, 1, 0, 0, 0]'), Text(0.10410557184750734, 0.6428571428571429, 'x[4] <= 0.078\\ngini = 0.508\\nsamples = 16\\nvalue = [0, 1, 10, 5, 0, 0]'), Text(0.10117302052785923, 0.5952380952380952, 'x[8] <= 3.145\\ngini = 0.531\\nsamples = 8\\nvalue = [0, 1, 2, 5, 0, 0]'), Text(0.09530791788856305, 0.5476190476190477, 'x[3] <= 3.9\\ngini = 0.5\\nsamples = 2\\nvalue = [0, 1, 1, 0, 0, 0]'), Text(0.09237536656891496, 0.5, 'gini = 0.0\\nsamples = 1\\nvalue = [0, 0, 1, 0, 0, 0]'), Text(0.09824046920821114, 0.5, 'gini = 0.0\\nsamples = 1\\nvalue = [0, 1, 0, 0, 0, 0]'), Text(0.10703812316715543, 0.5476190476190477, 'x[4] <= 0.069\\ngini = 0.278\\nsamples = 6\\nvalue = [0, 0, 1, 5, 0, 0]'), Text(0.10410557184750734, 0.5, 'x[5] <= 39.0\\ngini = 0.5\\nsamples = 2\\nvalue = [0, 0, 1, 1, 0, 0]'), Text(0.10117302052785923, 0.4523809523809524, 'gini = 0.0\\nsamples = 1\\nvalue = [0, 0, 1, 0, 0, 0]'), Text(0.10703812316715543, 0.4523809523809524, 'gini = 0.0\\nsamples = 1\\nvalue = [0, 0, 0, 1, 0, 0]'), Text(0.10997067448680352, 0.5, 'gini = 0.0\\nsamples = 4\\nvalue = [0, 0, 0, 4, 0, 0]'), Text(0.10703812316715543, 0.5952380952380952, 'gini = 0.0\\nsamples = 8\\nvalue = [0, 0, 8, 0, 0, 0]'), Text(0.15670821114369501, 0.7380952380952381, 'x[7] <= 0.996\\ngini = 0.453\\nsamples = 114\\nvalue = [3, 7, 81, 22, 1, 0]'), Text(0.13049853372434017, 0.6904761904761905, 'x[4] <= 0.169\\ngini = 0.241\\nsamples = 38\\nvalue = [1, 1, 33, 2, 1, 0]'), Text(0.12463343108504399, 0.6428571428571429, 'x[1] <= 1.022\\ngini = 0.156\\nsamples = 36\\nvalue = [0, 0, 33, 2, 1, 0]'), Text(0.1217008797653959, 0.5952380952380952, 'x[6] <= 107.0\\ngini = 0.109\\nsamples = 35\\nvalue = [0, 0, 33, 1, 1, 0]'), Text(0.1187683284457478, 0.5476190476190477, 'x[3] <= 1.25\\ngini = 0.057\\nsamples = 34\\nvalue = [0, 0, 33, 0, 1, 0]'), Text(0.1158357771260997, 0.5, 'x[9] <= 0.525\\ngini = 0.5\\nsamples = 2\\nvalue = [0, 0, 1, 0, 1, 0]'), Text(0.11290322580645161, 0.4523809523809524, 'gini = 0.0\\nsamples = 1\\nvalue = [0, 0, 0, 0, 1, 0]'), Text(0.1187683284457478, 0.4523809523809524, 'gini = 0.0\\nsamples = 1\\nvalue = [0, 0, 1, 0, 0, 0]'), Text(0.1217008797653959, 0.5, 'gini = 0.0\\nsamples = 32\\nvalue = [0, 0, 32, 0, 0, 0]'), Text(0.12463343108504399, 0.5476190476190477, 'gini = 0.0\\nsamples = 1\\nvalue = [0, 0, 0, 1, 0, 0]'), Text(0.12756598240469208, 0.5952380952380952, 'gini = 0.0\\nsamples = 1\\nvalue = [0, 0, 0, 1, 0, 0]'), Text(0.13636363636363635, 0.6428571428571429, 'x[3] <= 1.35\\ngini = 0.5\\nsamples = 2\\nvalue = [1, 1, 0, 0, 0, 0]'), Text(0.13343108504398826, 0.5952380952380952, 'gini = 0.0\\nsamples = 1\\nvalue = [1, 0, 0, 0, 0, 0]'), Text(0.13929618768328444, 0.5952380952380952, 'gini = 0.0\\nsamples = 1\\nvalue = [0, 1, 0, 0, 0, 0]'), Text(0.18291788856304986, 0.6904761904761905, 'x[5] <= 14.5\\ngini = 0.525\\nsamples = 76\\nvalue = [2, 6, 48, 20, 0, 0]'), Text(0.15469208211143695, 0.6428571428571429, 'x[5] <= 4.0\\ngini = 0.45\\nsamples = 39\\nvalue = [1, 6, 28, 4, 0, 0]'), Text(0.14516129032258066, 0.5952380952380952, 'x[2] <= 0.295\\ngini = 0.5\\nsamples = 2\\nvalue = [1, 1, 0, 0, 0, 0]'), Text(0.14222873900293256, 0.5476190476190477, 'gini = 0.0\\nsamples = 1\\nvalue = [1, 0, 0, 0, 0, 0]'), Text(0.14809384164222875, 0.5476190476190477, 'gini = 0.0\\nsamples = 1\\nvalue = [0, 1, 0, 0, 0, 0]'), Text(0.16422287390029325, 0.5952380952380952, 'x[2] <= 0.005\\ngini = 0.397\\nsamples = 37\\nvalue = [0, 5, 28, 4, 0, 0]'), Text(0.15395894428152493, 0.5476190476190477, 'x[9] <= 0.495\\ngini = 0.667\\nsamples = 6\\nvalue = [0, 2, 2, 2, 0, 0]'), Text(0.15102639296187684, 0.5, 'gini = 0.0\\nsamples = 2\\nvalue = [0, 2, 0, 0, 0, 0]'), Text(0.15689149560117302, 0.5, 'x[1] <= 0.71\\ngini = 0.5\\nsamples = 4\\nvalue = [0, 0, 2, 2, 0, 0]'), Text(0.15395894428152493, 0.4523809523809524, 'gini = 0.0\\nsamples = 2\\nvalue = [0, 0, 0, 2, 0, 0]'), Text(0.1598240469208211, 0.4523809523809524, 'gini = 0.0\\nsamples = 2\\nvalue = [0, 0, 2, 0, 0, 0]'), Text(0.1744868035190616, 0.5476190476190477, 'x[2] <= 0.265\\ngini = 0.283\\nsamples = 31\\nvalue = [0, 3, 26, 2, 0, 0]'), Text(0.16862170087976538, 0.5, 'x[0] <= 9.4\\ngini = 0.159\\nsamples = 23\\nvalue = [0, 0, 21, 2, 0, 0]'), Text(0.1656891495601173, 0.4523809523809524, 'x[5] <= 6.0\\ngini = 0.087\\nsamples = 22\\nvalue = [0, 0, 21, 1, 0, 0]'), Text(0.1627565982404692, 0.40476190476190477, 'x[4] <= 0.079\\ngini = 0.444\\nsamples = 3\\nvalue = [0, 0, 2, 1, 0, 0]'), Text(0.1598240469208211, 0.35714285714285715, 'gini = 0.0\\nsamples = 1\\nvalue = [0, 0, 0, 1, 0, 0]'), Text(0.1656891495601173, 0.35714285714285715, 'gini = 0.0\\nsamples = 2\\nvalue = [0, 0, 2, 0, 0, 0]'), Text(0.16862170087976538, 0.40476190476190477, 'gini = 0.0\\nsamples = 19\\nvalue = [0, 0, 19, 0, 0, 0]'), Text(0.17155425219941348, 0.4523809523809524, 'gini = 0.0\\nsamples = 1\\nvalue = [0, 0, 0, 1, 0, 0]'), Text(0.18035190615835778, 0.5, 'x[5] <= 6.5\\ngini = 0.469\\nsamples = 8\\nvalue = [0, 3, 5, 0, 0, 0]'), Text(0.1774193548387097, 0.4523809523809524, 'gini = 0.0\\nsamples = 5\\nvalue = [0, 0, 5, 0, 0, 0]'), Text(0.18328445747800587, 0.4523809523809524, 'gini = 0.0\\nsamples = 3\\nvalue = [0, 3, 0, 0, 0, 0]'), Text(0.21114369501466276, 0.6428571428571429, 'x[5] <= 24.5\\ngini = 0.52\\nsamples = 37\\nvalue = [1, 0, 20, 16, 0, 0]'), Text(0.20087976539589442, 0.5952380952380952, 'x[4] <= 0.079\\ngini = 0.492\\nsamples = 22\\nvalue = [1, 0, 7, 14, 0, 0]'), Text(0.19501466275659823, 0.5476190476190477, 'x[6] <= 54.5\\ngini = 0.449\\nsamples = 7\\nvalue = [1, 0, 5, 1, 0, 0]'), Text(0.19208211143695014, 0.5, 'x[8] <= 3.255\\ngini = 0.5\\nsamples = 2\\nvalue = [1, 0, 0, 1, 0, 0]'), Text(0.18914956011730205, 0.4523809523809524, 'gini = 0.0\\nsamples = 1\\nvalue = [0, 0, 0, 1, 0, 0]'), Text(0.19501466275659823, 0.4523809523809524, 'gini = 0.0\\nsamples = 1\\nvalue = [1, 0, 0, 0, 0, 0]'), Text(0.19794721407624633, 0.5, 'gini = 0.0\\nsamples = 5\\nvalue = [0, 0, 5, 0, 0, 0]'), Text(0.20674486803519063, 0.5476190476190477, 'x[2] <= 0.275\\ngini = 0.231\\nsamples = 15\\nvalue = [0, 0, 2, 13, 0, 0]'), Text(0.20381231671554254, 0.5, 'gini = 0.0\\nsamples = 12\\nvalue = [0, 0, 0, 12, 0, 0]'), Text(0.20967741935483872, 0.5, 'x[3] <= 2.45\\ngini = 0.444\\nsamples = 3\\nvalue = [0, 0, 2, 1, 0, 0]'), Text(0.20674486803519063, 0.4523809523809524, 'gini = 0.0\\nsamples = 1\\nvalue = [0, 0, 0, 1, 0, 0]'), Text(0.2126099706744868, 0.4523809523809524, 'gini = 0.0\\nsamples = 2\\nvalue = [0, 0, 2, 0, 0, 0]'), Text(0.22140762463343108, 0.5952380952380952, 'x[1] <= 0.925\\ngini = 0.231\\nsamples = 15\\nvalue = [0, 0, 13, 2, 0, 0]'), Text(0.218475073313783, 0.5476190476190477, 'x[9] <= 0.505\\ngini = 0.133\\nsamples = 14\\nvalue = [0, 0, 13, 1, 0, 0]'), Text(0.2155425219941349, 0.5, 'gini = 0.0\\nsamples = 1\\nvalue = [0, 0, 0, 1, 0, 0]'), Text(0.22140762463343108, 0.5, 'gini = 0.0\\nsamples = 13\\nvalue = [0, 0, 13, 0, 0, 0]'), Text(0.22434017595307917, 0.5476190476190477, 'gini = 0.0\\nsamples = 1\\nvalue = [0, 0, 0, 1, 0, 0]'), Text(0.3930993401759531, 0.8809523809523809, 'x[6] <= 86.5\\ngini = 0.577\\nsamples = 372\\nvalue = [2, 8, 186, 153, 22, 1]'), Text(0.3279875366568915, 0.8333333333333334, 'x[1] <= 0.365\\ngini = 0.59\\nsamples = 316\\nvalue = [2, 7, 137, 147, 22, 1]'), Text(0.2470674486803519, 0.7857142857142857, 'x[3] <= 2.15\\ngini = 0.511\\nsamples = 59\\nvalue = [0, 0, 10, 39, 9, 1]'), Text(0.23313782991202345, 0.7380952380952381, 'x[10] <= 9.65\\ngini = 0.354\\nsamples = 33\\nvalue = [0, 0, 1, 26, 5, 1]'), Text(0.23020527859237536, 0.6904761904761905, 'gini = 0.0\\nsamples = 15\\nvalue = [0, 0, 0, 15, 0, 0]'), Text(0.23607038123167157, 0.6904761904761905, 'x[0] <= 11.7\\ngini = 0.543\\nsamples = 18\\nvalue = [0, 0, 1, 11, 5, 1]'), Text(0.23313782991202345, 0.6428571428571429, 'x[10] <= 9.8\\ngini = 0.484\\nsamples = 16\\nvalue = [0, 0, 1, 11, 3, 1]'), Text(0.23020527859237536, 0.5952380952380952, 'gini = 0.0\\nsamples = 1\\nvalue = [0, 0, 1, 0, 0, 0]'), Text(0.23607038123167157, 0.5952380952380952, 'x[1] <= 0.325\\ngini = 0.418\\nsamples = 15\\nvalue = [0, 0, 0, 11, 3, 1]'), Text(0.23313782991202345, 0.5476190476190477, 'x[3] <= 1.45\\ngini = 0.337\\nsamples = 14\\nvalue = [0, 0, 0, 11, 3, 0]'), Text(0.22727272727272727, 0.5, 'x[7] <= 0.996\\ngini = 0.444\\nsamples = 3\\nvalue = [0, 0, 0, 1, 2, 0]'), Text(0.22434017595307917, 0.4523809523809524, 'gini = 0.0\\nsamples = 1\\nvalue = [0, 0, 0, 0, 1, 0]'), Text(0.23020527859237536, 0.4523809523809524, 'x[8] <= 3.29\\ngini = 0.5\\nsamples = 2\\nvalue = [0, 0, 0, 1, 1, 0]'), Text(0.22727272727272727, 0.40476190476190477, 'gini = 0.0\\nsamples = 1\\nvalue = [0, 0, 0, 0, 1, 0]'), Text(0.23313782991202345, 0.40476190476190477, 'gini = 0.0\\nsamples = 1\\nvalue = [0, 0, 0, 1, 0, 0]'), Text(0.23900293255131966, 0.5, 'x[6] <= 64.0\\ngini = 0.165\\nsamples = 11\\nvalue = [0, 0, 0, 10, 1, 0]'), Text(0.23607038123167157, 0.4523809523809524, 'gini = 0.0\\nsamples = 10\\nvalue = [0, 0, 0, 10, 0, 0]'), Text(0.24193548387096775, 0.4523809523809524, 'gini = 0.0\\nsamples = 1\\nvalue = [0, 0, 0, 0, 1, 0]'), Text(0.23900293255131966, 0.5476190476190477, 'gini = 0.0\\nsamples = 1\\nvalue = [0, 0, 0, 0, 0, 1]'), Text(0.23900293255131966, 0.6428571428571429, 'gini = 0.0\\nsamples = 2\\nvalue = [0, 0, 0, 0, 2, 0]'), Text(0.26099706744868034, 0.7380952380952381, 'x[0] <= 11.0\\ngini = 0.607\\nsamples = 26\\nvalue = [0, 0, 9, 13, 4, 0]'), Text(0.250733137829912, 0.6904761904761905, 'x[10] <= 9.65\\ngini = 0.539\\nsamples = 16\\nvalue = [0, 0, 9, 6, 1, 0]'), Text(0.24780058651026393, 0.6428571428571429, 'gini = 0.0\\nsamples = 7\\nvalue = [0, 0, 7, 0, 0, 0]'), Text(0.2536656891495601, 0.6428571428571429, 'x[9] <= 0.905\\ngini = 0.494\\nsamples = 9\\nvalue = [0, 0, 2, 6, 1, 0]'), Text(0.24780058651026393, 0.5952380952380952, 'x[7] <= 0.996\\ngini = 0.245\\nsamples = 7\\nvalue = [0, 0, 1, 6, 0, 0]'), Text(0.24486803519061584, 0.5476190476190477, 'gini = 0.0\\nsamples = 1\\nvalue = [0, 0, 1, 0, 0, 0]'), Text(0.250733137829912, 0.5476190476190477, 'gini = 0.0\\nsamples = 6\\nvalue = [0, 0, 0, 6, 0, 0]'), Text(0.2595307917888563, 0.5952380952380952, 'x[7] <= 0.999\\ngini = 0.5\\nsamples = 2\\nvalue = [0, 0, 1, 0, 1, 0]'), Text(0.2565982404692082, 0.5476190476190477, 'gini = 0.0\\nsamples = 1\\nvalue = [0, 0, 0, 0, 1, 0]'), Text(0.2624633431085044, 0.5476190476190477, 'gini = 0.0\\nsamples = 1\\nvalue = [0, 0, 1, 0, 0, 0]'), Text(0.27126099706744866, 0.6904761904761905, 'x[3] <= 2.35\\ngini = 0.42\\nsamples = 10\\nvalue = [0, 0, 0, 7, 3, 0]'), Text(0.26832844574780057, 0.6428571428571429, 'x[8] <= 3.05\\ngini = 0.375\\nsamples = 4\\nvalue = [0, 0, 0, 1, 3, 0]'), Text(0.2653958944281525, 0.5952380952380952, 'gini = 0.0\\nsamples = 1\\nvalue = [0, 0, 0, 1, 0, 0]'), Text(0.27126099706744866, 0.5952380952380952, 'gini = 0.0\\nsamples = 3\\nvalue = [0, 0, 0, 0, 3, 0]'), Text(0.27419354838709675, 0.6428571428571429, 'gini = 0.0\\nsamples = 6\\nvalue = [0, 0, 0, 6, 0, 0]'), Text(0.4089076246334311, 0.7857142857142857, 'x[8] <= 3.54\\ngini = 0.576\\nsamples = 257\\nvalue = [2, 7, 127, 108, 13, 0]'), Text(0.374266862170088, 0.7380952380952381, 'x[4] <= 0.098\\ngini = 0.57\\nsamples = 235\\nvalue = [1, 4, 112, 105, 13, 0]'), Text(0.3255131964809384, 0.6904761904761905, 'x[9] <= 0.645\\ngini = 0.567\\nsamples = 182\\nvalue = [0, 2, 78, 90, 12, 0]'), Text(0.2939882697947214, 0.6428571428571429, 'x[4] <= 0.076\\ngini = 0.538\\nsamples = 88\\nvalue = [0, 1, 49, 34, 4, 0]'), Text(0.27712609970674484, 0.5952380952380952, 'x[5] <= 29.0\\ngini = 0.361\\nsamples = 38\\nvalue = [0, 0, 29, 9, 0, 0]'), Text(0.27419354838709675, 0.5476190476190477, 'x[6] <= 25.5\\ngini = 0.313\\nsamples = 36\\nvalue = [0, 0, 29, 7, 0, 0]'), Text(0.2668621700879765, 0.5, 'x[7] <= 0.997\\ngini = 0.5\\nsamples = 10\\nvalue = [0, 0, 5, 5, 0, 0]'), Text(0.26099706744868034, 0.4523809523809524, 'x[0] <= 6.7\\ngini = 0.32\\nsamples = 5\\nvalue = [0, 0, 4, 1, 0, 0]'), Text(0.25806451612903225, 0.40476190476190477, 'gini = 0.0\\nsamples = 1\\nvalue = [0, 0, 0, 1, 0, 0]'), Text(0.26392961876832843, 0.40476190476190477, 'gini = 0.0\\nsamples = 4\\nvalue = [0, 0, 4, 0, 0, 0]'), Text(0.2727272727272727, 0.4523809523809524, 'x[5] <= 6.5\\ngini = 0.32\\nsamples = 5\\nvalue = [0, 0, 1, 4, 0, 0]'), Text(0.2697947214076246, 0.40476190476190477, 'gini = 0.0\\nsamples = 4\\nvalue = [0, 0, 0, 4, 0, 0]'), Text(0.2756598240469208, 0.40476190476190477, 'gini = 0.0\\nsamples = 1\\nvalue = [0, 0, 1, 0, 0, 0]'), Text(0.28152492668621704, 0.5, 'x[0] <= 6.55\\ngini = 0.142\\nsamples = 26\\nvalue = [0, 0, 24, 2, 0, 0]'), Text(0.2785923753665689, 0.4523809523809524, 'gini = 0.0\\nsamples = 1\\nvalue = [0, 0, 0, 1, 0, 0]'), Text(0.2844574780058651, 0.4523809523809524, 'x[9] <= 0.595\\ngini = 0.077\\nsamples = 25\\nvalue = [0, 0, 24, 1, 0, 0]'), Text(0.28152492668621704, 0.40476190476190477, 'x[6] <= 38.5\\ngini = 0.32\\nsamples = 5\\nvalue = [0, 0, 4, 1, 0, 0]'), Text(0.2785923753665689, 0.35714285714285715, 'gini = 0.0\\nsamples = 1\\nvalue = [0, 0, 0, 1, 0, 0]'), Text(0.2844574780058651, 0.35714285714285715, 'gini = 0.0\\nsamples = 4\\nvalue = [0, 0, 4, 0, 0, 0]'), Text(0.2873900293255132, 0.40476190476190477, 'gini = 0.0\\nsamples = 20\\nvalue = [0, 0, 20, 0, 0, 0]'), Text(0.28005865102639294, 0.5476190476190477, 'gini = 0.0\\nsamples = 2\\nvalue = [0, 0, 0, 2, 0, 0]'), Text(0.31085043988269795, 0.5952380952380952, 'x[2] <= 0.345\\ngini = 0.583\\nsamples = 50\\nvalue = [0, 1, 20, 25, 4, 0]'), Text(0.3035190615835777, 0.5476190476190477, 'x[1] <= 0.662\\ngini = 0.556\\nsamples = 44\\nvalue = [0, 1, 15, 25, 3, 0]'), Text(0.29765395894428154, 0.5, 'x[3] <= 1.65\\ngini = 0.504\\nsamples = 39\\nvalue = [0, 0, 11, 25, 3, 0]'), Text(0.29472140762463345, 0.4523809523809524, 'gini = 0.0\\nsamples = 2\\nvalue = [0, 0, 2, 0, 0, 0]'), Text(0.30058651026392963, 0.4523809523809524, 'x[6] <= 23.0\\ngini = 0.478\\nsamples = 37\\nvalue = [0, 0, 9, 25, 3, 0]'), Text(0.2932551319648094, 0.40476190476190477, 'x[9] <= 0.605\\ngini = 0.444\\nsamples = 6\\nvalue = [0, 0, 4, 2, 0, 0]'), Text(0.2903225806451613, 0.35714285714285715, 'x[4] <= 0.081\\ngini = 0.444\\nsamples = 3\\nvalue = [0, 0, 1, 2, 0, 0]'), Text(0.2873900293255132, 0.30952380952380953, 'gini = 0.0\\nsamples = 1\\nvalue = [0, 0, 1, 0, 0, 0]'), Text(0.2932551319648094, 0.30952380952380953, 'gini = 0.0\\nsamples = 2\\nvalue = [0, 0, 0, 2, 0, 0]'), Text(0.2961876832844575, 0.35714285714285715, 'gini = 0.0\\nsamples = 3\\nvalue = [0, 0, 3, 0, 0, 0]'), Text(0.30791788856304986, 0.40476190476190477, 'x[5] <= 26.5\\ngini = 0.414\\nsamples = 31\\nvalue = [0, 0, 5, 23, 3, 0]'), Text(0.3020527859237537, 0.35714285714285715, 'x[4] <= 0.082\\ngini = 0.36\\nsamples = 28\\nvalue = [0, 0, 3, 22, 3, 0]'), Text(0.2991202346041056, 0.30952380952380953, 'gini = 0.0\\nsamples = 10\\nvalue = [0, 0, 0, 10, 0, 0]'), Text(0.30498533724340177, 0.30952380952380953, 'x[9] <= 0.625\\ngini = 0.5\\nsamples = 18\\nvalue = [0, 0, 3, 12, 3, 0]'), Text(0.3020527859237537, 0.2619047619047619, 'x[10] <= 9.35\\ngini = 0.625\\nsamples = 12\\nvalue = [0, 0, 3, 6, 3, 0]'), Text(0.2991202346041056, 0.21428571428571427, 'gini = 0.0\\nsamples = 5\\nvalue = [0, 0, 0, 5, 0, 0]'), Text(0.30498533724340177, 0.21428571428571427, 'x[6] <= 46.5\\ngini = 0.612\\nsamples = 7\\nvalue = [0, 0, 3, 1, 3, 0]'), Text(0.3020527859237537, 0.16666666666666666, 'gini = 0.0\\nsamples = 3\\nvalue = [0, 0, 0, 0, 3, 0]'), Text(0.30791788856304986, 0.16666666666666666, 'x[1] <= 0.585\\ngini = 0.375\\nsamples = 4\\nvalue = [0, 0, 3, 1, 0, 0]'), Text(0.30498533724340177, 0.11904761904761904, 'gini = 0.0\\nsamples = 3\\nvalue = [0, 0, 3, 0, 0, 0]'), Text(0.31085043988269795, 0.11904761904761904, 'gini = 0.0\\nsamples = 1\\nvalue = [0, 0, 0, 1, 0, 0]'), Text(0.30791788856304986, 0.2619047619047619, 'gini = 0.0\\nsamples = 6\\nvalue = [0, 0, 0, 6, 0, 0]'), Text(0.31378299120234604, 0.35714285714285715, 'x[10] <= 9.65\\ngini = 0.444\\nsamples = 3\\nvalue = [0, 0, 2, 1, 0, 0]'), Text(0.31085043988269795, 0.30952380952380953, 'gini = 0.0\\nsamples = 1\\nvalue = [0, 0, 0, 1, 0, 0]'), Text(0.31671554252199413, 0.30952380952380953, 'gini = 0.0\\nsamples = 2\\nvalue = [0, 0, 2, 0, 0, 0]'), Text(0.3093841642228739, 0.5, 'x[1] <= 0.918\\ngini = 0.32\\nsamples = 5\\nvalue = [0, 1, 4, 0, 0, 0]'), Text(0.3064516129032258, 0.4523809523809524, 'gini = 0.0\\nsamples = 4\\nvalue = [0, 0, 4, 0, 0, 0]'), Text(0.312316715542522, 0.4523809523809524, 'gini = 0.0\\nsamples = 1\\nvalue = [0, 1, 0, 0, 0, 0]'), Text(0.3181818181818182, 0.5476190476190477, 'x[0] <= 9.95\\ngini = 0.278\\nsamples = 6\\nvalue = [0, 0, 5, 0, 1, 0]'), Text(0.3152492668621701, 0.5, 'gini = 0.0\\nsamples = 5\\nvalue = [0, 0, 5, 0, 0, 0]'), Text(0.32111436950146627, 0.5, 'gini = 0.0\\nsamples = 1\\nvalue = [0, 0, 0, 0, 1, 0]'), Text(0.35703812316715544, 0.6428571428571429, 'x[7] <= 0.997\\ngini = 0.543\\nsamples = 94\\nvalue = [0, 1, 29, 56, 8, 0]'), Text(0.34017595307917886, 0.5952380952380952, 'x[1] <= 0.625\\ngini = 0.551\\nsamples = 33\\nvalue = [0, 0, 17, 14, 2, 0]'), Text(0.33284457478005863, 0.5476190476190477, 'x[1] <= 0.395\\ngini = 0.505\\nsamples = 20\\nvalue = [0, 0, 5, 13, 2, 0]'), Text(0.32697947214076245, 0.5, 'x[3] <= 1.95\\ngini = 0.56\\nsamples = 5\\nvalue = [0, 0, 3, 1, 1, 0]'), Text(0.32404692082111436, 0.4523809523809524, 'gini = 0.0\\nsamples = 3\\nvalue = [0, 0, 3, 0, 0, 0]'), Text(0.32991202346041054, 0.4523809523809524, 'x[9] <= 0.705\\ngini = 0.5\\nsamples = 2\\nvalue = [0, 0, 0, 1, 1, 0]'), Text(0.32697947214076245, 0.40476190476190477, 'gini = 0.0\\nsamples = 1\\nvalue = [0, 0, 0, 1, 0, 0]'), Text(0.33284457478005863, 0.40476190476190477, 'gini = 0.0\\nsamples = 1\\nvalue = [0, 0, 0, 0, 1, 0]'), Text(0.3387096774193548, 0.5, 'x[2] <= 0.04\\ngini = 0.338\\nsamples = 15\\nvalue = [0, 0, 2, 12, 1, 0]'), Text(0.3357771260997067, 0.4523809523809524, 'gini = 0.0\\nsamples = 2\\nvalue = [0, 0, 2, 0, 0, 0]'), Text(0.3416422287390029, 0.4523809523809524, 'x[8] <= 3.415\\ngini = 0.142\\nsamples = 13\\nvalue = [0, 0, 0, 12, 1, 0]'), Text(0.3387096774193548, 0.40476190476190477, 'gini = 0.0\\nsamples = 11\\nvalue = [0, 0, 0, 11, 0, 0]'), Text(0.34457478005865105, 0.40476190476190477, 'x[4] <= 0.069\\ngini = 0.5\\nsamples = 2\\nvalue = [0, 0, 0, 1, 1, 0]'), Text(0.3416422287390029, 0.35714285714285715, 'gini = 0.0\\nsamples = 1\\nvalue = [0, 0, 0, 1, 0, 0]'), Text(0.34750733137829914, 0.35714285714285715, 'gini = 0.0\\nsamples = 1\\nvalue = [0, 0, 0, 0, 1, 0]'), Text(0.34750733137829914, 0.5476190476190477, 'x[4] <= 0.068\\ngini = 0.142\\nsamples = 13\\nvalue = [0, 0, 12, 1, 0, 0]'), Text(0.34457478005865105, 0.5, 'gini = 0.0\\nsamples = 1\\nvalue = [0, 0, 0, 1, 0, 0]'), Text(0.35043988269794724, 0.5, 'gini = 0.0\\nsamples = 12\\nvalue = [0, 0, 12, 0, 0, 0]'), Text(0.37390029325513197, 0.5952380952380952, 'x[2] <= 0.27\\ngini = 0.477\\nsamples = 61\\nvalue = [0, 1, 12, 42, 6, 0]'), Text(0.3621700879765396, 0.5476190476190477, 'x[2] <= 0.015\\ngini = 0.208\\nsamples = 34\\nvalue = [0, 0, 4, 30, 0, 0]'), Text(0.3563049853372434, 0.5, 'x[10] <= 9.35\\ngini = 0.5\\nsamples = 6\\nvalue = [0, 0, 3, 3, 0, 0]'), Text(0.3533724340175953, 0.4523809523809524, 'gini = 0.0\\nsamples = 2\\nvalue = [0, 0, 2, 0, 0, 0]'), Text(0.3592375366568915, 0.4523809523809524, 'x[6] <= 36.0\\ngini = 0.375\\nsamples = 4\\nvalue = [0, 0, 1, 3, 0, 0]'), Text(0.3563049853372434, 0.40476190476190477, 'gini = 0.0\\nsamples = 3\\nvalue = [0, 0, 0, 3, 0, 0]'), Text(0.3621700879765396, 0.40476190476190477, 'gini = 0.0\\nsamples = 1\\nvalue = [0, 0, 1, 0, 0, 0]'), Text(0.3680351906158358, 0.5, 'x[7] <= 0.999\\ngini = 0.069\\nsamples = 28\\nvalue = [0, 0, 1, 27, 0, 0]'), Text(0.3651026392961877, 0.4523809523809524, 'gini = 0.0\\nsamples = 25\\nvalue = [0, 0, 0, 25, 0, 0]'), Text(0.3709677419354839, 0.4523809523809524, 'x[2] <= 0.16\\ngini = 0.444\\nsamples = 3\\nvalue = [0, 0, 1, 2, 0, 0]'), Text(0.3680351906158358, 0.40476190476190477, 'gini = 0.0\\nsamples = 1\\nvalue = [0, 0, 1, 0, 0, 0]'), Text(0.37390029325513197, 0.40476190476190477, 'gini = 0.0\\nsamples = 2\\nvalue = [0, 0, 0, 2, 0, 0]'), Text(0.38563049853372433, 0.5476190476190477, 'x[7] <= 0.998\\ngini = 0.664\\nsamples = 27\\nvalue = [0, 1, 8, 12, 6, 0]'), Text(0.37976539589442815, 0.5, 'x[1] <= 0.395\\ngini = 0.32\\nsamples = 5\\nvalue = [0, 1, 0, 0, 4, 0]'), Text(0.37683284457478006, 0.4523809523809524, 'gini = 0.0\\nsamples = 1\\nvalue = [0, 1, 0, 0, 0, 0]'), Text(0.38269794721407624, 0.4523809523809524, 'gini = 0.0\\nsamples = 4\\nvalue = [0, 0, 0, 0, 4, 0]'), Text(0.3914956011730205, 0.5, 'x[9] <= 0.665\\ngini = 0.562\\nsamples = 22\\nvalue = [0, 0, 8, 12, 2, 0]'), Text(0.3885630498533724, 0.4523809523809524, 'gini = 0.0\\nsamples = 3\\nvalue = [0, 0, 3, 0, 0, 0]'), Text(0.3944281524926686, 0.4523809523809524, 'x[1] <= 0.375\\ngini = 0.521\\nsamples = 19\\nvalue = [0, 0, 5, 12, 2, 0]'), Text(0.3914956011730205, 0.40476190476190477, 'gini = 0.0\\nsamples = 2\\nvalue = [0, 0, 2, 0, 0, 0]'), Text(0.3973607038123167, 0.40476190476190477, 'x[10] <= 9.25\\ngini = 0.457\\nsamples = 17\\nvalue = [0, 0, 3, 12, 2, 0]'), Text(0.3914956011730205, 0.35714285714285715, 'x[6] <= 54.5\\ngini = 0.444\\nsamples = 3\\nvalue = [0, 0, 2, 1, 0, 0]'), Text(0.3885630498533724, 0.30952380952380953, 'gini = 0.0\\nsamples = 2\\nvalue = [0, 0, 2, 0, 0, 0]'), Text(0.3944281524926686, 0.30952380952380953, 'gini = 0.0\\nsamples = 1\\nvalue = [0, 0, 0, 1, 0, 0]'), Text(0.4032258064516129, 0.35714285714285715, 'x[8] <= 2.995\\ngini = 0.357\\nsamples = 14\\nvalue = [0, 0, 1, 11, 2, 0]'), Text(0.4002932551319648, 0.30952380952380953, 'gini = 0.0\\nsamples = 1\\nvalue = [0, 0, 1, 0, 0, 0]'), Text(0.40615835777126097, 0.30952380952380953, 'x[7] <= 1.002\\ngini = 0.26\\nsamples = 13\\nvalue = [0, 0, 0, 11, 2, 0]'), Text(0.4032258064516129, 0.2619047619047619, 'x[4] <= 0.093\\ngini = 0.153\\nsamples = 12\\nvalue = [0, 0, 0, 11, 1, 0]'), Text(0.4002932551319648, 0.21428571428571427, 'gini = 0.0\\nsamples = 11\\nvalue = [0, 0, 0, 11, 0, 0]'), Text(0.40615835777126097, 0.21428571428571427, 'gini = 0.0\\nsamples = 1\\nvalue = [0, 0, 0, 0, 1, 0]'), Text(0.4090909090909091, 0.2619047619047619, 'gini = 0.0\\nsamples = 1\\nvalue = [0, 0, 0, 0, 1, 0]'), Text(0.42302052785923755, 0.6904761904761905, 'x[9] <= 0.605\\ngini = 0.506\\nsamples = 53\\nvalue = [1, 2, 34, 15, 1, 0]'), Text(0.42008797653958946, 0.6428571428571429, 'gini = 0.0\\nsamples = 5\\nvalue = [0, 0, 0, 5, 0, 0]'), Text(0.42595307917888564, 0.6428571428571429, 'x[5] <= 3.0\\ngini = 0.452\\nsamples = 48\\nvalue = [1, 2, 34, 10, 1, 0]'), Text(0.42302052785923755, 0.5952380952380952, 'gini = 0.0\\nsamples = 2\\nvalue = [0, 0, 0, 2, 0, 0]'), Text(0.42888563049853373, 0.5952380952380952, 'x[6] <= 35.5\\ngini = 0.421\\nsamples = 46\\nvalue = [1, 2, 34, 8, 1, 0]'), Text(0.4149560117302053, 0.5476190476190477, 'x[4] <= 0.189\\ngini = 0.569\\nsamples = 12\\nvalue = [0, 0, 6, 5, 1, 0]'), Text(0.4120234604105572, 0.5, 'x[7] <= 0.998\\ngini = 0.494\\nsamples = 9\\nvalue = [0, 0, 6, 2, 1, 0]'), Text(0.4090909090909091, 0.4523809523809524, 'gini = 0.0\\nsamples = 5\\nvalue = [0, 0, 5, 0, 0, 0]'), Text(0.4149560117302053, 0.4523809523809524, 'x[9] <= 0.725\\ngini = 0.625\\nsamples = 4\\nvalue = [0, 0, 1, 2, 1, 0]'), Text(0.4120234604105572, 0.40476190476190477, 'x[9] <= 0.695\\ngini = 0.5\\nsamples = 2\\nvalue = [0, 0, 1, 0, 1, 0]'), Text(0.4090909090909091, 0.35714285714285715, 'gini = 0.0\\nsamples = 1\\nvalue = [0, 0, 0, 0, 1, 0]'), Text(0.4149560117302053, 0.35714285714285715, 'gini = 0.0\\nsamples = 1\\nvalue = [0, 0, 1, 0, 0, 0]'), Text(0.4178885630498534, 0.40476190476190477, 'gini = 0.0\\nsamples = 2\\nvalue = [0, 0, 0, 2, 0, 0]'), Text(0.4178885630498534, 0.5, 'gini = 0.0\\nsamples = 3\\nvalue = [0, 0, 0, 3, 0, 0]'), Text(0.44281524926686217, 0.5476190476190477, 'x[9] <= 1.32\\ngini = 0.31\\nsamples = 34\\nvalue = [1, 2, 28, 3, 0, 0]'), Text(0.43255131964809385, 0.5, 'x[3] <= 1.65\\ngini = 0.187\\nsamples = 30\\nvalue = [1, 1, 27, 1, 0, 0]'), Text(0.42668621700879766, 0.4523809523809524, 'x[1] <= 0.455\\ngini = 0.5\\nsamples = 2\\nvalue = [1, 1, 0, 0, 0, 0]'), Text(0.4237536656891496, 0.40476190476190477, 'gini = 0.0\\nsamples = 1\\nvalue = [1, 0, 0, 0, 0, 0]'), Text(0.42961876832844575, 0.40476190476190477, 'gini = 0.0\\nsamples = 1\\nvalue = [0, 1, 0, 0, 0, 0]'), Text(0.43841642228739003, 0.4523809523809524, 'x[2] <= 0.085\\ngini = 0.069\\nsamples = 28\\nvalue = [0, 0, 27, 1, 0, 0]'), Text(0.43548387096774194, 0.40476190476190477, 'x[6] <= 52.0\\ngini = 0.32\\nsamples = 5\\nvalue = [0, 0, 4, 1, 0, 0]'), Text(0.43255131964809385, 0.35714285714285715, 'gini = 0.0\\nsamples = 1\\nvalue = [0, 0, 0, 1, 0, 0]'), Text(0.43841642228739003, 0.35714285714285715, 'gini = 0.0\\nsamples = 4\\nvalue = [0, 0, 4, 0, 0, 0]'), Text(0.4413489736070381, 0.40476190476190477, 'gini = 0.0\\nsamples = 23\\nvalue = [0, 0, 23, 0, 0, 0]'), Text(0.4530791788856305, 0.5, 'x[9] <= 1.805\\ngini = 0.625\\nsamples = 4\\nvalue = [0, 1, 1, 2, 0, 0]'), Text(0.4501466275659824, 0.4523809523809524, 'x[0] <= 8.2\\ngini = 0.444\\nsamples = 3\\nvalue = [0, 0, 1, 2, 0, 0]'), Text(0.4472140762463343, 0.40476190476190477, 'gini = 0.0\\nsamples = 1\\nvalue = [0, 0, 1, 0, 0, 0]'), Text(0.4530791788856305, 0.40476190476190477, 'gini = 0.0\\nsamples = 2\\nvalue = [0, 0, 0, 2, 0, 0]'), Text(0.4560117302052786, 0.4523809523809524, 'gini = 0.0\\nsamples = 1\\nvalue = [0, 1, 0, 0, 0, 0]'), Text(0.4435483870967742, 0.7380952380952381, 'x[5] <= 7.5\\ngini = 0.496\\nsamples = 22\\nvalue = [1, 3, 15, 3, 0, 0]'), Text(0.4347507331378299, 0.6904761904761905, 'x[0] <= 6.45\\ngini = 0.64\\nsamples = 5\\nvalue = [1, 2, 0, 2, 0, 0]'), Text(0.4318181818181818, 0.6428571428571429, 'gini = 0.0\\nsamples = 2\\nvalue = [0, 2, 0, 0, 0, 0]'), Text(0.437683284457478, 0.6428571428571429, 'x[7] <= 0.997\\ngini = 0.444\\nsamples = 3\\nvalue = [1, 0, 0, 2, 0, 0]'), Text(0.4347507331378299, 0.5952380952380952, 'gini = 0.0\\nsamples = 1\\nvalue = [1, 0, 0, 0, 0, 0]'), Text(0.4406158357771261, 0.5952380952380952, 'gini = 0.0\\nsamples = 2\\nvalue = [0, 0, 0, 2, 0, 0]'), Text(0.45234604105571846, 0.6904761904761905, 'x[10] <= 10.25\\ngini = 0.215\\nsamples = 17\\nvalue = [0, 1, 15, 1, 0, 0]'), Text(0.44941348973607037, 0.6428571428571429, 'x[0] <= 7.75\\ngini = 0.117\\nsamples = 16\\nvalue = [0, 1, 15, 0, 0, 0]'), Text(0.4464809384164223, 0.5952380952380952, 'gini = 0.0\\nsamples = 15\\nvalue = [0, 0, 15, 0, 0, 0]'), Text(0.45234604105571846, 0.5952380952380952, 'gini = 0.0\\nsamples = 1\\nvalue = [0, 1, 0, 0, 0, 0]'), Text(0.45527859237536655, 0.6428571428571429, 'gini = 0.0\\nsamples = 1\\nvalue = [0, 0, 0, 1, 0, 0]'), Text(0.45821114369501464, 0.8333333333333334, 'x[8] <= 2.935\\ngini = 0.223\\nsamples = 56\\nvalue = [0, 1, 49, 6, 0, 0]'), Text(0.45234604105571846, 0.7857142857142857, 'x[10] <= 9.85\\ngini = 0.375\\nsamples = 4\\nvalue = [0, 0, 1, 3, 0, 0]'), Text(0.44941348973607037, 0.7380952380952381, 'gini = 0.0\\nsamples = 1\\nvalue = [0, 0, 1, 0, 0, 0]'), Text(0.45527859237536655, 0.7380952380952381, 'gini = 0.0\\nsamples = 3\\nvalue = [0, 0, 0, 3, 0, 0]'), Text(0.4640762463343108, 0.7857142857142857, 'x[7] <= 1.003\\ngini = 0.144\\nsamples = 52\\nvalue = [0, 1, 48, 3, 0, 0]'), Text(0.46114369501466274, 0.7380952380952381, 'x[3] <= 1.55\\ngini = 0.078\\nsamples = 50\\nvalue = [0, 1, 48, 1, 0, 0]'), Text(0.45821114369501464, 0.6904761904761905, 'gini = 0.0\\nsamples = 1\\nvalue = [0, 1, 0, 0, 0, 0]'), Text(0.4640762463343108, 0.6904761904761905, 'x[8] <= 3.315\\ngini = 0.04\\nsamples = 49\\nvalue = [0, 0, 48, 1, 0, 0]'), Text(0.46114369501466274, 0.6428571428571429, 'gini = 0.0\\nsamples = 40\\nvalue = [0, 0, 40, 0, 0, 0]'), Text(0.4670087976539589, 0.6428571428571429, 'x[0] <= 8.95\\ngini = 0.198\\nsamples = 9\\nvalue = [0, 0, 8, 1, 0, 0]'), Text(0.4640762463343108, 0.5952380952380952, 'gini = 0.0\\nsamples = 7\\nvalue = [0, 0, 7, 0, 0, 0]'), Text(0.46994134897360706, 0.5952380952380952, 'x[1] <= 0.47\\ngini = 0.5\\nsamples = 2\\nvalue = [0, 0, 1, 1, 0, 0]'), Text(0.4670087976539589, 0.5476190476190477, 'gini = 0.0\\nsamples = 1\\nvalue = [0, 0, 0, 1, 0, 0]'), Text(0.47287390029325516, 0.5476190476190477, 'gini = 0.0\\nsamples = 1\\nvalue = [0, 0, 1, 0, 0, 0]'), Text(0.4670087976539589, 0.7380952380952381, 'gini = 0.0\\nsamples = 2\\nvalue = [0, 0, 0, 2, 0, 0]'), Text(0.6533203125, 0.9285714285714286, 'x[1] <= 0.345\\ngini = 0.664\\nsamples = 576\\nvalue = [3, 19, 118, 274, 148, 14]'), Text(0.5238269794721407, 0.8809523809523809, 'x[3] <= 2.025\\ngini = 0.581\\nsamples = 124\\nvalue = [0, 0, 14, 42, 67, 1]'), Text(0.49780058651026393, 0.8333333333333334, 'x[0] <= 8.3\\ngini = 0.614\\nsamples = 56\\nvalue = [0, 0, 7, 26, 22, 1]'), Text(0.47873900293255134, 0.7857142857142857, 'x[7] <= 0.994\\ngini = 0.449\\nsamples = 21\\nvalue = [0, 0, 3, 15, 3, 0]'), Text(0.47580645161290325, 0.7380952380952381, 'gini = 0.0\\nsamples = 9\\nvalue = [0, 0, 0, 9, 0, 0]'), Text(0.48167155425219943, 0.7380952380952381, 'x[6] <= 22.0\\ngini = 0.625\\nsamples = 12\\nvalue = [0, 0, 3, 6, 3, 0]'), Text(0.47580645161290325, 0.6904761904761905, 'x[2] <= 0.38\\ngini = 0.5\\nsamples = 4\\nvalue = [0, 0, 2, 0, 2, 0]'), Text(0.47287390029325516, 0.6428571428571429, 'gini = 0.0\\nsamples = 2\\nvalue = [0, 0, 0, 0, 2, 0]'), Text(0.47873900293255134, 0.6428571428571429, 'gini = 0.0\\nsamples = 2\\nvalue = [0, 0, 2, 0, 0, 0]'), Text(0.4875366568914956, 0.6904761904761905, 'x[8] <= 3.47\\ngini = 0.406\\nsamples = 8\\nvalue = [0, 0, 1, 6, 1, 0]'), Text(0.4846041055718475, 0.6428571428571429, 'x[9] <= 0.86\\ngini = 0.245\\nsamples = 7\\nvalue = [0, 0, 0, 6, 1, 0]'), Text(0.48167155425219943, 0.5952380952380952, 'gini = 0.0\\nsamples = 6\\nvalue = [0, 0, 0, 6, 0, 0]'), Text(0.4875366568914956, 0.5952380952380952, 'gini = 0.0\\nsamples = 1\\nvalue = [0, 0, 0, 0, 1, 0]'), Text(0.4904692082111437, 0.6428571428571429, 'gini = 0.0\\nsamples = 1\\nvalue = [0, 0, 1, 0, 0, 0]'), Text(0.5168621700879765, 0.7857142857142857, 'x[2] <= 0.475\\ngini = 0.593\\nsamples = 35\\nvalue = [0, 0, 4, 11, 19, 1]'), Text(0.5051319648093842, 0.7380952380952381, 'x[4] <= 0.079\\ngini = 0.403\\nsamples = 24\\nvalue = [0, 0, 2, 4, 18, 0]'), Text(0.499266862170088, 0.6904761904761905, 'x[10] <= 10.55\\ngini = 0.185\\nsamples = 20\\nvalue = [0, 0, 1, 1, 18, 0]'), Text(0.4963343108504399, 0.6428571428571429, 'gini = 0.0\\nsamples = 1\\nvalue = [0, 0, 1, 0, 0, 0]'), Text(0.5021994134897361, 0.6428571428571429, 'x[5] <= 22.5\\ngini = 0.1\\nsamples = 19\\nvalue = [0, 0, 0, 1, 18, 0]'), Text(0.499266862170088, 0.5952380952380952, 'gini = 0.0\\nsamples = 17\\nvalue = [0, 0, 0, 0, 17, 0]'), Text(0.5051319648093842, 0.5952380952380952, 'x[1] <= 0.235\\ngini = 0.5\\nsamples = 2\\nvalue = [0, 0, 0, 1, 1, 0]'), Text(0.5021994134897361, 0.5476190476190477, 'gini = 0.0\\nsamples = 1\\nvalue = [0, 0, 0, 0, 1, 0]'), Text(0.5080645161290323, 0.5476190476190477, 'gini = 0.0\\nsamples = 1\\nvalue = [0, 0, 0, 1, 0, 0]'), Text(0.5109970674486803, 0.6904761904761905, 'x[4] <= 0.08\\ngini = 0.375\\nsamples = 4\\nvalue = [0, 0, 1, 3, 0, 0]'), Text(0.5080645161290323, 0.6428571428571429, 'gini = 0.0\\nsamples = 1\\nvalue = [0, 0, 1, 0, 0, 0]'), Text(0.5139296187683284, 0.6428571428571429, 'gini = 0.0\\nsamples = 3\\nvalue = [0, 0, 0, 3, 0, 0]'), Text(0.5285923753665689, 0.7380952380952381, 'x[6] <= 55.5\\ngini = 0.545\\nsamples = 11\\nvalue = [0, 0, 2, 7, 1, 1]'), Text(0.5227272727272727, 0.6904761904761905, 'x[4] <= 0.237\\ngini = 0.219\\nsamples = 8\\nvalue = [0, 0, 1, 7, 0, 0]'), Text(0.5197947214076246, 0.6428571428571429, 'gini = 0.0\\nsamples = 7\\nvalue = [0, 0, 0, 7, 0, 0]'), Text(0.5256598240469208, 0.6428571428571429, 'gini = 0.0\\nsamples = 1\\nvalue = [0, 0, 1, 0, 0, 0]'), Text(0.5344574780058651, 0.6904761904761905, 'x[3] <= 1.85\\ngini = 0.667\\nsamples = 3\\nvalue = [0, 0, 1, 0, 1, 1]'), Text(0.531524926686217, 0.6428571428571429, 'gini = 0.0\\nsamples = 1\\nvalue = [0, 0, 0, 0, 1, 0]'), Text(0.5373900293255132, 0.6428571428571429, 'x[0] <= 9.65\\ngini = 0.5\\nsamples = 2\\nvalue = [0, 0, 1, 0, 0, 1]'), Text(0.5344574780058651, 0.5952380952380952, 'gini = 0.0\\nsamples = 1\\nvalue = [0, 0, 1, 0, 0, 0]'), Text(0.5403225806451613, 0.5952380952380952, 'gini = 0.0\\nsamples = 1\\nvalue = [0, 0, 0, 0, 0, 1]'), Text(0.5498533724340176, 0.8333333333333334, 'x[1] <= 0.225\\ngini = 0.496\\nsamples = 68\\nvalue = [0, 0, 7, 16, 45, 0]'), Text(0.5373900293255132, 0.7857142857142857, 'x[5] <= 34.5\\ngini = 0.32\\nsamples = 5\\nvalue = [0, 0, 1, 4, 0, 0]'), Text(0.5344574780058651, 0.7380952380952381, 'gini = 0.0\\nsamples = 4\\nvalue = [0, 0, 0, 4, 0, 0]'), Text(0.5403225806451613, 0.7380952380952381, 'gini = 0.0\\nsamples = 1\\nvalue = [0, 0, 1, 0, 0, 0]'), Text(0.5623167155425219, 0.7857142857142857, 'x[7] <= 0.995\\ngini = 0.444\\nsamples = 63\\nvalue = [0, 0, 6, 12, 45, 0]'), Text(0.5461876832844574, 0.7380952380952381, 'x[1] <= 0.335\\ngini = 0.095\\nsamples = 20\\nvalue = [0, 0, 0, 1, 19, 0]'), Text(0.5432551319648093, 0.6904761904761905, 'gini = 0.0\\nsamples = 18\\nvalue = [0, 0, 0, 0, 18, 0]'), Text(0.5491202346041055, 0.6904761904761905, 'x[10] <= 12.25\\ngini = 0.5\\nsamples = 2\\nvalue = [0, 0, 0, 1, 1, 0]'), Text(0.5461876832844574, 0.6428571428571429, 'gini = 0.0\\nsamples = 1\\nvalue = [0, 0, 0, 0, 1, 0]'), Text(0.5520527859237536, 0.6428571428571429, 'gini = 0.0\\nsamples = 1\\nvalue = [0, 0, 0, 1, 0, 0]'), Text(0.5784457478005866, 0.7380952380952381, 'x[9] <= 0.73\\ngini = 0.549\\nsamples = 43\\nvalue = [0, 0, 6, 11, 26, 0]'), Text(0.5637829912023461, 0.6904761904761905, 'x[3] <= 2.475\\ngini = 0.648\\nsamples = 16\\nvalue = [0, 0, 4, 7, 5, 0]'), Text(0.5579178885630498, 0.6428571428571429, 'x[10] <= 11.25\\ngini = 0.278\\nsamples = 6\\nvalue = [0, 0, 0, 5, 1, 0]'), Text(0.5549853372434017, 0.5952380952380952, 'gini = 0.0\\nsamples = 1\\nvalue = [0, 0, 0, 0, 1, 0]'), Text(0.5608504398826979, 0.5952380952380952, 'gini = 0.0\\nsamples = 5\\nvalue = [0, 0, 0, 5, 0, 0]'), Text(0.5696480938416423, 0.6428571428571429, 'x[3] <= 2.7\\ngini = 0.64\\nsamples = 10\\nvalue = [0, 0, 4, 2, 4, 0]'), Text(0.5667155425219942, 0.5952380952380952, 'gini = 0.0\\nsamples = 3\\nvalue = [0, 0, 3, 0, 0, 0]'), Text(0.5725806451612904, 0.5952380952380952, 'x[9] <= 0.58\\ngini = 0.571\\nsamples = 7\\nvalue = [0, 0, 1, 2, 4, 0]'), Text(0.5696480938416423, 0.5476190476190477, 'gini = 0.0\\nsamples = 2\\nvalue = [0, 0, 0, 2, 0, 0]'), Text(0.5755131964809385, 0.5476190476190477, 'x[0] <= 8.25\\ngini = 0.32\\nsamples = 5\\nvalue = [0, 0, 1, 0, 4, 0]'), Text(0.5725806451612904, 0.5, 'gini = 0.0\\nsamples = 1\\nvalue = [0, 0, 1, 0, 0, 0]'), Text(0.5784457478005866, 0.5, 'gini = 0.0\\nsamples = 4\\nvalue = [0, 0, 0, 0, 4, 0]'), Text(0.593108504398827, 0.6904761904761905, 'x[0] <= 7.3\\ngini = 0.368\\nsamples = 27\\nvalue = [0, 0, 2, 4, 21, 0]'), Text(0.5901759530791789, 0.6428571428571429, 'gini = 0.0\\nsamples = 2\\nvalue = [0, 0, 2, 0, 0, 0]'), Text(0.5960410557184751, 0.6428571428571429, 'x[3] <= 2.95\\ngini = 0.269\\nsamples = 25\\nvalue = [0, 0, 0, 4, 21, 0]'), Text(0.5901759530791789, 0.5952380952380952, 'x[10] <= 10.75\\ngini = 0.091\\nsamples = 21\\nvalue = [0, 0, 0, 1, 20, 0]'), Text(0.5872434017595308, 0.5476190476190477, 'x[7] <= 0.999\\ngini = 0.375\\nsamples = 4\\nvalue = [0, 0, 0, 1, 3, 0]'), Text(0.5843108504398827, 0.5, 'gini = 0.0\\nsamples = 3\\nvalue = [0, 0, 0, 0, 3, 0]'), Text(0.5901759530791789, 0.5, 'gini = 0.0\\nsamples = 1\\nvalue = [0, 0, 0, 1, 0, 0]'), Text(0.593108504398827, 0.5476190476190477, 'gini = 0.0\\nsamples = 17\\nvalue = [0, 0, 0, 0, 17, 0]'), Text(0.6019061583577713, 0.5952380952380952, 'x[0] <= 10.1\\ngini = 0.375\\nsamples = 4\\nvalue = [0, 0, 0, 3, 1, 0]'), Text(0.5989736070381232, 0.5476190476190477, 'gini = 0.0\\nsamples = 3\\nvalue = [0, 0, 0, 3, 0, 0]'), Text(0.6048387096774194, 0.5476190476190477, 'gini = 0.0\\nsamples = 1\\nvalue = [0, 0, 0, 0, 1, 0]'), Text(0.7828136455278593, 0.8809523809523809, 'x[9] <= 0.585\\ngini = 0.649\\nsamples = 452\\nvalue = [3, 19, 104, 232, 81, 13]'), Text(0.6816348973607038, 0.8333333333333334, 'x[10] <= 11.45\\ngini = 0.649\\nsamples = 133\\nvalue = [3, 14, 52, 57, 7, 0]'), Text(0.6499266862170088, 0.7857142857142857, 'x[5] <= 6.5\\ngini = 0.648\\nsamples = 91\\nvalue = [3, 12, 43, 30, 3, 0]'), Text(0.6268328445747801, 0.7380952380952381, 'x[4] <= 0.095\\ngini = 0.53\\nsamples = 29\\nvalue = [3, 4, 19, 3, 0, 0]'), Text(0.6165689149560117, 0.6904761904761905, 'x[9] <= 0.38\\ngini = 0.367\\nsamples = 23\\nvalue = [1, 3, 18, 1, 0, 0]'), Text(0.6136363636363636, 0.6428571428571429, 'gini = 0.0\\nsamples = 1\\nvalue = [0, 1, 0, 0, 0, 0]'), Text(0.6195014662756598, 0.6428571428571429, 'x[7] <= 0.999\\ngini = 0.318\\nsamples = 22\\nvalue = [1, 2, 18, 1, 0, 0]'), Text(0.6136363636363636, 0.5952380952380952, 'x[1] <= 0.662\\ngini = 0.188\\nsamples = 19\\nvalue = [0, 2, 17, 0, 0, 0]'), Text(0.6107038123167156, 0.5476190476190477, 'gini = 0.0\\nsamples = 10\\nvalue = [0, 0, 10, 0, 0, 0]'), Text(0.6165689149560117, 0.5476190476190477, 'x[1] <= 0.695\\ngini = 0.346\\nsamples = 9\\nvalue = [0, 2, 7, 0, 0, 0]'), Text(0.6136363636363636, 0.5, 'gini = 0.0\\nsamples = 1\\nvalue = [0, 1, 0, 0, 0, 0]'), Text(0.6195014662756598, 0.5, 'x[0] <= 8.25\\ngini = 0.219\\nsamples = 8\\nvalue = [0, 1, 7, 0, 0, 0]'), Text(0.6165689149560117, 0.4523809523809524, 'gini = 0.0\\nsamples = 7\\nvalue = [0, 0, 7, 0, 0, 0]'), Text(0.6224340175953079, 0.4523809523809524, 'gini = 0.0\\nsamples = 1\\nvalue = [0, 1, 0, 0, 0, 0]'), Text(0.625366568914956, 0.5952380952380952, 'x[0] <= 8.85\\ngini = 0.667\\nsamples = 3\\nvalue = [1, 0, 1, 1, 0, 0]'), Text(0.6224340175953079, 0.5476190476190477, 'gini = 0.0\\nsamples = 1\\nvalue = [1, 0, 0, 0, 0, 0]'), Text(0.6282991202346041, 0.5476190476190477, 'x[3] <= 3.2\\ngini = 0.5\\nsamples = 2\\nvalue = [0, 0, 1, 1, 0, 0]'), Text(0.625366568914956, 0.5, 'gini = 0.0\\nsamples = 1\\nvalue = [0, 0, 1, 0, 0, 0]'), Text(0.6312316715542522, 0.5, 'gini = 0.0\\nsamples = 1\\nvalue = [0, 0, 0, 1, 0, 0]'), Text(0.6370967741935484, 0.6904761904761905, 'x[8] <= 3.385\\ngini = 0.722\\nsamples = 6\\nvalue = [2, 1, 1, 2, 0, 0]'), Text(0.6341642228739003, 0.6428571428571429, 'gini = 0.0\\nsamples = 2\\nvalue = [0, 0, 0, 2, 0, 0]'), Text(0.6400293255131965, 0.6428571428571429, 'x[1] <= 1.035\\ngini = 0.625\\nsamples = 4\\nvalue = [2, 1, 1, 0, 0, 0]'), Text(0.6370967741935484, 0.5952380952380952, 'x[1] <= 0.862\\ngini = 0.5\\nsamples = 2\\nvalue = [0, 1, 1, 0, 0, 0]'), Text(0.6341642228739003, 0.5476190476190477, 'gini = 0.0\\nsamples = 1\\nvalue = [0, 1, 0, 0, 0, 0]'), Text(0.6400293255131965, 0.5476190476190477, 'gini = 0.0\\nsamples = 1\\nvalue = [0, 0, 1, 0, 0, 0]'), Text(0.6429618768328446, 0.5952380952380952, 'gini = 0.0\\nsamples = 2\\nvalue = [2, 0, 0, 0, 0, 0]'), Text(0.6730205278592375, 0.7380952380952381, 'x[8] <= 3.155\\ngini = 0.642\\nsamples = 62\\nvalue = [0, 8, 24, 27, 3, 0]'), Text(0.6700879765395894, 0.6904761904761905, 'gini = 0.0\\nsamples = 6\\nvalue = [0, 0, 6, 0, 0, 0]'), Text(0.6759530791788856, 0.6904761904761905, 'x[1] <= 1.0\\ngini = 0.641\\nsamples = 56\\nvalue = [0, 8, 18, 27, 3, 0]'), Text(0.6649560117302052, 0.6428571428571429, 'x[8] <= 3.355\\ngini = 0.599\\nsamples = 51\\nvalue = [0, 4, 17, 27, 3, 0]'), Text(0.6517595307917888, 0.5952380952380952, 'x[5] <= 13.0\\ngini = 0.512\\nsamples = 18\\nvalue = [0, 1, 2, 12, 3, 0]'), Text(0.6458944281524927, 0.5476190476190477, 'x[7] <= 0.996\\ngini = 0.642\\nsamples = 9\\nvalue = [0, 0, 2, 4, 3, 0]'), Text(0.6429618768328446, 0.5, 'gini = 0.0\\nsamples = 3\\nvalue = [0, 0, 0, 0, 3, 0]'), Text(0.6488269794721407, 0.5, 'x[5] <= 9.5\\ngini = 0.444\\nsamples = 6\\nvalue = [0, 0, 2, 4, 0, 0]'), Text(0.6458944281524927, 0.4523809523809524, 'gini = 0.0\\nsamples = 4\\nvalue = [0, 0, 0, 4, 0, 0]'), Text(0.6517595307917888, 0.4523809523809524, 'gini = 0.0\\nsamples = 2\\nvalue = [0, 0, 2, 0, 0, 0]'), Text(0.657624633431085, 0.5476190476190477, 'x[1] <= 0.632\\ngini = 0.198\\nsamples = 9\\nvalue = [0, 1, 0, 8, 0, 0]'), Text(0.6546920821114369, 0.5, 'gini = 0.0\\nsamples = 7\\nvalue = [0, 0, 0, 7, 0, 0]'), Text(0.6605571847507331, 0.5, 'x[4] <= 0.077\\ngini = 0.5\\nsamples = 2\\nvalue = [0, 1, 0, 1, 0, 0]'), Text(0.657624633431085, 0.4523809523809524, 'gini = 0.0\\nsamples = 1\\nvalue = [0, 0, 0, 1, 0, 0]'), Text(0.6634897360703812, 0.4523809523809524, 'gini = 0.0\\nsamples = 1\\nvalue = [0, 1, 0, 0, 0, 0]'), Text(0.6781524926686217, 0.5952380952380952, 'x[2] <= 0.105\\ngini = 0.579\\nsamples = 33\\nvalue = [0, 3, 15, 15, 0, 0]'), Text(0.6722873900293255, 0.5476190476190477, 'x[7] <= 0.994\\ngini = 0.558\\nsamples = 22\\nvalue = [0, 3, 6, 13, 0, 0]'), Text(0.6693548387096774, 0.5, 'gini = 0.0\\nsamples = 3\\nvalue = [0, 0, 3, 0, 0, 0]'), Text(0.6752199413489736, 0.5, 'x[3] <= 2.55\\ngini = 0.482\\nsamples = 19\\nvalue = [0, 3, 3, 13, 0, 0]'), Text(0.6693548387096774, 0.4523809523809524, 'x[1] <= 0.475\\ngini = 0.24\\nsamples = 15\\nvalue = [0, 1, 1, 13, 0, 0]'), Text(0.6664222873900293, 0.40476190476190477, 'gini = 0.0\\nsamples = 1\\nvalue = [0, 1, 0, 0, 0, 0]'), Text(0.6722873900293255, 0.40476190476190477, 'x[0] <= 6.25\\ngini = 0.133\\nsamples = 14\\nvalue = [0, 0, 1, 13, 0, 0]'), Text(0.6693548387096774, 0.35714285714285715, 'x[1] <= 0.54\\ngini = 0.5\\nsamples = 2\\nvalue = [0, 0, 1, 1, 0, 0]'), Text(0.6664222873900293, 0.30952380952380953, 'gini = 0.0\\nsamples = 1\\nvalue = [0, 0, 0, 1, 0, 0]'), Text(0.6722873900293255, 0.30952380952380953, 'gini = 0.0\\nsamples = 1\\nvalue = [0, 0, 1, 0, 0, 0]'), Text(0.6752199413489736, 0.35714285714285715, 'gini = 0.0\\nsamples = 12\\nvalue = [0, 0, 0, 12, 0, 0]'), Text(0.6810850439882697, 0.4523809523809524, 'x[1] <= 0.64\\ngini = 0.5\\nsamples = 4\\nvalue = [0, 2, 2, 0, 0, 0]'), Text(0.6781524926686217, 0.40476190476190477, 'gini = 0.0\\nsamples = 2\\nvalue = [0, 0, 2, 0, 0, 0]'), Text(0.6840175953079178, 0.40476190476190477, 'gini = 0.0\\nsamples = 2\\nvalue = [0, 2, 0, 0, 0, 0]'), Text(0.6840175953079178, 0.5476190476190477, 'x[9] <= 0.57\\ngini = 0.298\\nsamples = 11\\nvalue = [0, 0, 9, 2, 0, 0]'), Text(0.6810850439882697, 0.5, 'gini = 0.0\\nsamples = 9\\nvalue = [0, 0, 9, 0, 0, 0]'), Text(0.6869501466275659, 0.5, 'gini = 0.0\\nsamples = 2\\nvalue = [0, 0, 0, 2, 0, 0]'), Text(0.6869501466275659, 0.6428571428571429, 'x[1] <= 1.135\\ngini = 0.32\\nsamples = 5\\nvalue = [0, 4, 1, 0, 0, 0]'), Text(0.6840175953079178, 0.5952380952380952, 'gini = 0.0\\nsamples = 4\\nvalue = [0, 4, 0, 0, 0, 0]'), Text(0.6898826979472141, 0.5952380952380952, 'gini = 0.0\\nsamples = 1\\nvalue = [0, 0, 1, 0, 0, 0]'), Text(0.7133431085043989, 0.7857142857142857, 'x[1] <= 0.57\\ngini = 0.529\\nsamples = 42\\nvalue = [0, 2, 9, 27, 4, 0]'), Text(0.7016129032258065, 0.7380952380952381, 'x[3] <= 5.4\\ngini = 0.277\\nsamples = 19\\nvalue = [0, 1, 0, 16, 2, 0]'), Text(0.6957478005865103, 0.6904761904761905, 'x[10] <= 12.65\\ngini = 0.111\\nsamples = 17\\nvalue = [0, 0, 0, 16, 1, 0]'), Text(0.6928152492668622, 0.6428571428571429, 'gini = 0.0\\nsamples = 14\\nvalue = [0, 0, 0, 14, 0, 0]'), Text(0.6986803519061584, 0.6428571428571429, 'x[0] <= 6.95\\ngini = 0.444\\nsamples = 3\\nvalue = [0, 0, 0, 2, 1, 0]'), Text(0.6957478005865103, 0.5952380952380952, 'gini = 0.0\\nsamples = 1\\nvalue = [0, 0, 0, 0, 1, 0]'), Text(0.7016129032258065, 0.5952380952380952, 'gini = 0.0\\nsamples = 2\\nvalue = [0, 0, 0, 2, 0, 0]'), Text(0.7074780058651027, 0.6904761904761905, 'x[10] <= 11.9\\ngini = 0.5\\nsamples = 2\\nvalue = [0, 1, 0, 0, 1, 0]'), Text(0.7045454545454546, 0.6428571428571429, 'gini = 0.0\\nsamples = 1\\nvalue = [0, 0, 0, 0, 1, 0]'), Text(0.7104105571847508, 0.6428571428571429, 'gini = 0.0\\nsamples = 1\\nvalue = [0, 1, 0, 0, 0, 0]'), Text(0.7250733137829912, 0.7380952380952381, 'x[3] <= 2.35\\ngini = 0.609\\nsamples = 23\\nvalue = [0, 1, 9, 11, 2, 0]'), Text(0.719208211143695, 0.6904761904761905, 'x[0] <= 7.15\\ngini = 0.498\\nsamples = 15\\nvalue = [0, 0, 3, 10, 2, 0]'), Text(0.716275659824047, 0.6428571428571429, 'x[7] <= 0.994\\ngini = 0.642\\nsamples = 9\\nvalue = [0, 0, 3, 4, 2, 0]'), Text(0.7133431085043989, 0.5952380952380952, 'x[10] <= 12.075\\ngini = 0.49\\nsamples = 7\\nvalue = [0, 0, 3, 4, 0, 0]'), Text(0.7104105571847508, 0.5476190476190477, 'x[7] <= 0.994\\ngini = 0.375\\nsamples = 4\\nvalue = [0, 0, 3, 1, 0, 0]'), Text(0.7074780058651027, 0.5, 'gini = 0.0\\nsamples = 3\\nvalue = [0, 0, 3, 0, 0, 0]'), Text(0.7133431085043989, 0.5, 'gini = 0.0\\nsamples = 1\\nvalue = [0, 0, 0, 1, 0, 0]'), Text(0.716275659824047, 0.5476190476190477, 'gini = 0.0\\nsamples = 3\\nvalue = [0, 0, 0, 3, 0, 0]'), Text(0.719208211143695, 0.5952380952380952, 'gini = 0.0\\nsamples = 2\\nvalue = [0, 0, 0, 0, 2, 0]'), Text(0.7221407624633431, 0.6428571428571429, 'gini = 0.0\\nsamples = 6\\nvalue = [0, 0, 0, 6, 0, 0]'), Text(0.7309384164222874, 0.6904761904761905, 'x[6] <= 42.5\\ngini = 0.406\\nsamples = 8\\nvalue = [0, 1, 6, 1, 0, 0]'), Text(0.7280058651026393, 0.6428571428571429, 'x[3] <= 4.025\\ngini = 0.245\\nsamples = 7\\nvalue = [0, 1, 6, 0, 0, 0]'), Text(0.7250733137829912, 0.5952380952380952, 'gini = 0.0\\nsamples = 6\\nvalue = [0, 0, 6, 0, 0, 0]'), Text(0.7309384164222874, 0.5952380952380952, 'gini = 0.0\\nsamples = 1\\nvalue = [0, 1, 0, 0, 0, 0]'), Text(0.7338709677419355, 0.6428571428571429, 'gini = 0.0\\nsamples = 1\\nvalue = [0, 0, 0, 1, 0, 0]'), Text(0.8839923936950147, 0.8333333333333334, 'x[10] <= 11.55\\ngini = 0.617\\nsamples = 319\\nvalue = [0, 5, 52, 175, 74, 13]'), Text(0.8328674853372434, 0.7857142857142857, 'x[6] <= 105.5\\ngini = 0.581\\nsamples = 214\\nvalue = [0, 5, 48, 126, 31, 4]'), Text(0.8299349340175953, 0.7380952380952381, 'x[3] <= 2.95\\ngini = 0.562\\nsamples = 205\\nvalue = [0, 5, 39, 126, 31, 4]'), Text(0.7808376099706745, 0.6904761904761905, 'x[1] <= 0.375\\ngini = 0.509\\nsamples = 174\\nvalue = [0, 2, 31, 116, 21, 4]'), Text(0.7441348973607038, 0.6428571428571429, 'x[7] <= 0.996\\ngini = 0.663\\nsamples = 24\\nvalue = [0, 0, 2, 9, 10, 3]'), Text(0.7368035190615836, 0.5952380952380952, 'x[10] <= 11.3\\ngini = 0.219\\nsamples = 8\\nvalue = [0, 0, 0, 0, 7, 1]'), Text(0.7338709677419355, 0.5476190476190477, 'gini = 0.0\\nsamples = 7\\nvalue = [0, 0, 0, 0, 7, 0]'), Text(0.7397360703812317, 0.5476190476190477, 'gini = 0.0\\nsamples = 1\\nvalue = [0, 0, 0, 0, 0, 1]'), Text(0.751466275659824, 0.5952380952380952, 'x[0] <= 9.6\\ngini = 0.617\\nsamples = 16\\nvalue = [0, 0, 2, 9, 3, 2]'), Text(0.7456011730205279, 0.5476190476190477, 'x[2] <= 0.305\\ngini = 0.198\\nsamples = 9\\nvalue = [0, 0, 1, 8, 0, 0]'), Text(0.7426686217008798, 0.5, 'gini = 0.0\\nsamples = 1\\nvalue = [0, 0, 1, 0, 0, 0]'), Text(0.748533724340176, 0.5, 'gini = 0.0\\nsamples = 8\\nvalue = [0, 0, 0, 8, 0, 0]'), Text(0.7573313782991202, 0.5476190476190477, 'x[7] <= 0.997\\ngini = 0.694\\nsamples = 7\\nvalue = [0, 0, 1, 1, 3, 2]'), Text(0.7543988269794721, 0.5, 'gini = 0.0\\nsamples = 3\\nvalue = [0, 0, 0, 0, 3, 0]'), Text(0.7602639296187683, 0.5, 'x[10] <= 10.8\\ngini = 0.625\\nsamples = 4\\nvalue = [0, 0, 1, 1, 0, 2]'), Text(0.7573313782991202, 0.4523809523809524, 'x[0] <= 11.2\\ngini = 0.5\\nsamples = 2\\nvalue = [0, 0, 1, 1, 0, 0]'), Text(0.7543988269794721, 0.40476190476190477, 'gini = 0.0\\nsamples = 1\\nvalue = [0, 0, 1, 0, 0, 0]'), Text(0.7602639296187683, 0.40476190476190477, 'gini = 0.0\\nsamples = 1\\nvalue = [0, 0, 0, 1, 0, 0]'), Text(0.7631964809384164, 0.4523809523809524, 'gini = 0.0\\nsamples = 2\\nvalue = [0, 0, 0, 0, 0, 2]'), Text(0.8175403225806451, 0.6428571428571429, 'x[8] <= 3.485\\ngini = 0.448\\nsamples = 150\\nvalue = [0, 2, 29, 107, 11, 1]'), Text(0.7978372434017595, 0.5952380952380952, 'x[4] <= 0.098\\ngini = 0.376\\nsamples = 120\\nvalue = [0, 1, 16, 93, 9, 1]'), Text(0.783357771260997, 0.5476190476190477, 'x[9] <= 0.855\\ngini = 0.33\\nsamples = 105\\nvalue = [0, 1, 10, 85, 8, 1]'), Text(0.7719941348973607, 0.5, 'x[6] <= 8.0\\ngini = 0.28\\nsamples = 95\\nvalue = [0, 1, 9, 80, 4, 1]'), Text(0.7690615835777126, 0.4523809523809524, 'gini = 0.0\\nsamples = 1\\nvalue = [0, 0, 1, 0, 0, 0]'), Text(0.7749266862170088, 0.4523809523809524, 'x[5] <= 43.5\\ngini = 0.266\\nsamples = 94\\nvalue = [0, 1, 8, 80, 4, 1]'), Text(0.7719941348973607, 0.40476190476190477, 'x[4] <= 0.071\\ngini = 0.252\\nsamples = 93\\nvalue = [0, 1, 7, 80, 4, 1]'), Text(0.7580645161290323, 0.35714285714285715, 'x[2] <= 0.155\\ngini = 0.462\\nsamples = 28\\nvalue = [0, 1, 2, 20, 4, 1]'), Text(0.7551319648093842, 0.30952380952380953, 'gini = 0.0\\nsamples = 10\\nvalue = [0, 0, 0, 10, 0, 0]'), Text(0.7609970674486803, 0.30952380952380953, 'x[8] <= 3.325\\ngini = 0.623\\nsamples = 18\\nvalue = [0, 1, 2, 10, 4, 1]'), Text(0.7551319648093842, 0.2619047619047619, 'x[9] <= 0.61\\ngini = 0.469\\nsamples = 14\\nvalue = [0, 1, 1, 10, 1, 1]'), Text(0.7521994134897361, 0.21428571428571427, 'gini = 0.0\\nsamples = 1\\nvalue = [0, 1, 0, 0, 0, 0]'), Text(0.7580645161290323, 0.21428571428571427, 'x[0] <= 7.85\\ngini = 0.391\\nsamples = 13\\nvalue = [0, 0, 1, 10, 1, 1]'), Text(0.7551319648093842, 0.16666666666666666, 'gini = 0.0\\nsamples = 1\\nvalue = [0, 0, 0, 0, 0, 1]'), Text(0.7609970674486803, 0.16666666666666666, 'x[7] <= 0.996\\ngini = 0.292\\nsamples = 12\\nvalue = [0, 0, 1, 10, 1, 0]'), Text(0.7580645161290323, 0.11904761904761904, 'x[5] <= 16.0\\ngini = 0.56\\nsamples = 5\\nvalue = [0, 0, 1, 3, 1, 0]'), Text(0.7551319648093842, 0.07142857142857142, 'x[3] <= 2.15\\ngini = 0.5\\nsamples = 2\\nvalue = [0, 0, 1, 0, 1, 0]'), Text(0.7521994134897361, 0.023809523809523808, 'gini = 0.0\\nsamples = 1\\nvalue = [0, 0, 0, 0, 1, 0]'), Text(0.7580645161290323, 0.023809523809523808, 'gini = 0.0\\nsamples = 1\\nvalue = [0, 0, 1, 0, 0, 0]'), Text(0.7609970674486803, 0.07142857142857142, 'gini = 0.0\\nsamples = 3\\nvalue = [0, 0, 0, 3, 0, 0]'), Text(0.7639296187683284, 0.11904761904761904, 'gini = 0.0\\nsamples = 7\\nvalue = [0, 0, 0, 7, 0, 0]'), Text(0.7668621700879765, 0.2619047619047619, 'x[6] <= 37.5\\ngini = 0.375\\nsamples = 4\\nvalue = [0, 0, 1, 0, 3, 0]'), Text(0.7639296187683284, 0.21428571428571427, 'gini = 0.0\\nsamples = 3\\nvalue = [0, 0, 0, 0, 3, 0]'), Text(0.7697947214076246, 0.21428571428571427, 'gini = 0.0\\nsamples = 1\\nvalue = [0, 0, 1, 0, 0, 0]'), Text(0.7859237536656891, 0.35714285714285715, 'x[1] <= 0.61\\ngini = 0.142\\nsamples = 65\\nvalue = [0, 0, 5, 60, 0, 0]'), Text(0.7756598240469208, 0.30952380952380953, 'x[6] <= 74.5\\ngini = 0.043\\nsamples = 46\\nvalue = [0, 0, 1, 45, 0, 0]'), Text(0.7727272727272727, 0.2619047619047619, 'gini = 0.0\\nsamples = 44\\nvalue = [0, 0, 0, 44, 0, 0]'), Text(0.7785923753665689, 0.2619047619047619, 'x[6] <= 81.5\\ngini = 0.5\\nsamples = 2\\nvalue = [0, 0, 1, 1, 0, 0]'), Text(0.7756598240469208, 0.21428571428571427, 'gini = 0.0\\nsamples = 1\\nvalue = [0, 0, 1, 0, 0, 0]'), Text(0.781524926686217, 0.21428571428571427, 'gini = 0.0\\nsamples = 1\\nvalue = [0, 0, 0, 1, 0, 0]'), Text(0.7961876832844574, 0.30952380952380953, 'x[3] <= 1.95\\ngini = 0.332\\nsamples = 19\\nvalue = [0, 0, 4, 15, 0, 0]'), Text(0.7903225806451613, 0.2619047619047619, 'x[5] <= 30.0\\ngini = 0.444\\nsamples = 3\\nvalue = [0, 0, 2, 1, 0, 0]'), Text(0.7873900293255132, 0.21428571428571427, 'gini = 0.0\\nsamples = 2\\nvalue = [0, 0, 2, 0, 0, 0]'), Text(0.7932551319648093, 0.21428571428571427, 'gini = 0.0\\nsamples = 1\\nvalue = [0, 0, 0, 1, 0, 0]'), Text(0.8020527859237536, 0.2619047619047619, 'x[1] <= 0.625\\ngini = 0.219\\nsamples = 16\\nvalue = [0, 0, 2, 14, 0, 0]'), Text(0.7991202346041055, 0.21428571428571427, 'gini = 0.0\\nsamples = 1\\nvalue = [0, 0, 1, 0, 0, 0]'), Text(0.8049853372434017, 0.21428571428571427, 'x[0] <= 8.75\\ngini = 0.124\\nsamples = 15\\nvalue = [0, 0, 1, 14, 0, 0]'), Text(0.8020527859237536, 0.16666666666666666, 'gini = 0.0\\nsamples = 10\\nvalue = [0, 0, 0, 10, 0, 0]'), Text(0.8079178885630498, 0.16666666666666666, 'x[0] <= 8.95\\ngini = 0.32\\nsamples = 5\\nvalue = [0, 0, 1, 4, 0, 0]'), Text(0.8049853372434017, 0.11904761904761904, 'gini = 0.0\\nsamples = 1\\nvalue = [0, 0, 1, 0, 0, 0]'), Text(0.8108504398826979, 0.11904761904761904, 'gini = 0.0\\nsamples = 4\\nvalue = [0, 0, 0, 4, 0, 0]'), Text(0.7778592375366569, 0.40476190476190477, 'gini = 0.0\\nsamples = 1\\nvalue = [0, 0, 1, 0, 0, 0]'), Text(0.7947214076246334, 0.5, 'x[9] <= 0.935\\ngini = 0.58\\nsamples = 10\\nvalue = [0, 0, 1, 5, 4, 0]'), Text(0.7917888563049853, 0.4523809523809524, 'x[2] <= 0.455\\ngini = 0.571\\nsamples = 7\\nvalue = [0, 0, 1, 2, 4, 0]'), Text(0.7888563049853372, 0.40476190476190477, 'gini = 0.0\\nsamples = 4\\nvalue = [0, 0, 0, 0, 4, 0]'), Text(0.7947214076246334, 0.40476190476190477, 'x[6] <= 23.0\\ngini = 0.444\\nsamples = 3\\nvalue = [0, 0, 1, 2, 0, 0]'), Text(0.7917888563049853, 0.35714285714285715, 'gini = 0.0\\nsamples = 2\\nvalue = [0, 0, 0, 2, 0, 0]'), Text(0.7976539589442815, 0.35714285714285715, 'gini = 0.0\\nsamples = 1\\nvalue = [0, 0, 1, 0, 0, 0]'), Text(0.7976539589442815, 0.4523809523809524, 'gini = 0.0\\nsamples = 3\\nvalue = [0, 0, 0, 3, 0, 0]'), Text(0.8123167155425219, 0.5476190476190477, 'x[4] <= 0.117\\ngini = 0.551\\nsamples = 15\\nvalue = [0, 0, 6, 8, 1, 0]'), Text(0.8064516129032258, 0.5, 'x[9] <= 0.735\\ngini = 0.278\\nsamples = 6\\nvalue = [0, 0, 5, 1, 0, 0]'), Text(0.8035190615835777, 0.4523809523809524, 'gini = 0.0\\nsamples = 5\\nvalue = [0, 0, 5, 0, 0, 0]'), Text(0.8093841642228738, 0.4523809523809524, 'gini = 0.0\\nsamples = 1\\nvalue = [0, 0, 0, 1, 0, 0]'), Text(0.8181818181818182, 0.5, 'x[8] <= 3.455\\ngini = 0.37\\nsamples = 9\\nvalue = [0, 0, 1, 7, 1, 0]'), Text(0.8152492668621701, 0.4523809523809524, 'x[5] <= 6.5\\ngini = 0.219\\nsamples = 8\\nvalue = [0, 0, 1, 7, 0, 0]'), Text(0.8123167155425219, 0.40476190476190477, 'x[0] <= 9.55\\ngini = 0.5\\nsamples = 2\\nvalue = [0, 0, 1, 1, 0, 0]'), Text(0.8093841642228738, 0.35714285714285715, 'gini = 0.0\\nsamples = 1\\nvalue = [0, 0, 1, 0, 0, 0]'), Text(0.8152492668621701, 0.35714285714285715, 'gini = 0.0\\nsamples = 1\\nvalue = [0, 0, 0, 1, 0, 0]'), Text(0.8181818181818182, 0.40476190476190477, 'gini = 0.0\\nsamples = 6\\nvalue = [0, 0, 0, 6, 0, 0]'), Text(0.8211143695014663, 0.4523809523809524, 'gini = 0.0\\nsamples = 1\\nvalue = [0, 0, 0, 0, 1, 0]'), Text(0.8372434017595308, 0.5952380952380952, 'x[3] <= 1.95\\ngini = 0.589\\nsamples = 30\\nvalue = [0, 1, 13, 14, 2, 0]'), Text(0.8269794721407625, 0.5476190476190477, 'x[2] <= 0.005\\ngini = 0.278\\nsamples = 12\\nvalue = [0, 0, 10, 2, 0, 0]'), Text(0.8240469208211144, 0.5, 'gini = 0.0\\nsamples = 1\\nvalue = [0, 0, 0, 1, 0, 0]'), Text(0.8299120234604106, 0.5, 'x[0] <= 5.9\\ngini = 0.165\\nsamples = 11\\nvalue = [0, 0, 10, 1, 0, 0]'), Text(0.8269794721407625, 0.4523809523809524, 'x[4] <= 0.113\\ngini = 0.5\\nsamples = 2\\nvalue = [0, 0, 1, 1, 0, 0]'), Text(0.8240469208211144, 0.40476190476190477, 'gini = 0.0\\nsamples = 1\\nvalue = [0, 0, 0, 1, 0, 0]'), Text(0.8299120234604106, 0.40476190476190477, 'gini = 0.0\\nsamples = 1\\nvalue = [0, 0, 1, 0, 0, 0]'), Text(0.8328445747800587, 0.4523809523809524, 'gini = 0.0\\nsamples = 9\\nvalue = [0, 0, 9, 0, 0, 0]'), Text(0.8475073313782991, 0.5476190476190477, 'x[7] <= 0.998\\ngini = 0.512\\nsamples = 18\\nvalue = [0, 1, 3, 12, 2, 0]'), Text(0.844574780058651, 0.5, 'x[7] <= 0.997\\ngini = 0.414\\nsamples = 16\\nvalue = [0, 1, 1, 12, 2, 0]'), Text(0.8387096774193549, 0.4523809523809524, 'x[0] <= 5.7\\ngini = 0.272\\nsamples = 13\\nvalue = [0, 1, 1, 11, 0, 0]'), Text(0.8357771260997068, 0.40476190476190477, 'gini = 0.0\\nsamples = 1\\nvalue = [0, 0, 1, 0, 0, 0]'), Text(0.841642228739003, 0.40476190476190477, 'x[5] <= 5.0\\ngini = 0.153\\nsamples = 12\\nvalue = [0, 1, 0, 11, 0, 0]'), Text(0.8387096774193549, 0.35714285714285715, 'gini = 0.0\\nsamples = 1\\nvalue = [0, 1, 0, 0, 0, 0]'), Text(0.844574780058651, 0.35714285714285715, 'gini = 0.0\\nsamples = 11\\nvalue = [0, 0, 0, 11, 0, 0]'), Text(0.8504398826979472, 0.4523809523809524, 'x[9] <= 0.65\\ngini = 0.444\\nsamples = 3\\nvalue = [0, 0, 0, 1, 2, 0]'), Text(0.8475073313782991, 0.40476190476190477, 'gini = 0.0\\nsamples = 1\\nvalue = [0, 0, 0, 1, 0, 0]'), Text(0.8533724340175953, 0.40476190476190477, 'gini = 0.0\\nsamples = 2\\nvalue = [0, 0, 0, 0, 2, 0]'), Text(0.8504398826979472, 0.5, 'gini = 0.0\\nsamples = 2\\nvalue = [0, 0, 2, 0, 0, 0]'), Text(0.8790322580645161, 0.6904761904761905, 'x[8] <= 3.365\\ngini = 0.716\\nsamples = 31\\nvalue = [0, 3, 8, 10, 10, 0]'), Text(0.8695014662756598, 0.6428571428571429, 'x[9] <= 0.735\\ngini = 0.635\\nsamples = 21\\nvalue = [0, 0, 8, 9, 4, 0]'), Text(0.8621700879765396, 0.5952380952380952, 'x[0] <= 11.55\\ngini = 0.46\\nsamples = 10\\nvalue = [0, 0, 1, 7, 2, 0]'), Text(0.8592375366568915, 0.5476190476190477, 'x[9] <= 0.625\\ngini = 0.219\\nsamples = 8\\nvalue = [0, 0, 1, 7, 0, 0]'), Text(0.8563049853372434, 0.5, 'gini = 0.0\\nsamples = 1\\nvalue = [0, 0, 1, 0, 0, 0]'), Text(0.8621700879765396, 0.5, 'gini = 0.0\\nsamples = 7\\nvalue = [0, 0, 0, 7, 0, 0]'), Text(0.8651026392961877, 0.5476190476190477, 'gini = 0.0\\nsamples = 2\\nvalue = [0, 0, 0, 0, 2, 0]'), Text(0.8768328445747801, 0.5952380952380952, 'x[2] <= 0.55\\ngini = 0.529\\nsamples = 11\\nvalue = [0, 0, 7, 2, 2, 0]'), Text(0.8709677419354839, 0.5476190476190477, 'x[4] <= 0.07\\ngini = 0.219\\nsamples = 8\\nvalue = [0, 0, 7, 0, 1, 0]'), Text(0.8680351906158358, 0.5, 'gini = 0.0\\nsamples = 1\\nvalue = [0, 0, 0, 0, 1, 0]'), Text(0.873900293255132, 0.5, 'gini = 0.0\\nsamples = 7\\nvalue = [0, 0, 7, 0, 0, 0]'), Text(0.8826979472140762, 0.5476190476190477, 'x[4] <= 0.106\\ngini = 0.444\\nsamples = 3\\nvalue = [0, 0, 0, 2, 1, 0]'), Text(0.8797653958944281, 0.5, 'gini = 0.0\\nsamples = 2\\nvalue = [0, 0, 0, 2, 0, 0]'), Text(0.8856304985337243, 0.5, 'gini = 0.0\\nsamples = 1\\nvalue = [0, 0, 0, 0, 1, 0]'), Text(0.8885630498533724, 0.6428571428571429, 'x[8] <= 3.42\\ngini = 0.54\\nsamples = 10\\nvalue = [0, 3, 0, 1, 6, 0]'), Text(0.8856304985337243, 0.5952380952380952, 'gini = 0.0\\nsamples = 6\\nvalue = [0, 0, 0, 0, 6, 0]'), Text(0.8914956011730205, 0.5952380952380952, 'x[2] <= 0.05\\ngini = 0.375\\nsamples = 4\\nvalue = [0, 3, 0, 1, 0, 0]'), Text(0.8885630498533724, 0.5476190476190477, 'gini = 0.0\\nsamples = 1\\nvalue = [0, 0, 0, 1, 0, 0]'), Text(0.8944281524926686, 0.5476190476190477, 'gini = 0.0\\nsamples = 3\\nvalue = [0, 3, 0, 0, 0, 0]'), Text(0.8358000366568915, 0.7380952380952381, 'gini = 0.0\\nsamples = 9\\nvalue = [0, 0, 9, 0, 0, 0]'), Text(0.9351173020527859, 0.7857142857142857, 'x[8] <= 3.245\\ngini = 0.606\\nsamples = 105\\nvalue = [0, 0, 4, 49, 43, 9]'), Text(0.9105571847507331, 0.7380952380952381, 'x[10] <= 12.35\\ngini = 0.522\\nsamples = 31\\nvalue = [0, 0, 1, 7, 20, 3]'), Text(0.9032258064516129, 0.6904761904761905, 'x[7] <= 0.995\\ngini = 0.188\\nsamples = 19\\nvalue = [0, 0, 0, 2, 17, 0]'), Text(0.9002932551319648, 0.6428571428571429, 'gini = 0.0\\nsamples = 1\\nvalue = [0, 0, 0, 1, 0, 0]'), Text(0.906158357771261, 0.6428571428571429, 'x[3] <= 2.3\\ngini = 0.105\\nsamples = 18\\nvalue = [0, 0, 0, 1, 17, 0]'), Text(0.9032258064516129, 0.5952380952380952, 'x[8] <= 3.15\\ngini = 0.5\\nsamples = 2\\nvalue = [0, 0, 0, 1, 1, 0]'), Text(0.9002932551319648, 0.5476190476190477, 'gini = 0.0\\nsamples = 1\\nvalue = [0, 0, 0, 0, 1, 0]'), Text(0.906158357771261, 0.5476190476190477, 'gini = 0.0\\nsamples = 1\\nvalue = [0, 0, 0, 1, 0, 0]'), Text(0.9090909090909091, 0.5952380952380952, 'gini = 0.0\\nsamples = 16\\nvalue = [0, 0, 0, 0, 16, 0]'), Text(0.9178885630498533, 0.6904761904761905, 'x[6] <= 21.5\\ngini = 0.694\\nsamples = 12\\nvalue = [0, 0, 1, 5, 3, 3]'), Text(0.9149560117302052, 0.6428571428571429, 'gini = 0.0\\nsamples = 3\\nvalue = [0, 0, 0, 0, 0, 3]'), Text(0.9208211143695014, 0.6428571428571429, 'x[4] <= 0.083\\ngini = 0.568\\nsamples = 9\\nvalue = [0, 0, 1, 5, 3, 0]'), Text(0.9149560117302052, 0.5952380952380952, 'x[6] <= 25.0\\ngini = 0.375\\nsamples = 4\\nvalue = [0, 0, 0, 1, 3, 0]'), Text(0.9120234604105572, 0.5476190476190477, 'gini = 0.0\\nsamples = 1\\nvalue = [0, 0, 0, 1, 0, 0]'), Text(0.9178885630498533, 0.5476190476190477, 'gini = 0.0\\nsamples = 3\\nvalue = [0, 0, 0, 0, 3, 0]'), Text(0.9266862170087976, 0.5952380952380952, 'x[5] <= 16.0\\ngini = 0.32\\nsamples = 5\\nvalue = [0, 0, 1, 4, 0, 0]'), Text(0.9237536656891495, 0.5476190476190477, 'gini = 0.0\\nsamples = 4\\nvalue = [0, 0, 0, 4, 0, 0]'), Text(0.9296187683284457, 0.5476190476190477, 'gini = 0.0\\nsamples = 1\\nvalue = [0, 0, 1, 0, 0, 0]'), Text(0.9596774193548387, 0.7380952380952381, 'x[9] <= 0.705\\ngini = 0.573\\nsamples = 74\\nvalue = [0, 0, 3, 42, 23, 6]'), Text(0.9428152492668622, 0.6904761904761905, 'x[10] <= 12.95\\ngini = 0.371\\nsamples = 32\\nvalue = [0, 0, 3, 25, 3, 1]'), Text(0.9398826979472141, 0.6428571428571429, 'x[5] <= 3.5\\ngini = 0.293\\nsamples = 30\\nvalue = [0, 0, 1, 25, 3, 1]'), Text(0.9369501466275659, 0.5952380952380952, 'gini = 0.0\\nsamples = 1\\nvalue = [0, 0, 0, 0, 1, 0]'), Text(0.9428152492668622, 0.5952380952380952, 'x[5] <= 18.0\\ngini = 0.25\\nsamples = 29\\nvalue = [0, 0, 1, 25, 2, 1]'), Text(0.9354838709677419, 0.5476190476190477, 'x[9] <= 0.685\\ngini = 0.15\\nsamples = 25\\nvalue = [0, 0, 1, 23, 0, 1]'), Text(0.9296187683284457, 0.5, 'x[10] <= 12.75\\ngini = 0.083\\nsamples = 23\\nvalue = [0, 0, 1, 22, 0, 0]'), Text(0.9266862170087976, 0.4523809523809524, 'gini = 0.0\\nsamples = 19\\nvalue = [0, 0, 0, 19, 0, 0]'), Text(0.9325513196480938, 0.4523809523809524, 'x[3] <= 2.2\\ngini = 0.375\\nsamples = 4\\nvalue = [0, 0, 1, 3, 0, 0]'), Text(0.9296187683284457, 0.40476190476190477, 'gini = 0.0\\nsamples = 1\\nvalue = [0, 0, 1, 0, 0, 0]'), Text(0.9354838709677419, 0.40476190476190477, 'gini = 0.0\\nsamples = 3\\nvalue = [0, 0, 0, 3, 0, 0]'), Text(0.9413489736070382, 0.5, 'x[6] <= 14.0\\ngini = 0.5\\nsamples = 2\\nvalue = [0, 0, 0, 1, 0, 1]'), Text(0.9384164222873901, 0.4523809523809524, 'gini = 0.0\\nsamples = 1\\nvalue = [0, 0, 0, 0, 0, 1]'), Text(0.9442815249266863, 0.4523809523809524, 'gini = 0.0\\nsamples = 1\\nvalue = [0, 0, 0, 1, 0, 0]'), Text(0.9501466275659824, 0.5476190476190477, 'x[3] <= 2.15\\ngini = 0.5\\nsamples = 4\\nvalue = [0, 0, 0, 2, 2, 0]'), Text(0.9472140762463344, 0.5, 'gini = 0.0\\nsamples = 2\\nvalue = [0, 0, 0, 0, 2, 0]'), Text(0.9530791788856305, 0.5, 'gini = 0.0\\nsamples = 2\\nvalue = [0, 0, 0, 2, 0, 0]'), Text(0.9457478005865103, 0.6428571428571429, 'gini = 0.0\\nsamples = 2\\nvalue = [0, 0, 2, 0, 0, 0]'), Text(0.9765395894428153, 0.6904761904761905, 'x[5] <= 18.5\\ngini = 0.595\\nsamples = 42\\nvalue = [0, 0, 0, 17, 20, 5]'), Text(0.9648093841642229, 0.6428571428571429, 'x[5] <= 8.5\\ngini = 0.474\\nsamples = 25\\nvalue = [0, 0, 0, 6, 17, 2]'), Text(0.9589442815249267, 0.5952380952380952, 'x[1] <= 0.41\\ngini = 0.375\\nsamples = 8\\nvalue = [0, 0, 0, 6, 2, 0]'), Text(0.9560117302052786, 0.5476190476190477, 'gini = 0.0\\nsamples = 1\\nvalue = [0, 0, 0, 0, 1, 0]'), Text(0.9618768328445748, 0.5476190476190477, 'x[6] <= 24.0\\ngini = 0.245\\nsamples = 7\\nvalue = [0, 0, 0, 6, 1, 0]'), Text(0.9589442815249267, 0.5, 'gini = 0.0\\nsamples = 6\\nvalue = [0, 0, 0, 6, 0, 0]'), Text(0.9648093841642229, 0.5, 'gini = 0.0\\nsamples = 1\\nvalue = [0, 0, 0, 0, 1, 0]'), Text(0.9706744868035191, 0.5952380952380952, 'x[1] <= 0.365\\ngini = 0.208\\nsamples = 17\\nvalue = [0, 0, 0, 0, 15, 2]'), Text(0.967741935483871, 0.5476190476190477, 'gini = 0.0\\nsamples = 1\\nvalue = [0, 0, 0, 0, 0, 1]'), Text(0.9736070381231672, 0.5476190476190477, 'x[1] <= 0.843\\ngini = 0.117\\nsamples = 16\\nvalue = [0, 0, 0, 0, 15, 1]'), Text(0.9706744868035191, 0.5, 'gini = 0.0\\nsamples = 15\\nvalue = [0, 0, 0, 0, 15, 0]'), Text(0.9765395894428153, 0.5, 'gini = 0.0\\nsamples = 1\\nvalue = [0, 0, 0, 0, 0, 1]'), Text(0.9882697947214076, 0.6428571428571429, 'x[4] <= 0.069\\ngini = 0.519\\nsamples = 17\\nvalue = [0, 0, 0, 11, 3, 3]'), Text(0.9824046920821115, 0.5952380952380952, 'x[8] <= 3.405\\ngini = 0.611\\nsamples = 6\\nvalue = [0, 0, 0, 1, 2, 3]'), Text(0.9794721407624634, 0.5476190476190477, 'gini = 0.0\\nsamples = 2\\nvalue = [0, 0, 0, 0, 2, 0]'), Text(0.9853372434017595, 0.5476190476190477, 'x[1] <= 0.4\\ngini = 0.375\\nsamples = 4\\nvalue = [0, 0, 0, 1, 0, 3]'), Text(0.9824046920821115, 0.5, 'gini = 0.0\\nsamples = 1\\nvalue = [0, 0, 0, 1, 0, 0]'), Text(0.9882697947214076, 0.5, 'gini = 0.0\\nsamples = 3\\nvalue = [0, 0, 0, 0, 0, 3]'), Text(0.9941348973607038, 0.5952380952380952, 'x[9] <= 0.735\\ngini = 0.165\\nsamples = 11\\nvalue = [0, 0, 0, 10, 1, 0]'), Text(0.9912023460410557, 0.5476190476190477, 'gini = 0.0\\nsamples = 1\\nvalue = [0, 0, 0, 0, 1, 0]'), Text(0.9970674486803519, 0.5476190476190477, 'gini = 0.0\\nsamples = 10\\nvalue = [0, 0, 0, 10, 0, 0]')]\n"
          ]
        },
        {
          "output_type": "display_data",
          "data": {
            "text/plain": [
              "<Figure size 640x480 with 1 Axes>"
            ],
            "image/png": "[encoded data removed]"
          },
          "metadata": {}
        },
        {
          "output_type": "display_data",
          "data": {
            "text/plain": [
              "<Figure size 1000x500 with 1 Axes>"
            ],
            "image/png": "[encoded data removed]"
          },
          "metadata": {}
        },
        {
          "output_type": "stream",
          "name": "stdout",
          "text": [
            "\n",
            "Actual vs Predicted values:\n",
            "      Actual  Predicted\n",
            "1109       6          6\n",
            "1032       5          5\n",
            "1002       7          7\n",
            "487        6          5\n",
            "979        5          5\n",
            "...      ...        ...\n",
            "794        6          6\n",
            "813        4          4\n",
            "1322       5          7\n",
            "704        4          3\n",
            "1023       6          6\n",
            "\n",
            "[320 rows x 2 columns]\n",
            "\n",
            "Mean Squared Error: 0.553125\n",
            "Mean Absolute Error: 0.396875\n",
            "Mean Absolute Percentage Error: 7.041756824234353 %\n"
          ]
        }
      ]
    }
  ]
}