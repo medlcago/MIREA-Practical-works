{
  "nbformat": 4,
  "nbformat_minor": 0,
  "metadata": {
    "colab": {
      "provenance": []
    },
    "kernelspec": {
      "name": "python3",
      "display_name": "Python 3"
    },
    "language_info": {
      "name": "python"
    }
  },
  "cells": [
    {
      "cell_type": "markdown",
      "source": [
        "## **Рабочая тетрадь № 6**"
      ],
      "metadata": {
        "id": "J-CuEj1oXdeZ"
      }
    },
    {
      "cell_type": "markdown",
      "source": [
        "# **Эволюционные методы**"
      ],
      "metadata": {
        "id": "KQTDfAfKXf6K"
      }
    },
    {
      "cell_type": "markdown",
      "source": [
        "Эволюционные методы относятся к числу эффективных средств решения задач оптимизации и структурного синтеза проектных решений. Они основаны на использовании принципов оптимального приспособления организмов в живой природе к условиям окружающей среды. К числу эволюционных относятся методы генетические, колонии муравьев, поведения толпы. Наиболее развиты и востребованы в настоящее время генетические алгоритмы. По мере развития техники и технологий растет доля сложных задач проектирования и управления, для решения которых применение традиционных методов проблематично. Поэтому все большее внимание уделяется применению методов искусственного интеллекта.\n",
        "\n",
        "Генетические алгоритмы Для применения ГА необходимо:\n",
        "\n",
        "1.\tвыделить совокупность свойств объекта, характеризуемых внутренними параметрами и влияющих на его полезность, т.е. выделить множество управляемых параметровX=(x_1,x_2,…,x_n) среди x_i могут быть величины различных типов (real, integer, Boolean, enumeration). Наличие нечисловых величин (enumeration) обусловливает возможность решения задач не только параметрической, но и структурной оптимизации;\n",
        "\n",
        "2.\tсформулировать количественную оценку полезности вариантов объекта — функцию полезности F. Если в исходном виде задача многокритериальна, то такая формулировка означает выбор скалярного (обобщенного) критерия;\n",
        "\n",
        "3.\tпредставить вектор X в форме хромосомы — записи следующего вида:\n",
        "<p align=\"center\">\n",
        "  <img src=\"https://i.ibb.co/7zT2pLx/image.png\" alt=\"Схематичное дерево\" style=\"display: block; margin: 0 auto;\">\n",
        "</p>\n",
        "\n",
        "Этапы генетического алгоритма могут быть представлены в следующем виде:\n",
        "\n",
        "    for (k=0; k<G; k++)\n",
        "    { for (j=0; j<N; j++)\n",
        "      { Выбор родительской пары хромосом;\n",
        "        Кроссовер;\n",
        "        Мутации;\n",
        "        Оценка функции полезности F потомков;\n",
        "        Селекция;\n",
        "      }\n",
        "      Замена текущего поколения новым;\n",
        "    }\n"
      ],
      "metadata": {
        "id": "a91wkvLnXoi-"
      }
    },
    {
      "cell_type": "markdown",
      "source": [
        "**1.1.1. Пример**\n",
        "\n",
        "Пусть дана начальная популяция из четырех хромосом с двумя генами x и y. Показатель качества хромосомы оценивается функцией Z. При равном качестве хромосом предпочтение отдается хромосоме с большим номером. На каждом этапе хромосома a с высшим качеством порождает четыре новых хромосомы b_1, c_1, b_2, c_2, обмениваясь генами с двумя хромосомами b и c более низкого качества по указанной схеме:\n",
        "\n",
        "<p align=\"center\">\n",
        "  <img src=\"https://i.ibb.co/PMRrnky/image.png\" alt=\"Схематичное дерево\" style=\"display: block; margin: 0 auto;\">\n",
        "</p>\n",
        "\n",
        "Последняя хромоcома (с низшим качеством) выбывает из популяции. Найти максимальный показатель качества хромосомы в популяции и общее качество популяции после четырех этапов эволюции."
      ],
      "metadata": {
        "id": "K_Hz8cE9YNBd"
      }
    },
    {
      "cell_type": "markdown",
      "source": [
        "Начнем с функции оценки качества хромосомы qZ(x,y):"
      ],
      "metadata": {
        "id": "dVtv8D8XYqh4"
      }
    },
    {
      "cell_type": "code",
      "source": [
        "def qZ(x, y):\n",
        "    return (x - 3 * y + 1) / (3 * x ** 2 + 3 * y ** 2 + 1)"
      ],
      "metadata": {
        "id": "hWXESzaIYtP1"
      },
      "execution_count": null,
      "outputs": []
    },
    {
      "cell_type": "markdown",
      "source": [
        "Далее, оценим суммарное качество хромосом:"
      ],
      "metadata": {
        "id": "kiUyYf-oYvy0"
      }
    },
    {
      "cell_type": "code",
      "source": [
        "def qSumZ(Z):\n",
        "    return sum(Z)"
      ],
      "metadata": {
        "id": "pWI7IYA0YwRB"
      },
      "execution_count": null,
      "outputs": []
    },
    {
      "cell_type": "markdown",
      "source": [
        "И запрограммируем представленную выше схему обмена хромосомами:"
      ],
      "metadata": {
        "id": "eAftFTvgYzzY"
      }
    },
    {
      "cell_type": "code",
      "source": [
        "def exchangeScheme(oldX, oldY, sortedId):\n",
        "    x = [0 for i in range(4)]\n",
        "    y = [0 for i in range(4)]\n",
        "\n",
        "    x[2] = oldX[sortedId[2]]\n",
        "    x[3] = oldX[sortedId[2]]\n",
        "\n",
        "    x[0] = oldX[sortedId[0]]\n",
        "\n",
        "    x[1] = oldX[sortedId[1]]\n",
        "\n",
        "    y[0] = oldY[sortedId[2]]\n",
        "    y[1] = oldY[sortedId[2]]\n",
        "\n",
        "    y[2] = oldY[sortedId[0]]\n",
        "\n",
        "    y[3] = oldY[sortedId[1]]\n",
        "\n",
        "    return x, y"
      ],
      "metadata": {
        "id": "ZmDk8yx6Y17V"
      },
      "execution_count": null,
      "outputs": []
    },
    {
      "cell_type": "markdown",
      "source": [
        "Отсортируем массив качества наших потомков и выделим полученные индексы:"
      ],
      "metadata": {
        "id": "_VWLe1GuY4f-"
      }
    },
    {
      "cell_type": "code",
      "source": [
        "def sorting(Z):\n",
        "    sortedId = sorted(range(len(Z)), key=lambda k: Z[k])\n",
        "    return sortedId"
      ],
      "metadata": {
        "id": "dvplnJwIY491"
      },
      "execution_count": null,
      "outputs": []
    },
    {
      "cell_type": "markdown",
      "source": [
        "Напишем функцию для шага эволюции:"
      ],
      "metadata": {
        "id": "U4j6mGp6Y8H6"
      }
    },
    {
      "cell_type": "code",
      "source": [
        "def evoStep(x, y, z):\n",
        "    _, minId = min((value, id) for (id, value) in enumerate(z))\n",
        "    x = x[:]\n",
        "    y = y[:]\n",
        "    z = z[:]\n",
        "\n",
        "    x.pop(minId)\n",
        "    y.pop(minId)\n",
        "    z.pop(minId)\n",
        "\n",
        "    return x, y, z"
      ],
      "metadata": {
        "id": "BP1cDWxbY99l"
      },
      "execution_count": null,
      "outputs": []
    },
    {
      "cell_type": "markdown",
      "source": [
        "Произведем эволюционные изменения, в соответствии с задачей - 4 шага:"
      ],
      "metadata": {
        "id": "QzsRibUWZARj"
      }
    },
    {
      "cell_type": "code",
      "source": [
        "def evoSteps(x, y, steps_num=4):\n",
        "    results = []\n",
        "\n",
        "    for i in range(steps_num):\n",
        "        arrZ = [qZ(k, y[i]) for i, k in enumerate(x)]\n",
        "\n",
        "        x, y, z = evoStep(x, y, arrZ)\n",
        "\n",
        "        x, y = exchangeScheme(x, y, sorting(z))\n",
        "\n",
        "        results.append([x, y, qSumZ(arrZ), arrZ])\n",
        "\n",
        "    return x, y, results"
      ],
      "metadata": {
        "id": "Wk0eGplzZBzg"
      },
      "execution_count": null,
      "outputs": []
    },
    {
      "cell_type": "markdown",
      "source": [
        "Теперь, когда мы подготовились к решению задачи, написав все необходимые функции для реализации генетического алгоритма (оценки качества хромосом, сортировки потомков и эволюционных шагов), решим задачу в числах. Пусть даны следующие массивы хромосом X и Y:\n",
        "\n",
        "<p align=\"center\">\n",
        "  <img src=\"https://i.ibb.co/wRBdzqf/image.png\" alt=\"Схематичное дерево\" style=\"display: block; margin: 0 auto;\">\n",
        "</p>\n",
        "\n",
        "Запишем их в требуемом виде и воспользуемся написанной функцией evoSteps."
      ],
      "metadata": {
        "id": "HC10LfLIZEPz"
      }
    },
    {
      "cell_type": "code",
      "source": [
        "x = [-2, -1, 0, 1]\n",
        "y = [-2, -1, 0, 1]\n",
        "\n",
        "results = evoSteps(x, y)"
      ],
      "metadata": {
        "id": "BQE3CYoxZQLi"
      },
      "execution_count": null,
      "outputs": []
    },
    {
      "cell_type": "markdown",
      "source": [
        "Теперь, выведем полученные значения для показателя качества хромосомы в популяции и общее качество популяции после четырех этапов эволюции. Для этого, воспользуемся циклом по значениям переменной results."
      ],
      "metadata": {
        "id": "8z7gLIldZbZz"
      }
    },
    {
      "cell_type": "code",
      "source": [
        "for i in range(len(results[2])):\n",
        "    print(f'max_{i + 1}_step: {results[2][i][2]}')\n",
        "\n",
        "qualityArrZ = []\n",
        "for i in range(len(results[2])):\n",
        "    qualityArrZ += results[2][i][3]\n",
        "\n",
        "print(f'max Z: {max(qualityArrZ)}')"
      ],
      "metadata": {
        "colab": {
          "base_uri": "https://localhost:8080/"
        },
        "id": "ZH9Y-nKBZeNl",
        "outputId": "cefde4dd-aff2-4227-a3f0-56f40782ac48"
      },
      "execution_count": null,
      "outputs": [
        {
          "output_type": "stream",
          "name": "stdout",
          "text": [
            "max_1_step: 1.4857142857142858\n",
            "max_2_step: 1.4615384615384615\n",
            "max_3_step: 2.967032967032967\n",
            "max_4_step: 3.5384615384615383\n",
            "max Z: 1.0\n"
          ]
        }
      ]
    },
    {
      "cell_type": "markdown",
      "source": [
        "**Задание**\n",
        "\n",
        "Выполните по вариантам соответственно реализацию генетического алгоритма в соответствии с приложенными начальными данными. 7 ВАРИАНТ.\n",
        "\n",
        "<p align=\"center\">\n",
        "  <img src=\"https://i.ibb.co/QP4yr0r/image.png\" alt=\"Схематичное дерево\" style=\"display: block; margin: 0 auto;\">\n",
        "</p>"
      ],
      "metadata": {
        "id": "y88rwieJZyyZ"
      }
    },
    {
      "cell_type": "code",
      "source": [
        "# функция качества хромосомы\n",
        "def qZ(x, y):\n",
        "    return (x + 3 * y - 3) / (3 * x ** 2 + y ** 2 + 1)\n",
        "\n",
        "\n",
        "# сумма качества хромосом\n",
        "def qSumZ(Z):\n",
        "    return sum(Z)\n",
        "\n",
        "\n",
        "def exchangeScheme(oldX, oldY, sortedId):\n",
        "    x = [0 for i in range(4)]\n",
        "    y = [0 for i in range(4)]\n",
        "\n",
        "    x[2] = oldX[sortedId[2]]\n",
        "    x[3] = oldX[sortedId[2]]\n",
        "\n",
        "    x[0] = oldX[sortedId[0]]\n",
        "\n",
        "    x[1] = oldX[sortedId[1]]\n",
        "\n",
        "    y[0] = oldY[sortedId[2]]\n",
        "    y[1] = oldY[sortedId[2]]\n",
        "\n",
        "    y[2] = oldY[sortedId[0]]\n",
        "\n",
        "    y[3] = oldY[sortedId[1]]\n",
        "\n",
        "    return x, y\n",
        "\n",
        "\n",
        "def sorting(Z):\n",
        "    sortedId = sorted(range(len(Z)), key=lambda k: Z[k])\n",
        "    return sortedId\n",
        "\n",
        "\n",
        "# шаг эволюции\n",
        "def evoStep(x, y, z):\n",
        "    _, minId = min((value, id) for (id, value) in enumerate(z))\n",
        "    x = x[:]\n",
        "    y = y[:]\n",
        "    z = z[:]\n",
        "\n",
        "    x.pop(minId)\n",
        "    y.pop(minId)\n",
        "    z.pop(minId)\n",
        "\n",
        "    return x, y, z\n",
        "\n",
        "\n",
        "# шаги эволюции (конечная функция), по умолчанию 4 шага\n",
        "def evoSteps(x, y, steps_num=4):\n",
        "    results = []\n",
        "\n",
        "    for i in range(steps_num):\n",
        "        arrZ = [qZ(k, y[i]) for i, k in enumerate(x)]\n",
        "\n",
        "        x, y, z = evoStep(x, y, arrZ)\n",
        "\n",
        "        x, y = exchangeScheme(x, y, sorting(z))\n",
        "\n",
        "        results.append([x, y, qSumZ(arrZ), arrZ])\n",
        "\n",
        "    return x, y, results\n",
        "\n",
        "\n",
        "# объявление массивов хромосом\n",
        "x = [-5, -3, -2, 0]\n",
        "y = [-1, -2, 0, 1]\n",
        "\n",
        "results = evoSteps(x, y)\n",
        "\n",
        "for i in range(len(results[2])):\n",
        "    print(f'max_{i + 1}_step: {results[2][i][2]}')\n",
        "\n",
        "qualityArrZ = []\n",
        "for i in range(len(results[2])):\n",
        "    qualityArrZ += results[2][i][3]\n",
        "\n",
        "print(f'max Z: {max(qualityArrZ)}')"
      ],
      "metadata": {
        "colab": {
          "base_uri": "https://localhost:8080/"
        },
        "id": "dO6ibUBMa9YA",
        "outputId": "95293938-4e16-41c5-9d3f-69fa212ffb30"
      },
      "execution_count": null,
      "outputs": [
        {
          "output_type": "stream",
          "name": "stdout",
          "text": [
            "max_1_step: -0.9024725274725274\n",
            "max_2_step: -4.968383340797134\n",
            "max_3_step: -0.34338334079713384\n",
            "max_4_step: -0.1683833407971339\n",
            "max Z: 0.0\n"
          ]
        }
      ]
    },
    {
      "cell_type": "markdown",
      "source": [
        "# **Метод имитации отжига**"
      ],
      "metadata": {
        "id": "rAYk5D5YQKbP"
      }
    },
    {
      "cell_type": "markdown",
      "source": [
        "Алгоритм отжига – это метод оптимизации, который называется отжигом, или симуляцией восстановления (Simulated annealing). Как ясно из названия, метод поиска моделирует процесс восстановления. Восстановление – это физический процесс, который заключается в нагреве и последующем контролируемом охлаждении субстанции. В результате получается прочная кристаллическая структура, которая отличается от структуры с дефектами, образующейся при быстром беспорядочном охлаждении. Структура здесь представляет собой кодированное решение, а температура используется для того, чтобы указать, как и когда будут приниматься новые решения.\n",
        "\n",
        "Алгоритм имитации отжига включает следующие этапы:\n",
        "<p align=\"center\">\n",
        "  <img src=\"https://i.ibb.co/7Kthcr4/image.png\" alt=\"Схематичное дерево\" style=\"display: block; margin: 0 auto;\">\n",
        "</p>\n",
        "\n",
        "Метод отжига может быть эффективным при решении задач различных классов, требующих оптимизации. Ниже приводится их краткий список:\n",
        "1.\tсоздание пути;\n",
        "2.\tреконструкция изображения;\n",
        "3.\tназначение задач и планирование;\n",
        "4.\tразмещение сети;\n",
        "5.\tглобальная маршрутизация;\n",
        "6.\tобнаружение и распознавание визуальных объектов;\n",
        "7.\tразработка специальных цифровых фильтров.\n",
        "\n",
        "Поскольку метод отжига представляет собой процесс генерации случайных чисел, поиск решения с использованием данного алгоритма может занять значительное время. В некоторых случаях алгоритм вообще не находит решение или выбирает не самое оптимальное. Алгоритм отжига как способ выполнения процедур поиска и оптимизации. Данный метод является аналогом процесса нагревания тела до состояния плавления с последующим постепенным охлаждением. При высоких температурах поиск ведется по всему диапазону. При снижении температуры диапазон поиска уменьшается до небольшой области вокруг текущего решения.\n",
        "\n",
        "Рассмотрим решение задачи поиска оптимального маршрута на графе методом имитации отжига. Для этого, представим формальную постановку задачи и рассмотрим пример, который иллюстрирует алгоритм решения.\n",
        "\n",
        "Итак, необходимо найти длину гамильтонова цикла S_4 в полном графе K_6 после четырех циклов решения задачи методом отжига. Даны расстояния L_(i,j) между вершинами. Даны также: начальная последовательность вершин L_0, последовательность замен вершин Z и выпавшие при этом вероятности перехода P_k, k = 1,...,4.\n",
        "\n",
        "Переход на худшее (∆S_k=S_k-S_(k-1)>0) решение допустим, если P_*=100, где снижение температуры происходит по закону T_(k+1)=0.5T_k от T_1=100."
      ],
      "metadata": {
        "id": "4qZVIcErQPcO"
      }
    },
    {
      "cell_type": "markdown",
      "source": [
        "**1.2.1. Пример**\n",
        "\n",
        "Итак, начальные условия задачи представляют собой следующий граф с расстояниями между ребрами:\n",
        "\n",
        "<p align=\"center\">\n",
        "  <img src=\"https://i.ibb.co/dtY4ZDy/image.png\" alt=\"Граф\" style=\"display: block; margin: 0 auto;\">\n",
        "</p>"
      ],
      "metadata": {
        "id": "A__748LsSYW2"
      }
    },
    {
      "cell_type": "code",
      "source": [
        "import networkx as nx\n",
        "from math import e\n",
        "\n",
        "distances = [(1, 2, 20),\n",
        "             (1, 3, 40),\n",
        "             (1, 4, 42),\n",
        "             (1, 5, 33),\n",
        "             (1, 6, 21),\n",
        "             (2, 3, 26),\n",
        "             (2, 4, 38),\n",
        "             (2, 5, 42),\n",
        "             (2, 6, 17),\n",
        "             (3, 4, 22),\n",
        "             (3, 5, 43),\n",
        "             (3, 6, 21),\n",
        "             (4, 5, 27),\n",
        "             (4, 6, 22),\n",
        "             (5, 6, 26)]  # длины рёбер\n",
        "\n",
        "V = [1, 4, 5, 2, 6, 3, 1]  # последовательность прохождения маршрута\n",
        "Z = [(3, 4),\n",
        "     (4, 6),\n",
        "     (5, 2),\n",
        "     (6, 2)]  # последовательность замен вершин\n",
        "P = [49, 54, 43, 54]  # случайные числа, выпавшие в процессе счёта\n",
        "\n",
        "T = 100  # начальная температура\n",
        "\n",
        "\n",
        "# функция вероятности\n",
        "def probability(delta, T):\n",
        "    return 100 * e ** (-delta / T)\n",
        "\n",
        "\n",
        "# функция изменения температуры\n",
        "def reductTemp(prevT):\n",
        "    nextT = .5 * prevT\n",
        "    return nextT\n",
        "\n",
        "\n",
        "graph = nx.Graph()  # создание пустого графа\n",
        "graph.add_weighted_edges_from(distances)  # добавление весов рёбер\n",
        "\n",
        "# отрисовка графа с заданными вершинами\n",
        "nx.draw_kamada_kawai(graph, node_color='#fb7258', node_size=2000, with_labels=True)"
      ],
      "metadata": {
        "colab": {
          "base_uri": "https://localhost:8080/",
          "height": 516
        },
        "id": "6Z-P4ggNSwyh",
        "outputId": "1b911bad-cade-4f2c-9bd6-a15fc9b59a8e"
      },
      "execution_count": 1,
      "outputs": [
        {
          "output_type": "display_data",
          "data": {
            "text/plain": [
              "<Figure size 640x480 with 1 Axes>"
            ],
            "image/png": "[encoded data removed]"
          },
          "metadata": {}
        }
      ]
    },
    {
      "cell_type": "code",
      "source": [
        "# вычисление длины ребра\n",
        "def edgeLength(i, j, distances, roundTrip=True):\n",
        "    if roundTrip:\n",
        "        return max([(item[2] if (item[0] == i and item[1] == j) or (item[1] == i and item[0] == j) else -1)\n",
        "                    for item in distances])\n",
        "    else:\n",
        "        return max([(item[2] if (item[0] == i and item[1] == j) else -1) for item in distances])\n",
        "\n",
        "\n",
        "# вычисление длины маршрута\n",
        "def routeLength(V, distances):\n",
        "    edges = []\n",
        "\n",
        "    for i in range(len(V) - 1):\n",
        "        edges.append(edgeLength(V[i], V[i + 1], distances))\n",
        "\n",
        "    return sum(edges)\n",
        "\n",
        "\n",
        "# одна перестановка в пути\n",
        "def routeOneReplacement(arrV, Z, replacementByName=True):\n",
        "    decrement = 1 if replacementByName else 0\n",
        "\n",
        "    arrV[Z[0] - decrement], arrV[Z[1] - decrement] = arrV[Z[1] - decrement], arrV[Z[0] - decrement]\n",
        "\n",
        "    return arrV\n",
        "\n",
        "\n",
        "# перестановка в пути\n",
        "def routeReplacement(V, Z):\n",
        "    for z in Z:\n",
        "        V = routeOneReplacement(V, z)\n",
        "    return V\n",
        "\n",
        "\n",
        "# выбор нужного пути методом отжига\n",
        "def chooseRoute(distances, V, Z, T, P):\n",
        "    sumLength = routeLength(V, distances)  # нахождение длины пути\n",
        "    arrSum = [sumLength]  # массив сумм длин\n",
        "\n",
        "    # циклы методом отжига\n",
        "    for i in range(len(Z)):\n",
        "        newV = routeOneReplacement(V[:], Z[i])  # новый маршрут после перестановки\n",
        "        newS = routeLength(newV, distances)  # длина нового маршрута\n",
        "        arrSum.append(newS)\n",
        "        deltaS = newS - sumLength  # разница между длиной нового и старого маршрутов\n",
        "\n",
        "        # в случае, если разница между длинами больше 0, то вычисляется вероятность\n",
        "        if deltaS > 0:\n",
        "            p = probability(deltaS, T)  # подсчёт вероятности\n",
        "\n",
        "            # если заданная вероятность попадает в интервал от 0 до p, то новый маршрут выбирается\n",
        "            if p > P[i]:\n",
        "                V = newV\n",
        "                sumLength = newS\n",
        "        else:\n",
        "            V = newV\n",
        "            sumLength = newS\n",
        "\n",
        "        T = reductTemp(T)  # вычисление температуры\n",
        "\n",
        "    return V, arrSum\n",
        "\n",
        "\n",
        "# отрисовка графа по заданному маршруту\n",
        "def drawRouteGraph(distances, bestRoute):\n",
        "    newDistances = []\n",
        "    # прохождение по вектору\n",
        "    for i in range(len(bestRoute) - 1):\n",
        "        for distance in distances:\n",
        "            if distance[0] == bestRoute[i] and distance[1] == bestRoute[i + 1] or distance[1] == bestRoute[i] and \\\n",
        "                    distance[0] == bestRoute[i + 1]:\n",
        "                newDistances.append(distance)\n",
        "\n",
        "    graph = nx.Graph()  # создание пустого графа\n",
        "\n",
        "    graph.add_weighted_edges_from(newDistances)  # добавление весов рёбер\n",
        "    # отрисовка графа с заданными вершинами\n",
        "    nx.draw_kamada_kawai(graph, node_color='#fb7258', node_size=2000, with_labels=True)\n",
        "\n",
        "\n",
        "bestRoute, arrLength = chooseRoute(distances, V, Z, T, P)\n",
        "\n",
        "print(f'Лучший выбранный маршрут: {bestRoute}')\n",
        "print(f'Длина лучшего выбранного маршрута: {routeLength(bestRoute, distances)}')\n",
        "print(f'Длины всех рассмотренных маршрутов: {arrLength}')\n",
        "\n",
        "drawRouteGraph(distances, bestRoute)  # отрисовка лучшего маршрута"
      ],
      "metadata": {
        "colab": {
          "base_uri": "https://localhost:8080/",
          "height": 568
        },
        "id": "ja09kdNpTNwz",
        "outputId": "3829fa03-2fda-4a9d-f147-f2488a366705"
      },
      "execution_count": 2,
      "outputs": [
        {
          "output_type": "stream",
          "name": "stdout",
          "text": [
            "Лучший выбранный маршрут: [1, 6, 2, 3, 4, 5, 1]\n",
            "Длина лучшего выбранного маршрута: 146\n",
            "Длины всех рассмотренных маршрутов: [189, 209, 186, 146, 166]\n"
          ]
        },
        {
          "output_type": "display_data",
          "data": {
            "text/plain": [
              "<Figure size 640x480 with 1 Axes>"
            ],
            "image/png": "[encoded data removed]"
          },
          "metadata": {}
        }
      ]
    },
    {
      "cell_type": "markdown",
      "source": [
        "**Задание**\n",
        "\n",
        "Найти длину гамильтонова цикла S4 в полном графе K6 после четырех циклов решения задачи методом отжига по вариантам ниже. 7 ВАРИАНТ.\n",
        "\n",
        "<p align=\"center\">\n",
        "  <img src=\"https://i.ibb.co/ThS5yQW/image.png\" alt=\"Схематичное дерево\" style=\"display: block; margin: 0 auto;\">\n",
        "</p>"
      ],
      "metadata": {
        "id": "IMbsBJ_zTtH6"
      }
    },
    {
      "cell_type": "code",
      "source": [
        "distances = [(1, 2, 24),\n",
        "             (1, 3, 41),\n",
        "             (1, 4, 36),\n",
        "             (1, 5, 22),\n",
        "             (1, 6, 19),\n",
        "             (2, 3, 21),\n",
        "             (2, 4, 33),\n",
        "             (2, 5, 33),\n",
        "             (2, 6, 14),\n",
        "             (3, 4, 27),\n",
        "             (3, 5, 39),\n",
        "             (3, 6, 23),\n",
        "             (4, 5, 20),\n",
        "             (4, 6, 20),\n",
        "             (5, 6, 29)]  # длины рёбер\n",
        "\n",
        "V = [1, 3, 4, 5, 6, 2, 1]  # последовательность прохождения маршрута\n",
        "Z = [(3, 4),\n",
        "     (4, 6),\n",
        "     (5, 2),\n",
        "     (6, 2)]  # последовательность замен вершин\n",
        "P = [33, 82, 51, 76]  # случайные числа, выпавшие в процессе счёта\n",
        "\n",
        "T = 100  # начальная температура\n",
        "\n",
        "\n",
        "# функция вероятности\n",
        "def probability(delta, T):\n",
        "    return 100 * e ** (-delta / T)\n",
        "\n",
        "\n",
        "# функция изменения температуры\n",
        "def reductTemp(prevT):\n",
        "    nextT = .5 * prevT\n",
        "    return nextT\n",
        "\n",
        "\n",
        "# вычисление длины ребра\n",
        "def edgeLength(i, j, distances, roundTrip=True):\n",
        "    if roundTrip:\n",
        "        return max([(item[2] if (item[0] == i and item[1] == j) or (item[1] == i and item[0] == j) else -1)\n",
        "                    for item in distances])\n",
        "    else:\n",
        "        return max([(item[2] if (item[0] == i and item[1] == j) else -1) for item in distances])\n",
        "\n",
        "\n",
        "# вычисление длины маршрута\n",
        "def routeLength(V, distances):\n",
        "    edges = []\n",
        "\n",
        "    for i in range(len(V) - 1):\n",
        "        edges.append(edgeLength(V[i], V[i + 1], distances))\n",
        "\n",
        "    return sum(edges)\n",
        "\n",
        "\n",
        "# одна перестановка в пути\n",
        "def routeOneReplacement(arrV, Z, replacementByName=True):\n",
        "    decrement = 1 if replacementByName else 0\n",
        "\n",
        "    arrV[Z[0] - decrement], arrV[Z[1] - decrement] = arrV[Z[1] - decrement], arrV[Z[0] - decrement]\n",
        "\n",
        "    return arrV\n",
        "\n",
        "\n",
        "# перестановка в пути\n",
        "def routeReplacement(V, Z):\n",
        "    for z in Z:\n",
        "        V = routeOneReplacement(V, z)\n",
        "    return V\n",
        "\n",
        "\n",
        "# выбор нужного пути методом отжига\n",
        "def chooseRoute(distances, V, Z, T, P):\n",
        "    sumLength = routeLength(V, distances)  # нахождение длины пути\n",
        "    arrSum = [sumLength]  # массив сумм длин\n",
        "\n",
        "    # циклы методом отжига\n",
        "    for i in range(len(Z)):\n",
        "        newV = routeOneReplacement(V[:], Z[i])  # новый маршрут после перестановки\n",
        "        newS = routeLength(newV, distances)  # длина нового маршрута\n",
        "        arrSum.append(newS)\n",
        "        deltaS = newS - sumLength  # разница между длиной нового и старого маршрутов\n",
        "\n",
        "        # в случае, если разница между длинами больше 0, то вычисляется вероятность\n",
        "        if deltaS > 0:\n",
        "            p = probability(deltaS, T)  # подсчёт вероятности\n",
        "\n",
        "            # если заданная вероятность попадает в интервал от 0 до p, то новый маршрут выбирается\n",
        "            if p > P[i]:\n",
        "                V = newV\n",
        "                sumLength = newS\n",
        "        else:\n",
        "            V = newV\n",
        "            sumLength = newS\n",
        "\n",
        "        T = reductTemp(T)  # вычисление температуры\n",
        "\n",
        "    return V, arrSum\n",
        "\n",
        "\n",
        "# отрисовка графа по заданному маршруту\n",
        "def drawRouteGraph(distances, bestRoute):\n",
        "    newDistances = []\n",
        "    # прохождение по вектору\n",
        "    for i in range(len(bestRoute) - 1):\n",
        "        for distance in distances:\n",
        "            if distance[0] == bestRoute[i] and distance[1] == bestRoute[i + 1] or distance[1] == bestRoute[i] and \\\n",
        "                    distance[0] == bestRoute[i + 1]:\n",
        "                newDistances.append(distance)\n",
        "\n",
        "    graph = nx.Graph()  # создание пустого графа\n",
        "\n",
        "    graph.add_weighted_edges_from(newDistances)  # добавление весов рёбер\n",
        "    # отрисовка графа с заданными вершинами\n",
        "    nx.draw_kamada_kawai(graph, node_color='#fb7258', node_size=2000, with_labels=True)\n",
        "\n",
        "\n",
        "bestRoute, arrLength = chooseRoute(distances, V, Z, T, P)\n",
        "\n",
        "print(f'Лучший выбранный маршрут: {bestRoute}')\n",
        "print(f'Длина лучшего выбранного маршрута: {routeLength(bestRoute, distances)}')\n",
        "print(f'Длины всех рассмотренных маршрутов: {arrLength}')\n",
        "\n",
        "drawRouteGraph(distances, bestRoute)  # отрисовка лучшего маршрута"
      ],
      "metadata": {
        "colab": {
          "base_uri": "https://localhost:8080/",
          "height": 568
        },
        "id": "96mcZ-ajU6Dw",
        "outputId": "8ad49eea-3d3b-4b99-a50a-7cf18f23de5d"
      },
      "execution_count": 3,
      "outputs": [
        {
          "output_type": "stream",
          "name": "stdout",
          "text": [
            "Лучший выбранный маршрут: [1, 6, 5, 4, 3, 2, 1]\n",
            "Длина лучшего выбранного маршрута: 140\n",
            "Длины всех рассмотренных маршрутов: [155, 158, 183, 140, 146]\n"
          ]
        },
        {
          "output_type": "display_data",
          "data": {
            "text/plain": [
              "<Figure size 640x480 with 1 Axes>"
            ],
            "image/png": "[encoded data removed]"
          },
          "metadata": {}
        }
      ]
    }
  ]
}